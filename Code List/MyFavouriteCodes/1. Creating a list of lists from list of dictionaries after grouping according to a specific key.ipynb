{
 "cells": [
  {
   "cell_type": "markdown",
   "metadata": {},
   "source": [
    "### Creating a List of Lists From List of Dictionaries After Grouping According to a Specific Key"
   ]
  },
  {
   "cell_type": "markdown",
   "metadata": {},
   "source": [
    "<font color='gray'> \n",
    "It's written by Engin Deniz Alpman.\n",
    "</font>"
   ]
  },
  {
   "cell_type": "markdown",
   "metadata": {},
   "source": [
    "#### Problem"
   ]
  },
  {
   "cell_type": "markdown",
   "metadata": {},
   "source": [
    "We have a list of dictionaries. We want to group that according to a specific key and return it as a list of lists."
   ]
  },
  {
   "cell_type": "markdown",
   "metadata": {},
   "source": [
    "**Input**"
   ]
  },
  {
   "cell_type": "code",
   "execution_count": 7,
   "metadata": {},
   "outputs": [],
   "source": [
    "token = [{'name': 'Mark', 'age': 5},\n",
    "{'name': 'Dick', 'age': 12},\n",
    "{'name': 'Dick', 'age': 8},\n",
    "{'name': 'Pam', 'age': 7},\n",
    "{'name': 'Tom', 'age': 10},\n",
    "{'name': 'Tom', 'age': 9},\n",
    "{'name': 'Tom', 'age': 2}]"
   ]
  },
  {
   "cell_type": "markdown",
   "metadata": {},
   "source": [
    "**Output**"
   ]
  },
  {
   "cell_type": "code",
   "execution_count": null,
   "metadata": {},
   "outputs": [],
   "source": [
    "[[{'name': 'Mark', 'age': 5}],\n",
    " [{'name': 'Dick', 'age': 12}, {'name': 'Dick', 'age': 8}],\n",
    " [{'name': 'Pam', 'age': 7}],\n",
    " [{'name': 'Tom', 'age': 10},\n",
    "  {'name': 'Tom', 'age': 9},\n",
    "  {'name': 'Tom', 'age': 2}]]"
   ]
  },
  {
   "cell_type": "code",
   "execution_count": 8,
   "metadata": {},
   "outputs": [],
   "source": [
    "def find_same_name(l):\n",
    "    added_names = set()\n",
    "    same_name_indexes = {}\n",
    "    for i in range(len(l)):\n",
    "        d = l[i]\n",
    "        name = d[\"name\"]\n",
    "        if name not in added_names:\n",
    "            same_name_indexes[name] = [i]\n",
    "            added_names.add(name)\n",
    "            for j in range(i+1, len(l)):\n",
    "                d2 = l[j]\n",
    "                name2 = d2[\"name\"]\n",
    "                if name2 == name:\n",
    "                    same_name_indexes[name].append(j)\n",
    "                    \n",
    "    return same_name_indexes\n",
    "        "
   ]
  },
  {
   "cell_type": "code",
   "execution_count": 9,
   "metadata": {},
   "outputs": [],
   "source": [
    "def group_same_name(names_list):\n",
    "    same_name_dict = find_same_name(names_list)\n",
    "    \n",
    "    l = []\n",
    "    for k in same_name_dict:\n",
    "\n",
    "        value = same_name_dict[k]\n",
    "        l2 = []\n",
    "        for idx in value:\n",
    "            l2.append(names_list[idx])\n",
    "        l.append(l2)\n",
    "        \n",
    "    return l"
   ]
  },
  {
   "cell_type": "code",
   "execution_count": 10,
   "metadata": {},
   "outputs": [
    {
     "data": {
      "text/plain": [
       "[[{'name': 'Mark', 'age': 5}],\n",
       " [{'name': 'Dick', 'age': 12}, {'name': 'Dick', 'age': 8}],\n",
       " [{'name': 'Pam', 'age': 7}],\n",
       " [{'name': 'Tom', 'age': 10},\n",
       "  {'name': 'Tom', 'age': 9},\n",
       "  {'name': 'Tom', 'age': 2}]]"
      ]
     },
     "execution_count": 10,
     "metadata": {},
     "output_type": "execute_result"
    }
   ],
   "source": [
    "group_same_name(token)"
   ]
  }
 ],
 "metadata": {
  "kernelspec": {
   "display_name": "Python 3",
   "language": "python",
   "name": "python3"
  },
  "language_info": {
   "codemirror_mode": {
    "name": "ipython",
    "version": 3
   },
   "file_extension": ".py",
   "mimetype": "text/x-python",
   "name": "python",
   "nbconvert_exporter": "python",
   "pygments_lexer": "ipython3",
   "version": "3.7.6"
  }
 },
 "nbformat": 4,
 "nbformat_minor": 2
}
