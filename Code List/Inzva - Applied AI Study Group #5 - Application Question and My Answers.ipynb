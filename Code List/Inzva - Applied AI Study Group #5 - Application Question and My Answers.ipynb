{
 "cells": [
  {
   "cell_type": "markdown",
   "metadata": {},
   "source": [
    "<font color='green'> \n",
    "**Inzva - Applied AI Study Group #5 - Application Question and My Answers**\n",
    "</font>"
   ]
  },
  {
   "cell_type": "markdown",
   "metadata": {},
   "source": [
    "Problem: [Fantastic Beasts in Beykoz Kundura](https://www.hackerrank.com/contests/applied-ai-5-qualification/challenges/fantastic-beasts-in-beykoz-kundura)"
   ]
  },
  {
   "cell_type": "markdown",
   "metadata": {},
   "source": [
    "### Problem"
   ]
  },
  {
   "cell_type": "markdown",
   "metadata": {},
   "source": [
    "Note:\n",
    "\n",
    "Reading contest questions without seeing the examples might be tiring. Try to **check the example at the bottom of the page,** and also the samples **(Sample Input 0, Sample Output 0** ... ), to compherend the question more easily.\n",
    "\n",
    "**We recommend you to solve this question using Python3, but we will not prevent you from using any other available languages**\n",
    "___\n",
    "\n",
    "Bored of using traditional magic for everything, Harry and Hermione decided to learn about some Muggle magic that allows them to talk to machines: Coding.\n",
    "\n",
    "After they honed their coding skills a bit, they joined inzva commumity, which they noticed, was full of fantastic beasts. Hermione has identified the different beasts in inzva with her computer vision model, and that this model aggregates info on each beast in a json file. She tells Harry that he can use this JSON file to create his scrapbook.\n",
    "\n",
    "Harry wants his scrapbook to be created in a particular way, however he does not know how to process this JSON file to form his scrapbook properly. Can you help Harry with writing his processing code?\n",
    "\n",
    "___\n",
    "\n",
    "Here is some information about the beasts, and their attributes:\n",
    "\n",
    "* There are  types of beasts: fire, water, earth, air, divine, dark, electric, colossal.\n",
    "\n",
    "* Each beast has an age between 1 and 1000.\n",
    "\n",
    "* Each beast has a unique name.\n",
    "\n",
    "* Each beast has its own roar. A roar is what a beasts says, similar to cats saying meow.\n",
    "\n",
    "There are N beasts in the JSON file. RM is the maximum number of words for any beast in the JSON file.\n",
    "\n",
    "___\n",
    "\n",
    "Harry wants his scrapbook to be formed within particular rules:\n",
    "\n",
    "From each type such as fire, water, air etc. a maximum of T beasts will be included in the scrapbook. (T beasts from fire category, T beasts from water category ...)\n",
    "\n",
    "This T beast free space has a priority for elder beasts. If the T beast space is not enough for all beasts in a category to be included, only the oldest beasts will make it inside the scrapbook. (Oldest T beasts from fire category, oldest T beasts from water category ...)\n",
    "\n",
    "There is also a space for each beast’s roar. If the roar is longer than R words, only the first R  words of the roar will make it into the scrapbook, for each beast. (R words of roar for the first beast in the scrapbook, R words of roar for the first beast in the scrapbook ...)\n",
    "\n",
    "If the roar is shorter than R words, free space remaining for the roar will be filled with the word \\, as many as the length of the free space.\n",
    "\n",
    "___\n",
    "\n",
    "**Example: (Check here to understand more easily!)**\n",
    "\n",
    "Let's say there are 2 beasts of fire, and 1 beast of electric in the inzva campus (in the JSON).\n",
    "\n",
    "Also let's assume the scrapbook parameters are T=1, and R=5.\n",
    "\n",
    "And, the roars of each beast are given as:\n",
    "\n",
    "MO! kurr se hua ARR!!! hart re MO! ARR say hart say ARR re arr hua hua ARR\n",
    "\n",
    "arr say nar\n",
    "\n",
    "nar\n",
    "\n",
    "**According to the info above:**\n",
    "\n",
    "Only the oldest fire beast will make it into the scrapbook, since there is only 1 unit of space for each beast type.\n",
    "\n",
    "In total, one fire beast, and one electric beast will be in the scrapbook.\n",
    "\n",
    "Roars will be truncated/padded into 5 words since , as this:\n",
    "\n",
    "MO! kurr se hua ARR!!!\n",
    "arr say nar <SILENCE> <SILENCE>\n",
    "nar <SILENCE> <SILENCE> <SILENCE> <SILENCE>\n",
    "    \n",
    "**Note: This example is exactly same as Sample Input 0. Check there to understand better.**"
   ]
  },
  {
   "cell_type": "markdown",
   "metadata": {},
   "source": [
    "___\n",
    "**Input Format**\n",
    "\n",
    "First line of the input will include T and R seperated by a space. Second line of the input is a json file, including beast data. (you can convert the second line to a list of dictionaries, using python's json module)\n",
    "\n",
    "**Constraints**\n",
    "\n",
    "1<= N <= 4000\n",
    "\n",
    "1<= RM <= 10000\n",
    "\n",
    "1<= T <= 250\n",
    "\n",
    "1<= R <=1000\n",
    "\n",
    "**Output Format**\n",
    "\n",
    "Output will be in a tsv (tab seperated values) format. It is the same format as csv, only difference being the seperator token being tab.\n",
    "\n",
    "In the output:\n",
    "\n",
    "* Columns should be ordered as:\n",
    "\n",
    "    * beast_type\n",
    "\n",
    "    * beast_age\n",
    "\n",
    "    * what_does_the_beast_say\n",
    "\n",
    "    * beast_name\n",
    "\n",
    "* First line of the output should be column names themselves (header of the tsv)\n",
    "\n",
    "\n",
    "* In the other lines, beasts values should be written\n",
    "\n",
    "\n",
    "* The tsv should be sorted according to the types (alphabetically)\n",
    "\n",
    "\n",
    "* The tsv should be also sorted according to the ages, elder beasts coming first.\n",
    "\n",
    "    * This sorting is of second importance. An air beast will always come before a colossal beast, no matter their ages.\n",
    "\n",
    "    * Between two air beasts, older one will come first."
   ]
  },
  {
   "cell_type": "markdown",
   "metadata": {},
   "source": [
    "**Sample Input 0**"
   ]
  },
  {
   "cell_type": "markdown",
   "metadata": {},
   "source": [
    "1 5\n",
    "\n",
    "[{\"beast_type\": \"fire\", \"beast_age\": 250, \"what_does_the_beast_say\": \"MO! kurr se hua ARR!!! hart re MO! ARR say hart say ARR re arr hua hua ARR\", \"beast_name\": \"Amathaon\"}, {\"beast_type\": \"electric\", \"beast_age\": 172, \"what_does_the_beast_say\": \"arr say nar\", \"beast_name\": \"Ardhanarishvara\"}, {\"beast_type\": \"fire\", \"beast_age\": 34, \"what_does_the_beast_say\": \"nar\", \"beast_name\": \"Pegasos\"}]"
   ]
  },
  {
   "cell_type": "markdown",
   "metadata": {},
   "source": [
    "**Sample Output 0**"
   ]
  },
  {
   "cell_type": "markdown",
   "metadata": {},
   "source": [
    "    beast_type    beast_age    what_does_the_beast_say    beast_name    \n",
    "    electric    172    arr say nar <SILENCE> <SILENCE>    Ardhanarishvara    \n",
    "    fire    250    MO! kurr se hua ARR!!!    Amathaon"
   ]
  },
  {
   "cell_type": "markdown",
   "metadata": {},
   "source": [
    "**Sample Input 1**"
   ]
  },
  {
   "cell_type": "markdown",
   "metadata": {},
   "source": [
    "2 7\n",
    "\n",
    "[{\"beast_type\": \"water\", \"beast_age\": 55, \"what_does_the_beast_say\": \"say say hua arr say kurr kurr kurr\", \"beast_name\": \"Yantra\"}, {\"beast_type\": \"water\", \"beast_age\": 211, \"what_does_the_beast_say\": \"say ARR!!! re arr hua\", \"beast_name\": \"Acna\"}, {\"beast_type\": \"water\", \"beast_age\": 28, \"what_does_the_beast_say\": \"kurr say hua re hua ARR!!! hart kurr hart re kurr hart hart arr hua arr ARR ARR!!! ARR say arr kurr arr hua ARR ARR arr se hua\", \"beast_name\": \"Mimi\"}, {\"beast_type\": \"water\", \"beast_age\": 187, \"what_does_the_beast_say\": \"MO! ARR!!! re nar hart MO! hart\", \"beast_name\": \"Gauri\"}, {\"beast_type\": \"fire\", \"beast_age\": 17, \"what_does_the_beast_say\": \"hua hua kurr hart ARR!!! arr hart MO! hua arr hua nar MO! nar kurr hart\", \"beast_name\": \"Hirany\\u00e2ksha\"}, {\"beast_type\": \"fire\", \"beast_age\": 135, \"what_does_the_beast_say\": \"ARR!!! hart nar kurr MO! se ARR re MO! nar hart ARR!!!\", \"beast_name\": \"Taygete\"}, {\"beast_type\": \"fire\", \"beast_age\": 264, \"what_does_the_beast_say\": \"se re arr re hart ARR!!! kurr ARR!!! say MO! nar MO! MO! hua ARR se nar hua nar MO! ARR say re hart nar MO! ARR!!! arr se say ARR re ARR nar re hart say re kurr hart hua hua nar nar say ARR!!! ARR!!! re ARR MO! say kurr MO! ARR!!!\", \"beast_name\": \"Tem\"}, {\"beast_type\": \"fire\", \"beast_age\": 48, \"what_does_the_beast_say\": \"arr ARR!!! say\", \"beast_name\": \"Erinys\"}, {\"beast_type\": \"air\", \"beast_age\": 9, \"what_does_the_beast_say\": \"hart nar hart ARR!!! re re se say se say se MO! se arr ARR se nar ARR!!! hua MO! say ARR say nar se hart hua say\", \"beast_name\": \"Emain Ablach\"}, {\"beast_type\": \"air\", \"beast_age\": 35, \"what_does_the_beast_say\": \"hua ARR!!! ARR arr arr se ARR!!! nar\", \"beast_name\": \"Mudungkala\"}]"
   ]
  },
  {
   "cell_type": "markdown",
   "metadata": {},
   "source": [
    "**Sample Output 1**"
   ]
  },
  {
   "cell_type": "markdown",
   "metadata": {},
   "source": [
    "    beast_type    beast_age    what_does_the_beast_say    beast_name    \n",
    "    air    35    hua ARR!!! ARR arr arr se ARR!!!    Mudungkala    \n",
    "    air    9    hart nar hart ARR!!! re re se    Emain Ablach    \n",
    "    fire    264    se re arr re hart ARR!!! kurr    Tem    \n",
    "    fire    135    ARR!!! hart nar kurr MO! se ARR    Taygete    \n",
    "    water    211    say ARR!!! re arr hua <SILENCE> <SILENCE>    Acna    \n",
    "    water    187    MO! ARR!!! re nar hart MO! hart    Gauri  "
   ]
  },
  {
   "cell_type": "markdown",
   "metadata": {},
   "source": [
    "**Sample Input 2**"
   ]
  },
  {
   "cell_type": "markdown",
   "metadata": {},
   "source": [
    "3 6\n",
    "\n",
    "[{\"beast_type\": \"fire\", \"beast_age\": 58, \"what_does_the_beast_say\": \"ARR!!! arr MO! hart nar nar\", \"beast_name\": \"Mani\"}, {\"beast_type\": \"dark\", \"beast_age\": 137, \"what_does_the_beast_say\": \"hua ARR!!! hua MO! ARR ARR!!! ARR!!! kurr\", \"beast_name\": \"Ibis\"}, {\"beast_type\": \"water\", \"beast_age\": 198, \"what_does_the_beast_say\": \"ARR!!! hua\", \"beast_name\": \"Ulupoka\"}, {\"beast_type\": \"water\", \"beast_age\": 166, \"what_does_the_beast_say\": \"nar re nar se MO! kurr say\", \"beast_name\": \"Astrild\"}, {\"beast_type\": \"dark\", \"beast_age\": 56, \"what_does_the_beast_say\": \"arr say\", \"beast_name\": \"Five Ms\"}, {\"beast_type\": \"earth\", \"beast_age\": 87, \"what_does_the_beast_say\": \"ARR hart\", \"beast_name\": \"Parashurama\"}, {\"beast_type\": \"divine\", \"beast_age\": 174, \"what_does_the_beast_say\": \"kurr\", \"beast_name\": \"Hemen\"}, {\"beast_type\": \"electric\", \"beast_age\": 43, \"what_does_the_beast_say\": \"re arr ARR hua MO! ARR!!!\", \"beast_name\": \"Toi-Mata\"}, {\"beast_type\": \"colossal\", \"beast_age\": 62, \"what_does_the_beast_say\": \"se ARR!!! hart MO! kurr MO! ARR!!! arr ARR!!! kurr hua nar hart\", \"beast_name\": \"Morimi\"}, {\"beast_type\": \"water\", \"beast_age\": 3, \"what_does_the_beast_say\": \"hart kurr arr nar arr hart\", \"beast_name\": \"Mishibijiw\"}, {\"beast_type\": \"electric\", \"beast_age\": 33, \"what_does_the_beast_say\": \"re se\", \"beast_name\": \"Chalmecatecuhtli\"}, {\"beast_type\": \"dark\", \"beast_age\": 13, \"what_does_the_beast_say\": \"re MO! re hart se se\", \"beast_name\": \"Fama\"}, {\"beast_type\": \"earth\", \"beast_age\": 34, \"what_does_the_beast_say\": \"hart MO!\", \"beast_name\": \"Aedos\"}, {\"beast_type\": \"electric\", \"beast_age\": 115, \"what_does_the_beast_say\": \"hua hua MO! nar arr ARR!!! hua nar\", \"beast_name\": \"Rusalka\"}, {\"beast_type\": \"colossal\", \"beast_age\": 272, \"what_does_the_beast_say\": \"ARR arr arr hua\", \"beast_name\": \"Ueuecoyotl\"}, {\"beast_type\": \"dark\", \"beast_age\": 4, \"what_does_the_beast_say\": \"hart ARR arr MO! arr kurr\", \"beast_name\": \"Kamui\"}, {\"beast_type\": \"earth\", \"beast_age\": 54, \"what_does_the_beast_say\": \"say hart kurr\", \"beast_name\": \"Sep\"}, {\"beast_type\": \"fire\", \"beast_age\": 145, \"what_does_the_beast_say\": \"hua hua kurr re MO! say hua MO! nar arr ARR!!! say re se ARR!!!\", \"beast_name\": \"Tefen\"}, {\"beast_type\": \"earth\", \"beast_age\": 145, \"what_does_the_beast_say\": \"arr re\", \"beast_name\": \"Chac-Mool\"}, {\"beast_type\": \"fire\", \"beast_age\": 8, \"what_does_the_beast_say\": \"arr\", \"beast_name\": \"F\\u00faamnach\"}]"
   ]
  },
  {
   "cell_type": "markdown",
   "metadata": {},
   "source": [
    "**Sample Output 2**"
   ]
  },
  {
   "cell_type": "markdown",
   "metadata": {},
   "source": [
    "    beast_type    beast_age    what_does_the_beast_say    beast_name    \n",
    "    colossal    272    ARR arr arr hua <SILENCE> <SILENCE>    Ueuecoyotl    \n",
    "    colossal    62    se ARR!!! hart MO! kurr MO!    Morimi    \n",
    "    dark    137    hua ARR!!! hua MO! ARR ARR!!!    Ibis    \n",
    "    dark    56    arr say <SILENCE> <SILENCE> <SILENCE> <SILENCE>    Five Ms    \n",
    "    dark    13    re MO! re hart se se    Fama    \n",
    "    divine    174    kurr <SILENCE> <SILENCE> <SILENCE> <SILENCE> <SILENCE>    Hemen    \n",
    "    earth    145    arr re <SILENCE> <SILENCE> <SILENCE> <SILENCE>    Chac-Mool    \n",
    "    earth    87    ARR hart <SILENCE> <SILENCE> <SILENCE> <SILENCE>    Parashurama    \n",
    "    earth    54    say hart kurr <SILENCE> <SILENCE> <SILENCE>    Sep    \n",
    "    electric    115    hua hua MO! nar arr ARR!!!    Rusalka    \n",
    "    electric    43    re arr ARR hua MO! ARR!!!    Toi-Mata    \n",
    "    electric    33    re se <SILENCE> <SILENCE> <SILENCE> <SILENCE>    Chalmecatecuhtli    \n",
    "    fire    145    hua hua kurr re MO! say    Tefen    \n",
    "    fire    58    ARR!!! arr MO! hart nar nar    Mani    \n",
    "    fire    8    arr <SILENCE> <SILENCE> <SILENCE> <SILENCE> <SILENCE>    F��amnach    \n",
    "    water    198    ARR!!! hua <SILENCE> <SILENCE> <SILENCE> <SILENCE>    Ulupoka    \n",
    "    water    166    nar re nar se MO! kurr    Astrild    \n",
    "    water    3    hart kurr arr nar arr hart    Mishibijiw "
   ]
  },
  {
   "cell_type": "markdown",
   "metadata": {},
   "source": [
    "**Sample Input 3**"
   ]
  },
  {
   "cell_type": "markdown",
   "metadata": {},
   "source": [
    "5 32\n",
    "\n",
    "[{\"beast_type\": \"divine\", \"beast_age\": 29, \"what_does_the_beast_say\": \"ARR kurr ARR!!!\", \"beast_name\": \"Lejman\"}, {\"beast_type\": \"electric\", \"beast_age\": 188, \"what_does_the_beast_say\": \"se re hart arr ARR say se kurr se say say\", \"beast_name\": \"Aether\"}, {\"beast_type\": \"air\", \"beast_age\": 62, \"what_does_the_beast_say\": \"nar kurr arr MO! hart say ARR ARR!!! kurr nar ARR!!! re arr re MO! arr hart arr arr kurr hart\", \"beast_name\": \"Hastseoltoi\"}, {\"beast_type\": \"water\", \"beast_age\": 24, \"what_does_the_beast_say\": \"ARR!!! kurr hua hua hart hart nar MO! re say kurr ARR!!! ARR!!! MO! re se hua nar hua se say hua hart arr nar hart kurr hua hua hart nar MO!\", \"beast_name\": \"Moses\"}, {\"beast_type\": \"air\", \"beast_age\": 39, \"what_does_the_beast_say\": \"MO! MO! ARR!!! hua ARR ARR!!! hart ARR!!! ARR MO! hua nar arr hart kurr hart re ARR!!! arr nar hua say say arr MO! arr se nar re ARR!!! nar arr hart ARR!!! kurr arr re ARR!!! ARR kurr hart say\", \"beast_name\": \"Aillinn\"}, {\"beast_type\": \"electric\", \"beast_age\": 159, \"what_does_the_beast_say\": \"kurr ARR MO! hart MO! hart hart kurr\", \"beast_name\": \"Hina-Te-Ngaru-Moana\"}, {\"beast_type\": \"air\", \"beast_age\": 48, \"what_does_the_beast_say\": \"hua kurr kurr nar hart\", \"beast_name\": \"Consus\"}, {\"beast_type\": \"divine\", \"beast_age\": 57, \"what_does_the_beast_say\": \"MO! kurr re arr\", \"beast_name\": \"F\\u00faamnach\"}, {\"beast_type\": \"earth\", \"beast_age\": 40, \"what_does_the_beast_say\": \"MO! re kurr hua say hart ARR ARR kurr say se hart hart hua ARR hua hua say\", \"beast_name\": \"Harpocrates\"}, {\"beast_type\": \"divine\", \"beast_age\": 163, \"what_does_the_beast_say\": \"ARR!!! kurr ARR say say MO! nar nar se re arr say ARR!!! arr say re MO! hua se hart MO! kurr nar kurr\", \"beast_name\": \"Babal\\u00fa Ay\\u00e9\"}, {\"beast_type\": \"water\", \"beast_age\": 64, \"what_does_the_beast_say\": \"ARR MO! ARR\", \"beast_name\": \"Naiades\"}, {\"beast_type\": \"electric\", \"beast_age\": 32, \"what_does_the_beast_say\": \"kurr ARR kurr ARR re\", \"beast_name\": \"Gucamatz\"}, {\"beast_type\": \"colossal\", \"beast_age\": 215, \"what_does_the_beast_say\": \"ARR!!! say se re MO! se kurr kurr re se hart se se nar arr re se ARR!!! nar hart hart hart kurr say arr ARR hart MO!\", \"beast_name\": \"Nai-No-Kami\"}, {\"beast_type\": \"electric\", \"beast_age\": 198, \"what_does_the_beast_say\": \"say arr\", \"beast_name\": \"Naniumlap\"}, {\"beast_type\": \"earth\", \"beast_age\": 9, \"what_does_the_beast_say\": \"kurr hua hart MO! kurr arr se hart se say ARR hua\", \"beast_name\": \"Fascinus\"}, {\"beast_type\": \"colossal\", \"beast_age\": 11, \"what_does_the_beast_say\": \"ARR se hart arr\", \"beast_name\": \"Aditi\"}, {\"beast_type\": \"dark\", \"beast_age\": 94, \"what_does_the_beast_say\": \"MO! re ARR!!! ARR re hua nar nar kurr arr say hart ARR arr say\", \"beast_name\": \"Autolycus\"}, {\"beast_type\": \"colossal\", \"beast_age\": 211, \"what_does_the_beast_say\": \"hua re MO! hart se re ARR nar MO! say MO! arr hua re MO! re\", \"beast_name\": \"Amaunet\"}, {\"beast_type\": \"electric\", \"beast_age\": 59, \"what_does_the_beast_say\": \"say hua se hart MO! ARR!!! ARR!!! se ARR!!! ARR!!! se kurr say nar se se ARR se hua se arr\", \"beast_name\": \"Aje\"}, {\"beast_type\": \"colossal\", \"beast_age\": 602, \"what_does_the_beast_say\": \"re nar hart say MO! hua se ARR MO! hart say kurr\", \"beast_name\": \"Holle\"}, {\"beast_type\": \"divine\", \"beast_age\": 39, \"what_does_the_beast_say\": \"se arr ARR!!! ARR!!! ARR ARR!!! kurr nar MO! MO! hua hart say hua say\", \"beast_name\": \"Andrasta\"}, {\"beast_type\": \"divine\", \"beast_age\": 113, \"what_does_the_beast_say\": \"hart MO! ARR se hart kurr say re\", \"beast_name\": \"Mjollner\"}, {\"beast_type\": \"earth\", \"beast_age\": 289, \"what_does_the_beast_say\": \"ARR se MO! MO! se hart nar say arr MO! say\", \"beast_name\": \"Ayar Manco\"}, {\"beast_type\": \"electric\", \"beast_age\": 79, \"what_does_the_beast_say\": \"nar re nar hart say ARR hua ARR ARR!!! kurr re nar nar nar ARR ARR!!! arr re ARR!!! kurr hua hart nar se ARR kurr se nar ARR re hart\", \"beast_name\": \"Eris\"}, {\"beast_type\": \"dark\", \"beast_age\": 20, \"what_does_the_beast_say\": \"MO! hua se hua ARR!!! hua ARR!!! se re hua arr arr hua hua se kurr kurr\", \"beast_name\": \"Mebere\"}, {\"beast_type\": \"colossal\", \"beast_age\": 90, \"what_does_the_beast_say\": \"hua MO! re nar nar\", \"beast_name\": \"Cybele\"}, {\"beast_type\": \"water\", \"beast_age\": 68, \"what_does_the_beast_say\": \"hart MO! ARR re hart\", \"beast_name\": \"Selket\"}, {\"beast_type\": \"earth\", \"beast_age\": 120, \"what_does_the_beast_say\": \"hua hart kurr ARR\", \"beast_name\": \"Medeina\"}, {\"beast_type\": \"air\", \"beast_age\": 49, \"what_does_the_beast_say\": \"ARR!!! MO! nar\", \"beast_name\": \"Lida Bumi\"}, {\"beast_type\": \"air\", \"beast_age\": 58, \"what_does_the_beast_say\": \"ARR\", \"beast_name\": \"Pallas (5)\"}, {\"beast_type\": \"electric\", \"beast_age\": 156, \"what_does_the_beast_say\": \"say\", \"beast_name\": \"Yalafath\"}, {\"beast_type\": \"air\", \"beast_age\": 357, \"what_does_the_beast_say\": \"arr re ARR!!! kurr\", \"beast_name\": \"Gul Ses\"}, {\"beast_type\": \"dark\", \"beast_age\": 56, \"what_does_the_beast_say\": \"say hua kurr nar arr say\", \"beast_name\": \"Di Zang Wang\"}, {\"beast_type\": \"water\", \"beast_age\": 64, \"what_does_the_beast_say\": \"kurr\", \"beast_name\": \"Corn-Maidens\"}, {\"beast_type\": \"divine\", \"beast_age\": 146, \"what_does_the_beast_say\": \"ARR arr nar nar se MO! say se ARR\", \"beast_name\": \"Themis\"}, {\"beast_type\": \"air\", \"beast_age\": 61, \"what_does_the_beast_say\": \"kurr ARR arr ARR MO! kurr\", \"beast_name\": \"Ina-Da Samadulo Hose\"}, {\"beast_type\": \"electric\", \"beast_age\": 84, \"what_does_the_beast_say\": \"hart kurr\", \"beast_name\": \"Alkonost\"}, {\"beast_type\": \"divine\", \"beast_age\": 152, \"what_does_the_beast_say\": \"nar kurr\", \"beast_name\": \"Tonatiuh\"}, {\"beast_type\": \"colossal\", \"beast_age\": 76, \"what_does_the_beast_say\": \"se hua\", \"beast_name\": \"Five Vulture\"}, {\"beast_type\": \"colossal\", \"beast_age\": 19, \"what_does_the_beast_say\": \"hua re nar\", \"beast_name\": \"G\\u00f6npo\"}, {\"beast_type\": \"colossal\", \"beast_age\": 138, \"what_does_the_beast_say\": \"kurr hart se se ARR!!! MO! kurr\", \"beast_name\": \"T\\u00fdr\"}, {\"beast_type\": \"colossal\", \"beast_age\": 61, \"what_does_the_beast_say\": \"say say arr hua se ARR!!! ARR kurr hart say nar se ARR!!! arr ARR!!! ARR!!! arr say se re nar say ARR!!! re kurr say ARR!!! arr ARR!!! arr hua nar ARR!!! arr hua\", \"beast_name\": \"Kuku Lau\"}, {\"beast_type\": \"earth\", \"beast_age\": 85, \"what_does_the_beast_say\": \"nar kurr nar ARR!!! ARR!!! nar arr MO! hart se nar\", \"beast_name\": \"Narasimha\"}, {\"beast_type\": \"earth\", \"beast_age\": 2, \"what_does_the_beast_say\": \"arr arr say MO! say ARR\", \"beast_name\": \"V\\u00e2suki\"}, {\"beast_type\": \"divine\", \"beast_age\": 63, \"what_does_the_beast_say\": \"se nar kurr nar ARR say nar kurr say re kurr se\", \"beast_name\": \"Victoria\"}, {\"beast_type\": \"divine\", \"beast_age\": 96, \"what_does_the_beast_say\": \"say hua hua re hua hua se ARR!!! ARR!!!\", \"beast_name\": \"Argetl\\u00e1mh\"}, {\"beast_type\": \"fire\", \"beast_age\": 29, \"what_does_the_beast_say\": \"hua ARR hart hua hua ARR!!! hua kurr kurr kurr MO! re\", \"beast_name\": \"Agreskoui\"}, {\"beast_type\": \"fire\", \"beast_age\": 90, \"what_does_the_beast_say\": \"nar kurr hua MO! kurr\", \"beast_name\": \"Da Yu\"}, {\"beast_type\": \"fire\", \"beast_age\": 557, \"what_does_the_beast_say\": \"say kurr se nar ARR\", \"beast_name\": \"Mean\"}, {\"beast_type\": \"colossal\", \"beast_age\": 163, \"what_does_the_beast_say\": \"nar hart re say kurr\", \"beast_name\": \"Clota\"}]"
   ]
  },
  {
   "cell_type": "markdown",
   "metadata": {},
   "source": [
    "**Sample Output 3**"
   ]
  },
  {
   "cell_type": "markdown",
   "metadata": {},
   "source": [
    "    beast_type    beast_age    what_does_the_beast_say    beast_name    \n",
    "    air    357    arr re ARR!!! kurr <SILENCE> <SILENCE> <SILENCE> <SILENCE> <SILENCE> <SILENCE> <SILENCE> <SILENCE> <SILENCE> <SILENCE> <SILENCE> <SILENCE> <SILENCE> <SILENCE> <SILENCE> <SILENCE> <SILENCE> <SILENCE> <SILENCE> <SILENCE> <SILENCE> <SILENCE> <SILENCE> <SILENCE> <SILENCE> <SILENCE> <SILENCE> <SILENCE>    Gul Ses    \n",
    "    air    62    nar kurr arr MO! hart say ARR ARR!!! kurr nar ARR!!! re arr re MO! arr hart arr arr kurr hart <SILENCE> <SILENCE> <SILENCE> <SILENCE> <SILENCE> <SILENCE> <SILENCE> <SILENCE> <SILENCE> <SILENCE> <SILENCE>    Hastseoltoi    \n",
    "    air    61    kurr ARR arr ARR MO! kurr <SILENCE> <SILENCE> <SILENCE> <SILENCE> <SILENCE> <SILENCE> <SILENCE> <SILENCE> <SILENCE> <SILENCE> <SILENCE> <SILENCE> <SILENCE> <SILENCE> <SILENCE> <SILENCE> <SILENCE> <SILENCE> <SILENCE> <SILENCE> <SILENCE> <SILENCE> <SILENCE> <SILENCE> <SILENCE> <SILENCE>    Ina-Da Samadulo Hose    \n",
    "    air    58    ARR <SILENCE> <SILENCE> <SILENCE> <SILENCE> <SILENCE> <SILENCE> <SILENCE> <SILENCE> <SILENCE> <SILENCE> <SILENCE> <SILENCE> <SILENCE> <SILENCE> <SILENCE> <SILENCE> <SILENCE> <SILENCE> <SILENCE> <SILENCE> <SILENCE> <SILENCE> <SILENCE> <SILENCE> <SILENCE> <SILENCE> <SILENCE> <SILENCE> <SILENCE> <SILENCE> <SILENCE>    Pallas (5)    \n",
    "    air    49    ARR!!! MO! nar <SILENCE> <SILENCE> <SILENCE> <SILENCE> <SILENCE> <SILENCE> <SILENCE> <SILENCE> <SILENCE> <SILENCE> <SILENCE> <SILENCE> <SILENCE> <SILENCE> <SILENCE> <SILENCE> <SILENCE> <SILENCE> <SILENCE> <SILENCE> <SILENCE> <SILENCE> <SILENCE> <SILENCE> <SILENCE> <SILENCE> <SILENCE> <SILENCE> <SILENCE>    Lida Bumi    \n",
    "    colossal    602    re nar hart say MO! hua se ARR MO! hart say kurr <SILENCE> <SILENCE> <SILENCE> <SILENCE> <SILENCE> <SILENCE> <SILENCE> <SILENCE> <SILENCE> <SILENCE> <SILENCE> <SILENCE> <SILENCE> <SILENCE> <SILENCE> <SILENCE> <SILENCE> <SILENCE> <SILENCE> <SILENCE>    Holle    \n",
    "    colossal    215    ARR!!! say se re MO! se kurr kurr re se hart se se nar arr re se ARR!!! nar hart hart hart kurr say arr ARR hart MO! <SILENCE> <SILENCE> <SILENCE> <SILENCE>    Nai-No-Kami    \n",
    "    colossal    211    hua re MO! hart se re ARR nar MO! say MO! arr hua re MO! re <SILENCE> <SILENCE> <SILENCE> <SILENCE> <SILENCE> <SILENCE> <SILENCE> <SILENCE> <SILENCE> <SILENCE> <SILENCE> <SILENCE> <SILENCE> <SILENCE> <SILENCE> <SILENCE>    Amaunet    \n",
    "    colossal    163    nar hart re say kurr <SILENCE> <SILENCE> <SILENCE> <SILENCE> <SILENCE> <SILENCE> <SILENCE> <SILENCE> <SILENCE> <SILENCE> <SILENCE> <SILENCE> <SILENCE> <SILENCE> <SILENCE> <SILENCE> <SILENCE> <SILENCE> <SILENCE> <SILENCE> <SILENCE> <SILENCE> <SILENCE> <SILENCE> <SILENCE> <SILENCE> <SILENCE>    Clota    \n",
    "    colossal    138    kurr hart se se ARR!!! MO! kurr <SILENCE> <SILENCE> <SILENCE> <SILENCE> <SILENCE> <SILENCE> <SILENCE> <SILENCE> <SILENCE> <SILENCE> <SILENCE> <SILENCE> <SILENCE> <SILENCE> <SILENCE> <SILENCE> <SILENCE> <SILENCE> <SILENCE> <SILENCE> <SILENCE> <SILENCE> <SILENCE> <SILENCE> <SILENCE>    T��r    \n",
    "    dark    94    MO! re ARR!!! ARR re hua nar nar kurr arr say hart ARR arr say <SILENCE> <SILENCE> <SILENCE> <SILENCE> <SILENCE> <SILENCE> <SILENCE> <SILENCE> <SILENCE> <SILENCE> <SILENCE> <SILENCE> <SILENCE> <SILENCE> <SILENCE> <SILENCE> <SILENCE>    Autolycus    \n",
    "    dark    56    say hua kurr nar arr say <SILENCE> <SILENCE> <SILENCE> <SILENCE> <SILENCE> <SILENCE> <SILENCE> <SILENCE> <SILENCE> <SILENCE> <SILENCE> <SILENCE> <SILENCE> <SILENCE> <SILENCE> <SILENCE> <SILENCE> <SILENCE> <SILENCE> <SILENCE> <SILENCE> <SILENCE> <SILENCE> <SILENCE> <SILENCE> <SILENCE>    Di Zang Wang    \n",
    "    dark    20    MO! hua se hua ARR!!! hua ARR!!! se re hua arr arr hua hua se kurr kurr <SILENCE> <SILENCE> <SILENCE> <SILENCE> <SILENCE> <SILENCE> <SILENCE> <SILENCE> <SILENCE> <SILENCE> <SILENCE> <SILENCE> <SILENCE> <SILENCE> <SILENCE>    Mebere    \n",
    "    divine    163    ARR!!! kurr ARR say say MO! nar nar se re arr say ARR!!! arr say re MO! hua se hart MO! kurr nar kurr <SILENCE> <SILENCE> <SILENCE> <SILENCE> <SILENCE> <SILENCE> <SILENCE> <SILENCE>    Babal�� Ay��    \n",
    "    divine    152    nar kurr <SILENCE> <SILENCE> <SILENCE> <SILENCE> <SILENCE> <SILENCE> <SILENCE> <SILENCE> <SILENCE> <SILENCE> <SILENCE> <SILENCE> <SILENCE> <SILENCE> <SILENCE> <SILENCE> <SILENCE> <SILENCE> <SILENCE> <SILENCE> <SILENCE> <SILENCE> <SILENCE> <SILENCE> <SILENCE> <SILENCE> <SILENCE> <SILENCE> <SILENCE> <SILENCE>    Tonatiuh    \n",
    "    divine    146    ARR arr nar nar se MO! say se ARR <SILENCE> <SILENCE> <SILENCE> <SILENCE> <SILENCE> <SILENCE> <SILENCE> <SILENCE> <SILENCE> <SILENCE> <SILENCE> <SILENCE> <SILENCE> <SILENCE> <SILENCE> <SILENCE> <SILENCE> <SILENCE> <SILENCE> <SILENCE> <SILENCE> <SILENCE> <SILENCE>    Themis    \n",
    "    divine    113    hart MO! ARR se hart kurr say re <SILENCE> <SILENCE> <SILENCE> <SILENCE> <SILENCE> <SILENCE> <SILENCE> <SILENCE> <SILENCE> <SILENCE> <SILENCE> <SILENCE> <SILENCE> <SILENCE> <SILENCE> <SILENCE> <SILENCE> <SILENCE> <SILENCE> <SILENCE> <SILENCE> <SILENCE> <SILENCE> <SILENCE>    Mjollner    \n",
    "    divine    96    say hua hua re hua hua se ARR!!! ARR!!! <SILENCE> <SILENCE> <SILENCE> <SILENCE> <SILENCE> <SILENCE> <SILENCE> <SILENCE> <SILENCE> <SILENCE> <SILENCE> <SILENCE> <SILENCE> <SILENCE> <SILENCE> <SILENCE> <SILENCE> <SILENCE> <SILENCE> <SILENCE> <SILENCE> <SILENCE> <SILENCE>    Argetl��mh    \n",
    "    earth    289    ARR se MO! MO! se hart nar say arr MO! say <SILENCE> <SILENCE> <SILENCE> <SILENCE> <SILENCE> <SILENCE> <SILENCE> <SILENCE> <SILENCE> <SILENCE> <SILENCE> <SILENCE> <SILENCE> <SILENCE> <SILENCE> <SILENCE> <SILENCE> <SILENCE> <SILENCE> <SILENCE> <SILENCE>    Ayar Manco    \n",
    "    earth    120    hua hart kurr ARR <SILENCE> <SILENCE> <SILENCE> <SILENCE> <SILENCE> <SILENCE> <SILENCE> <SILENCE> <SILENCE> <SILENCE> <SILENCE> <SILENCE> <SILENCE> <SILENCE> <SILENCE> <SILENCE> <SILENCE> <SILENCE> <SILENCE> <SILENCE> <SILENCE> <SILENCE> <SILENCE> <SILENCE> <SILENCE> <SILENCE> <SILENCE> <SILENCE>    Medeina    \n",
    "    earth    85    nar kurr nar ARR!!! ARR!!! nar arr MO! hart se nar <SILENCE> <SILENCE> <SILENCE> <SILENCE> <SILENCE> <SILENCE> <SILENCE> <SILENCE> <SILENCE> <SILENCE> <SILENCE> <SILENCE> <SILENCE> <SILENCE> <SILENCE> <SILENCE> <SILENCE> <SILENCE> <SILENCE> <SILENCE> <SILENCE>    Narasimha    \n",
    "    earth    40    MO! re kurr hua say hart ARR ARR kurr say se hart hart hua ARR hua hua say <SILENCE> <SILENCE> <SILENCE> <SILENCE> <SILENCE> <SILENCE> <SILENCE> <SILENCE> <SILENCE> <SILENCE> <SILENCE> <SILENCE> <SILENCE> <SILENCE>    Harpocrates    \n",
    "    earth    9    kurr hua hart MO! kurr arr se hart se say ARR hua <SILENCE> <SILENCE> <SILENCE> <SILENCE> <SILENCE> <SILENCE> <SILENCE> <SILENCE> <SILENCE> <SILENCE> <SILENCE> <SILENCE> <SILENCE> <SILENCE> <SILENCE> <SILENCE> <SILENCE> <SILENCE> <SILENCE> <SILENCE>    Fascinus    \n",
    "    electric    198    say arr <SILENCE> <SILENCE> <SILENCE> <SILENCE> <SILENCE> <SILENCE> <SILENCE> <SILENCE> <SILENCE> <SILENCE> <SILENCE> <SILENCE> <SILENCE> <SILENCE> <SILENCE> <SILENCE> <SILENCE> <SILENCE> <SILENCE> <SILENCE> <SILENCE> <SILENCE> <SILENCE> <SILENCE> <SILENCE> <SILENCE> <SILENCE> <SILENCE> <SILENCE> <SILENCE>    Naniumlap    \n",
    "    electric    188    se re hart arr ARR say se kurr se say say <SILENCE> <SILENCE> <SILENCE> <SILENCE> <SILENCE> <SILENCE> <SILENCE> <SILENCE> <SILENCE> <SILENCE> <SILENCE> <SILENCE> <SILENCE> <SILENCE> <SILENCE> <SILENCE> <SILENCE> <SILENCE> <SILENCE> <SILENCE> <SILENCE>    Aether    \n",
    "    electric    159    kurr ARR MO! hart MO! hart hart kurr <SILENCE> <SILENCE> <SILENCE> <SILENCE> <SILENCE> <SILENCE> <SILENCE> <SILENCE> <SILENCE> <SILENCE> <SILENCE> <SILENCE> <SILENCE> <SILENCE> <SILENCE> <SILENCE> <SILENCE> <SILENCE> <SILENCE> <SILENCE> <SILENCE> <SILENCE> <SILENCE> <SILENCE>    Hina-Te-Ngaru-Moana    \n",
    "    electric    156    say <SILENCE> <SILENCE> <SILENCE> <SILENCE> <SILENCE> <SILENCE> <SILENCE> <SILENCE> <SILENCE> <SILENCE> <SILENCE> <SILENCE> <SILENCE> <SILENCE> <SILENCE> <SILENCE> <SILENCE> <SILENCE> <SILENCE> <SILENCE> <SILENCE> <SILENCE> <SILENCE> <SILENCE> <SILENCE> <SILENCE> <SILENCE> <SILENCE> <SILENCE> <SILENCE> <SILENCE>    Yalafath    \n",
    "    electric    84    hart kurr <SILENCE> <SILENCE> <SILENCE> <SILENCE> <SILENCE> <SILENCE> <SILENCE> <SILENCE> <SILENCE> <SILENCE> <SILENCE> <SILENCE> <SILENCE> <SILENCE> <SILENCE> <SILENCE> <SILENCE> <SILENCE> <SILENCE> <SILENCE> <SILENCE> <SILENCE> <SILENCE> <SILENCE> <SILENCE> <SILENCE> <SILENCE> <SILENCE> <SILENCE> <SILENCE>    Alkonost    \n",
    "    fire    557    say kurr se nar ARR <SILENCE> <SILENCE> <SILENCE> <SILENCE> <SILENCE> <SILENCE> <SILENCE> <SILENCE> <SILENCE> <SILENCE> <SILENCE> <SILENCE> <SILENCE> <SILENCE> <SILENCE> <SILENCE> <SILENCE> <SILENCE> <SILENCE> <SILENCE> <SILENCE> <SILENCE> <SILENCE> <SILENCE> <SILENCE> <SILENCE> <SILENCE>    Mean    \n",
    "    fire    90    nar kurr hua MO! kurr <SILENCE> <SILENCE> <SILENCE> <SILENCE> <SILENCE> <SILENCE> <SILENCE> <SILENCE> <SILENCE> <SILENCE> <SILENCE> <SILENCE> <SILENCE> <SILENCE> <SILENCE> <SILENCE> <SILENCE> <SILENCE> <SILENCE> <SILENCE> <SILENCE> <SILENCE> <SILENCE> <SILENCE> <SILENCE> <SILENCE> <SILENCE>    Da Yu    \n",
    "    fire    29    hua ARR hart hua hua ARR!!! hua kurr kurr kurr MO! re <SILENCE> <SILENCE> <SILENCE> <SILENCE> <SILENCE> <SILENCE> <SILENCE> <SILENCE> <SILENCE> <SILENCE> <SILENCE> <SILENCE> <SILENCE> <SILENCE> <SILENCE> <SILENCE> <SILENCE> <SILENCE> <SILENCE> <SILENCE>    Agreskoui    \n",
    "    water    68    hart MO! ARR re hart <SILENCE> <SILENCE> <SILENCE> <SILENCE> <SILENCE> <SILENCE> <SILENCE> <SILENCE> <SILENCE> <SILENCE> <SILENCE> <SILENCE> <SILENCE> <SILENCE> <SILENCE> <SILENCE> <SILENCE> <SILENCE> <SILENCE> <SILENCE> <SILENCE> <SILENCE> <SILENCE> <SILENCE> <SILENCE> <SILENCE> <SILENCE>    Selket    \n",
    "    water    64    ARR MO! ARR <SILENCE> <SILENCE> <SILENCE> <SILENCE> <SILENCE> <SILENCE> <SILENCE> <SILENCE> <SILENCE> <SILENCE> <SILENCE> <SILENCE> <SILENCE> <SILENCE> <SILENCE> <SILENCE> <SILENCE> <SILENCE> <SILENCE> <SILENCE> <SILENCE> <SILENCE> <SILENCE> <SILENCE> <SILENCE> <SILENCE> <SILENCE> <SILENCE> <SILENCE>    Naiades    \n",
    "    water    64    kurr <SILENCE> <SILENCE> <SILENCE> <SILENCE> <SILENCE> <SILENCE> <SILENCE> <SILENCE> <SILENCE> <SILENCE> <SILENCE> <SILENCE> <SILENCE> <SILENCE> <SILENCE> <SILENCE> <SILENCE> <SILENCE> <SILENCE> <SILENCE> <SILENCE> <SILENCE> <SILENCE> <SILENCE> <SILENCE> <SILENCE> <SILENCE> <SILENCE> <SILENCE> <SILENCE> <SILENCE>    Corn-Maidens    \n",
    "    water    24    ARR!!! kurr hua hua hart hart nar MO! re say kurr ARR!!! ARR!!! MO! re se hua nar hua se say hua hart arr nar hart kurr hua hua hart nar MO!    Moses "
   ]
  },
  {
   "cell_type": "markdown",
   "metadata": {},
   "source": [
    "### My Answers"
   ]
  },
  {
   "cell_type": "markdown",
   "metadata": {},
   "source": [
    "#### 1- Using Pandas"
   ]
  },
  {
   "cell_type": "code",
   "execution_count": 1,
   "metadata": {},
   "outputs": [
    {
     "name": "stdout",
     "output_type": "stream",
     "text": [
      "1 5\n",
      "[{\"beast_type\": \"fire\", \"beast_age\": 250, \"what_does_the_beast_say\": \"MO! kurr se hua ARR!!! hart re MO! ARR say hart say ARR re arr hua hua ARR\", \"beast_name\": \"Amathaon\"}, {\"beast_type\": \"electric\", \"beast_age\": 172, \"what_does_the_beast_say\": \"arr say nar\", \"beast_name\": \"Ardhanarishvara\"}, {\"beast_type\": \"fire\", \"beast_age\": 34, \"what_does_the_beast_say\": \"nar\", \"beast_name\": \"Pegasos\"}]\n",
      "\n",
      "\n",
      "beast_type\tbeast_age\twhat_does_the_beast_say\tbeast_name\n",
      "electric\t172\tarr say nar <SILENCE> <SILENCE>\tArdhanarishvara\n",
      "fire\t250\tMO! kurr se hua ARR!!!\tAmathaon\n"
     ]
    }
   ],
   "source": [
    "import pandas \n",
    "import math\n",
    "import os\n",
    "import random\n",
    "import re\n",
    "import sys\n",
    "\n",
    "\n",
    "\n",
    "if __name__ == '__main__':\n",
    "    # Get input parameters T and R\n",
    "\n",
    "    first_multiple_input = input().rstrip().split()\n",
    "\n",
    "    T = int(first_multiple_input[0])\n",
    "\n",
    "    R = int(first_multiple_input[1])\n",
    "\n",
    "    # Get the content of JSON file as string\n",
    "\n",
    "    beasts = input()\n",
    "\n",
    "    # Write your code here\n",
    "    \n",
    "    table = pandas.read_json(beasts, orient='records')\n",
    "     \n",
    "    print(\"\\n\")\n",
    "    \n",
    "    beasts_say=table[\"what_does_the_beast_say\"].str.split(\" \")\n",
    "    \n",
    "    def roar(necessary_word_count,beasts_say):\n",
    "        \n",
    "        for i in range(len(beasts_say)): \n",
    "            \n",
    "            length=len(beasts_say[i])  \n",
    "            if length>necessary_word_count:\n",
    "                del beasts_say[i][necessary_word_count:length]\n",
    "            \n",
    "            elif length<necessary_word_count:\n",
    "                for j in range(necessary_word_count-length):\n",
    "                    beasts_say[i].append(\"<SILENCE>\")\n",
    "             \n",
    "    \n",
    "        return(beasts_say)\n",
    "                    \n",
    "    \n",
    "    #x=roar(R,beasts_say)\n",
    "    \n",
    "    table[\"what_does_the_beast_say\"]=roar(R,beasts_say).transform(lambda s:\" \".join(map(str, s) ))\n",
    "    \n",
    "    table.sort_values(by=[\"beast_type\",\"beast_age\"],ascending=[True,False],inplace=True)\n",
    "    \n",
    "    def oldest(df,T):\n",
    "        \n",
    "        uniqueNames = df[\"beast_type\"].unique()\n",
    "        \n",
    "        small_dfs = []\n",
    "        \n",
    "        DataFrameDict = {elem : pandas.DataFrame for elem in uniqueNames}\n",
    "        for key in DataFrameDict.keys():\n",
    "            DataFrameDict[key] = df[:][df[\"beast_type\"] == key]\n",
    "            \n",
    "            yenidf=DataFrameDict[key].head(T)\n",
    "            small_dfs.append(yenidf)\n",
    "            \n",
    "        #large_df = pd.concat(small_dfs, ignore_index=True)\n",
    "            \n",
    "        return pandas.concat(small_dfs, ignore_index=True)\n",
    "            \n",
    "            \n",
    "    #p=oldest(table,T)\n",
    "    oldest(table,T).to_csv(sys.stdout, sep='\\t', index=False)"
   ]
  },
  {
   "cell_type": "markdown",
   "metadata": {},
   "source": [
    "#### 2- Without Pandas"
   ]
  },
  {
   "cell_type": "code",
   "execution_count": 2,
   "metadata": {},
   "outputs": [
    {
     "name": "stdout",
     "output_type": "stream",
     "text": [
      "1 5\n",
      "[{\"beast_type\": \"fire\", \"beast_age\": 250, \"what_does_the_beast_say\": \"MO! kurr se hua ARR!!! hart re MO! ARR say hart say ARR re arr hua hua ARR\", \"beast_name\": \"Amathaon\"}, {\"beast_type\": \"electric\", \"beast_age\": 172, \"what_does_the_beast_say\": \"arr say nar\", \"beast_name\": \"Ardhanarishvara\"}, {\"beast_type\": \"fire\", \"beast_age\": 34, \"what_does_the_beast_say\": \"nar\", \"beast_name\": \"Pegasos\"}]\n",
      "beast_type\tbeast_age\twhat_does_the_beast_say\tbeast_name\t\n",
      "electric\t172\tarr say nar <SILENCE> <SILENCE>\tArdhanarishvara\n",
      "fire\t250\tMO! kurr se hua ARR!!!\tAmathaon\n"
     ]
    }
   ],
   "source": [
    "#!/bin/python3\n",
    "\n",
    "import math\n",
    "import os\n",
    "import random\n",
    "import re\n",
    "import sys\n",
    "import json\n",
    "\n",
    "\n",
    "\n",
    "if __name__ == '__main__':\n",
    "    # Get input parameters T and R\n",
    "\n",
    "    first_multiple_input = input().rstrip().split()\n",
    "\n",
    "    T = int(first_multiple_input[0])\n",
    "\n",
    "    R = int(first_multiple_input[1])\n",
    "\n",
    "    # Get the content of JSON file as string\n",
    "\n",
    "    beasts = input()\n",
    "\n",
    "    # Write your code here\n",
    "    \n",
    "    # 1- for shortening \"what_does_the_beast_say\"\n",
    "    \n",
    "    def roar(necessary_word_count,beasts_say):\n",
    "        \n",
    "        for i in range(len(beasts_say)): \n",
    "            \n",
    "            length=len(beasts_say[i])  \n",
    "            if length>necessary_word_count:\n",
    "                del beasts_say[i][necessary_word_count:length]\n",
    "                \n",
    "            \n",
    "            elif length<necessary_word_count:\n",
    "                for j in range(necessary_word_count-length):\n",
    "                    beasts_say[i].append(\"<SILENCE>\")\n",
    "                    \n",
    "            beasts_say[i]=\" \".join(beasts_say[i])\n",
    "            \n",
    "            \n",
    "            data_list_dicts[i][\"what_does_the_beast_say\"]=beasts_say[i]\n",
    "        \n",
    "        \n",
    "        return data_list_dicts\n",
    "    \n",
    "    # 2- for shortening the count of \"beast_type\"\n",
    "    \n",
    "    def find_same_type(l):\n",
    "        added_types = set()\n",
    "        same_type_indexes = {}\n",
    "        for i in range(len(l)):\n",
    "            d = l[i]\n",
    "            bs_type = d[\"beast_type\"]\n",
    "            if bs_type not in added_types:\n",
    "                same_type_indexes[bs_type] = [i]\n",
    "                added_types.add(bs_type)\n",
    "                for j in range(i+1, len(l)):\n",
    "                    d2 = l[j]\n",
    "                    bs_type2 = d2[\"beast_type\"]\n",
    "                    if bs_type2 == bs_type:\n",
    "                        same_type_indexes[bs_type].append(j)\n",
    "        return same_type_indexes\n",
    "    \n",
    "    def group_same_type(types_list):\n",
    "        same_type_dict = find_same_type(types_list)\n",
    "    \n",
    "        l = []\n",
    "        for k in same_type_dict:\n",
    "\n",
    "            value = same_type_dict[k]\n",
    "            l2 = []\n",
    "            for idx in value:\n",
    "                l2.append(types_list[idx])\n",
    "            l.append(l2)\n",
    "        \n",
    "        return l    \n",
    "    \n",
    "    def oldest(lists_same_types):\n",
    "        shortened_list=[]\n",
    "\n",
    "        for l in lists_same_types:\n",
    "            if len(l)>T:\n",
    "                del l[T:len(l)]\n",
    "        \n",
    "            for e in l:\n",
    "                shortened_list.append(e)\n",
    "            \n",
    "        return shortened_list\n",
    "    \n",
    "    \n",
    "    # from string to list of dictionaries\n",
    "    data_list_dicts = json.loads(beasts)\n",
    "    \n",
    "    # it returned each row as a list with each word as a separate string.\n",
    "    # for converting from ['MO!', 'kurr', 'se', 'hua', 'ARR!!!'] to \n",
    "    # MO! kurr se hua ARR!!!\n",
    "    \n",
    "    l=[]\n",
    "    for each_dict in data_list_dicts:\n",
    "        l.append(each_dict[\"what_does_the_beast_say\"].split(\" \"))\n",
    "    \n",
    "    # for sorting by beast_type and beast_age\n",
    "    \n",
    "    sorted_list = sorted(roar(R,l), key=lambda k: (k['beast_type'],-k['beast_age']))\n",
    "    \n",
    "    # for grouping together those belonging to the same beast_type\n",
    "    \n",
    "    grouped_list=group_same_type(sorted_list)\n",
    "    \n",
    "    # for removing the beasts more than T\n",
    "\n",
    "    last_list_dicts=oldest(grouped_list)\n",
    "\n",
    "        \n",
    "print(\"beast_type\\tbeast_age\\twhat_does_the_beast_say\\tbeast_name\\t\")\n",
    "for each_list in range(len(last_list_dicts)):\n",
    "    print(f\"{last_list_dicts[each_list]['beast_type']}\\t{last_list_dicts[each_list]['beast_age']}\\t{last_list_dicts[each_list]['what_does_the_beast_say']}\\t{last_list_dicts[each_list]['beast_name']}\")"
   ]
  }
 ],
 "metadata": {
  "kernelspec": {
   "display_name": "Python 3",
   "language": "python",
   "name": "python3"
  },
  "language_info": {
   "codemirror_mode": {
    "name": "ipython",
    "version": 3
   },
   "file_extension": ".py",
   "mimetype": "text/x-python",
   "name": "python",
   "nbconvert_exporter": "python",
   "pygments_lexer": "ipython3",
   "version": "3.7.6"
  }
 },
 "nbformat": 4,
 "nbformat_minor": 4
}
