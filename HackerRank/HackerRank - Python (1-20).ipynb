{
 "cells": [
  {
   "cell_type": "markdown",
   "metadata": {},
   "source": [
    "## HackerRank - Python (1-20)\n",
    "\n",
    "\n",
    "1. Say \"Hello, World!\" With Python\n",
    "2. Python If-Else\n",
    "3. Arithmetic Operators\n",
    "4. Python: Division\n",
    "5. Loops\n",
    "6. Write a function\n",
    "7. Print Function\n",
    "8. List Comprehensions\n",
    "9. Find the Runner-Up Score!\n",
    "10. Nested Lists\n",
    "11. Finding the percentage\n",
    "12. Zipped!\n",
    "13. Tuples\n",
    "14. String Validators\n",
    "15. sWAP cASE\n",
    "16. String Split and Join\n",
    "17. What's Your Name?\n",
    "18. Mutations\n",
    "19. Find a string\n",
    "20. Text Wrap"
   ]
  },
  {
   "cell_type": "markdown",
   "metadata": {},
   "source": [
    "### [1. Say \"Hello, World!\" With Python](https://www.hackerrank.com/challenges/py-hello-world/problem)"
   ]
  },
  {
   "cell_type": "code",
   "execution_count": 1,
   "metadata": {},
   "outputs": [
    {
     "name": "stdout",
     "output_type": "stream",
     "text": [
      "Hello, World!\n"
     ]
    }
   ],
   "source": [
    "print(\"Hello, World!\")"
   ]
  },
  {
   "cell_type": "markdown",
   "metadata": {},
   "source": [
    "### [2. Python If-Else](https://www.hackerrank.com/challenges/py-if-else/problem)"
   ]
  },
  {
   "cell_type": "code",
   "execution_count": 2,
   "metadata": {},
   "outputs": [
    {
     "name": "stdout",
     "output_type": "stream",
     "text": [
      "3\n",
      "Weird\n"
     ]
    }
   ],
   "source": [
    "#!/bin/python3\n",
    "\n",
    "import math\n",
    "import os\n",
    "import random\n",
    "import re\n",
    "import sys\n",
    "\n",
    "\n",
    "\n",
    "if __name__ == '__main__':\n",
    "    n = int(input().strip())\n",
    "\n",
    "    if n%2==1:\n",
    "        print(\"Weird\")\n",
    "        \n",
    "    elif n%2==0 and 2<n<=5:\n",
    "        print(\"Not Weird\")\n",
    "    \n",
    "    elif n%2==0 and 6<n<=20:\n",
    "        print(\"Weird\")\n",
    "        \n",
    "    elif n%2==0 and n>20:\n",
    "        print(\"Not Weird\")\n",
    "    \n"
   ]
  },
  {
   "cell_type": "markdown",
   "metadata": {},
   "source": [
    "### [3. Arithmetic Operators](https://www.hackerrank.com/challenges/python-arithmetic-operators/problem)"
   ]
  },
  {
   "cell_type": "code",
   "execution_count": 4,
   "metadata": {},
   "outputs": [
    {
     "name": "stdout",
     "output_type": "stream",
     "text": [
      "3\n",
      "2\n",
      "5\n",
      "1\n",
      "6\n"
     ]
    }
   ],
   "source": [
    "if __name__ == '__main__':\n",
    "    a = int(input())\n",
    "    b = int(input())\n",
    "    \n",
    "    print(a+b)\n",
    "    print(a-b)\n",
    "    print(a*b)"
   ]
  },
  {
   "cell_type": "markdown",
   "metadata": {},
   "source": [
    "### [4. Python: Division](https://www.hackerrank.com/challenges/python-division/problem)"
   ]
  },
  {
   "cell_type": "code",
   "execution_count": 5,
   "metadata": {},
   "outputs": [
    {
     "name": "stdout",
     "output_type": "stream",
     "text": [
      "4\n",
      "3\n",
      "1\n",
      "1.3333333333333333\n"
     ]
    }
   ],
   "source": [
    "if __name__ == '__main__':\n",
    "    a = int(input())\n",
    "    b = int(input())\n",
    "    \n",
    "    print(a//b)\n",
    "    print(a/b)"
   ]
  },
  {
   "cell_type": "markdown",
   "metadata": {},
   "source": [
    "### [5. Loops](https://www.hackerrank.com/challenges/python-loops/problem)"
   ]
  },
  {
   "cell_type": "code",
   "execution_count": 6,
   "metadata": {},
   "outputs": [
    {
     "name": "stdout",
     "output_type": "stream",
     "text": [
      "5\n",
      "0\n",
      "1\n",
      "4\n",
      "9\n",
      "16\n"
     ]
    }
   ],
   "source": [
    "if __name__ == '__main__':\n",
    "    n = int(input())\n",
    "    \n",
    "    for i in range(n):\n",
    "        print (i*i)"
   ]
  },
  {
   "cell_type": "markdown",
   "metadata": {},
   "source": [
    "### [6. Write a function](https://www.hackerrank.com/challenges/write-a-function/problem)"
   ]
  },
  {
   "cell_type": "code",
   "execution_count": 7,
   "metadata": {},
   "outputs": [],
   "source": [
    "def is_leap(year):\n",
    "    leap = False\n",
    "    \n",
    "    # Write your logic here\n",
    "    \n",
    "    if (year%4 == 0 and year%100 != 0) or (year%400 ==0):\n",
    "        leap=True\n",
    "    \n",
    "    return leap"
   ]
  },
  {
   "cell_type": "markdown",
   "metadata": {},
   "source": [
    "### [7. Print Function](https://www.hackerrank.com/challenges/python-print/problem)"
   ]
  },
  {
   "cell_type": "code",
   "execution_count": 8,
   "metadata": {},
   "outputs": [
    {
     "name": "stdout",
     "output_type": "stream",
     "text": [
      "3\n",
      "123\n"
     ]
    }
   ],
   "source": [
    "if __name__ == '__main__':\n",
    "    n = int(input())\n",
    "    \n",
    "    result_str=\"\"\n",
    "\n",
    "    for i in range(1,n+1):\n",
    "        result_str=result_str+str(i)\n",
    "        \n",
    "    print(result_str)"
   ]
  },
  {
   "cell_type": "markdown",
   "metadata": {},
   "source": [
    "### [8. List Comprehensions](https://www.hackerrank.com/challenges/list-comprehensions/problem)"
   ]
  },
  {
   "cell_type": "code",
   "execution_count": 1,
   "metadata": {},
   "outputs": [
    {
     "name": "stdout",
     "output_type": "stream",
     "text": [
      "1\n",
      "1\n",
      "1\n",
      "2\n",
      "[[0, 0, 0], [0, 0, 1], [0, 1, 0], [1, 0, 0], [1, 1, 1]]\n"
     ]
    }
   ],
   "source": [
    "if __name__ == '__main__':\n",
    "    x = int(input())\n",
    "    y = int(input())\n",
    "    z = int(input())\n",
    "    n = int(input())\n",
    "    \n",
    "\n",
    "def create_big_list(given_x,given_y,given_z):\n",
    "    outer_list=[]\n",
    "    \n",
    "    for i in range(given_x+1):\n",
    "        for j in range(given_y+1):\n",
    "            for k in range(given_z+1):\n",
    "                outer_list.append(i)\n",
    "                outer_list.append(j)\n",
    "                outer_list.append(k)\n",
    "                \n",
    "    return outer_list\n",
    "\n",
    "            \n",
    "def list_split(listA, n):\n",
    "    for i in range(0, len(listA), n):\n",
    "        every_chunk = listA[i: i+n]\n",
    "\n",
    "        yield every_chunk\n",
    "\n",
    "\n",
    "def last_list (liste):\n",
    "    splitted_list=list(list_split(liste,3))\n",
    "    \n",
    "    new_list=[]\n",
    "    for i in range(len(splitted_list)):\n",
    "        if (splitted_list[i][0] + splitted_list[i][1] + splitted_list[i][2]) != n:\n",
    "            new_list.append(splitted_list[i])\n",
    "    \n",
    "    return new_list\n",
    "\n",
    "outer_list = create_big_list(x,y,z)\n",
    "\n",
    "print(last_list(outer_list))"
   ]
  },
  {
   "cell_type": "markdown",
   "metadata": {},
   "source": [
    "### [9. Find the Runner-Up Score!](https://www.hackerrank.com/challenges/find-second-maximum-number-in-a-list/problem)"
   ]
  },
  {
   "cell_type": "code",
   "execution_count": 54,
   "metadata": {},
   "outputs": [
    {
     "name": "stdout",
     "output_type": "stream",
     "text": [
      "4\n",
      "57 57 -57 57\n",
      "-57\n"
     ]
    }
   ],
   "source": [
    "if __name__ == '__main__':\n",
    "    n = int(input())\n",
    "    arr = map(int, input().split())\n",
    "    \n",
    "    def findmaks(liste):\n",
    "        maks=min(liste)\n",
    "        for i in range(len(liste)):\n",
    "            if liste[i]>maks:\n",
    "                maks=liste[i]\n",
    "\n",
    "        return maks\n",
    "    \n",
    "    \n",
    "    def remove_max_value(liste,value):\n",
    "        new_list=[]\n",
    "        \n",
    "        for i in range(len(liste)):\n",
    "            if liste[i]!=value:\n",
    "                new_list.append(liste[i])\n",
    "             \n",
    "        return new_list\n",
    "    \n",
    "    \n",
    "    \n",
    "    array=list(arr)\n",
    "    \n",
    "    max_value=findmaks(array)\n",
    "    \n",
    "    new_list=remove_max_value(array,max_value)\n",
    "    \n",
    "    print(findmaks(new_list))\n"
   ]
  },
  {
   "cell_type": "markdown",
   "metadata": {},
   "source": [
    "### [10. Nested Lists](https://www.hackerrank.com/challenges/nested-list/problem)"
   ]
  },
  {
   "cell_type": "code",
   "execution_count": 182,
   "metadata": {},
   "outputs": [
    {
     "name": "stdout",
     "output_type": "stream",
     "text": [
      "4\n",
      "Tina\n",
      "52\n",
      "Rina\n",
      "25\n",
      "Mahesh\n",
      "26\n",
      "Hean\n",
      "27\n",
      "Mahesh\n"
     ]
    }
   ],
   "source": [
    "if __name__ == '__main__':\n",
    "    d={}\n",
    "    for _ in range(int(input())):\n",
    "        name = input()\n",
    "        score = float(input())\n",
    "        \n",
    "        d[name]=score\n",
    "    \n",
    "    def sorted_dict(dic):\n",
    "        return {k: v for k, v in sorted(dic.items(), key=lambda item: item[1])}\n",
    "    \n",
    "    \n",
    "    def find_lowest(dic):\n",
    "        value_list=[]\n",
    "        \n",
    "        for k,v in d.items():\n",
    "            value_list.append(v)\n",
    "            lowest_v=min(value_list)\n",
    "            \n",
    "        return lowest_v\n",
    "    \n",
    "    def find_second_min(dic,min_value):\n",
    "        l=[]\n",
    "        for k,v in dic.items():\n",
    "            if v>min_value:\n",
    "                min_value=v\n",
    "                break\n",
    "        return min_value\n",
    "    \n",
    "    \n",
    "    def list_second_min(dic,second_min_value):\n",
    "        l=[]\n",
    "        \n",
    "        for k,v in dic.items():\n",
    "            if v==second_min_value:\n",
    "                l.append(k)\n",
    "                \n",
    "        return l\n",
    "    \n",
    "    sorted_dict=sorted_dict(d)\n",
    "    lowest_value=find_lowest(sorted_dict)\n",
    "    sec_min_value=find_second_min(sorted_dict,lowest_value)\n",
    "    list_of_second_lowest=list_second_min(sorted_dict,sec_min_value)\n",
    "    \n",
    "    sorted_list=sorted(list_of_second_lowest, key=str.lower)\n",
    "    for i in range(len(sorted_list)):\n",
    "        print(sorted_list[i])"
   ]
  },
  {
   "cell_type": "markdown",
   "metadata": {},
   "source": [
    "### [11. Finding the percentage](https://www.hackerrank.com/challenges/finding-the-percentage/problem)"
   ]
  },
  {
   "cell_type": "code",
   "execution_count": 194,
   "metadata": {},
   "outputs": [
    {
     "name": "stdout",
     "output_type": "stream",
     "text": [
      "3\n",
      "Krishna 67 68 69\n",
      "Arjun 70 98 63\n",
      "Malika 52 56 60\n",
      "Malika\n",
      "56.00\n"
     ]
    }
   ],
   "source": [
    "if __name__ == '__main__':\n",
    "    n = int(input())\n",
    "    student_marks = {}\n",
    "    for _ in range(n):\n",
    "        name, *line = input().split()\n",
    "        scores = list(map(float, line))\n",
    "        student_marks[name] = scores\n",
    "    query_name = input()\n",
    "    \n",
    "    query_list=[]\n",
    "    for k,v in student_marks.items():\n",
    "        student_marks[k]=v\n",
    "        if k==query_name:\n",
    "            query_list=student_marks[k]\n",
    "            \n",
    "    toplam=0\n",
    "    for i in range(len(query_list)):\n",
    "        toplam=toplam + query_list[i]\n",
    "        \n",
    "    average=toplam/len(query_list)\n",
    "        \n",
    "            \n",
    "print(format(average,\".2f\"))"
   ]
  },
  {
   "cell_type": "markdown",
   "metadata": {},
   "source": [
    "### [12. Zipped!](https://www.hackerrank.com/challenges/zipped/problem)"
   ]
  },
  {
   "cell_type": "code",
   "execution_count": 2,
   "metadata": {},
   "outputs": [
    {
     "name": "stdout",
     "output_type": "stream",
     "text": [
      "12\n",
      "insert 0 5\n",
      "insert 1 10\n",
      "insert 0 6\n",
      "print\n",
      "[6, 5, 10]\n",
      "remove 6\n",
      "append 9\n",
      "append 1\n",
      "sort\n",
      "print\n",
      "[1, 5, 9, 10]\n",
      "pop\n",
      "reverse\n",
      "print\n",
      "[9, 5, 1]\n"
     ]
    }
   ],
   "source": [
    "if __name__ == '__main__':\n",
    "    N = int(input())\n",
    "    l=[]\n",
    "    \n",
    "    for _ in range(N):\n",
    "        operation, *line = input().split()\n",
    "        \n",
    "        if len(line)==1:\n",
    "            line[0]=int(line[0])\n",
    "            \n",
    "        elif len(line)==2:\n",
    "            line[0]=int(line[0])\n",
    "            line[1]=int(line[1])\n",
    "        \n",
    "        \n",
    "        if operation==\"append\":\n",
    "            l.append(line[0])\n",
    "            \n",
    "        elif operation==\"insert\":\n",
    "            l.insert(line[0],line[1])\n",
    "            \n",
    "        elif operation==\"remove\":\n",
    "            l.remove(line[0]) \n",
    "            \n",
    "        elif operation==\"sort\":\n",
    "            l.sort()  \n",
    "            \n",
    "        elif operation==\"pop\":\n",
    "            l.pop() \n",
    "            \n",
    "        elif operation==\"reverse\":\n",
    "            l.reverse() \n",
    "            \n",
    "        else:\n",
    "            print(l)"
   ]
  },
  {
   "cell_type": "markdown",
   "metadata": {},
   "source": [
    "### [13. Tuples](https://www.hackerrank.com/challenges/python-tuples/problem)"
   ]
  },
  {
   "cell_type": "code",
   "execution_count": 20,
   "metadata": {},
   "outputs": [
    {
     "name": "stdout",
     "output_type": "stream",
     "text": [
      "3\n",
      "45 67 78\n",
      "45\n",
      "<class 'int'>\n",
      "67\n",
      "<class 'int'>\n",
      "78\n",
      "<class 'int'>\n"
     ]
    }
   ],
   "source": [
    "if __name__ == '__main__':\n",
    "    n = int(input())\n",
    "    integer_list = map(int, input().split())\n",
    "    \n",
    "    list_int=list(integer_list)\n",
    "    for i in range(len(list_int)):\n",
    "        print(list_int[i])\n",
    "        print(type(list_int[i]))"
   ]
  },
  {
   "cell_type": "code",
   "execution_count": 22,
   "metadata": {},
   "outputs": [
    {
     "name": "stdout",
     "output_type": "stream",
     "text": [
      "3\n",
      "34 57 88\n",
      "34\n",
      "<class 'int'>\n",
      "57\n",
      "<class 'int'>\n",
      "88\n",
      "<class 'int'>\n"
     ]
    }
   ],
   "source": [
    "if __name__ == '__main__':\n",
    "    n = int(input())\n",
    "    integer_list = map(int, input().split())\n",
    "    \n",
    "    tuple_int=tuple(integer_list)\n",
    "    for i in range(len(list_int)):\n",
    "        print(tuple_int[i])\n",
    "        print(type(tuple_int[i]))"
   ]
  },
  {
   "cell_type": "code",
   "execution_count": 23,
   "metadata": {},
   "outputs": [
    {
     "name": "stdout",
     "output_type": "stream",
     "text": [
      "3\n",
      "23 45 67\n",
      "8363265708616315782\n"
     ]
    }
   ],
   "source": [
    "if __name__ == '__main__':\n",
    "    n = int(input())\n",
    "    integer_list = map(int, input().split())\n",
    "    \n",
    "    tuple_list= tuple(integer_list)\n",
    "    print(hash(tuple_list))"
   ]
  },
  {
   "cell_type": "markdown",
   "metadata": {},
   "source": [
    "### [14. String Validators](https://www.hackerrank.com/challenges/string-validators/problem)"
   ]
  },
  {
   "cell_type": "code",
   "execution_count": 50,
   "metadata": {},
   "outputs": [
    {
     "name": "stdout",
     "output_type": "stream",
     "text": [
      "qA2\n",
      "True\n",
      "True\n",
      "True\n",
      "True\n",
      "True\n"
     ]
    }
   ],
   "source": [
    "if __name__ == '__main__':\n",
    "    s = input()\n",
    "    \n",
    "    print(any(c.isalnum() for c in s))\n",
    "    print(any(c.isalpha() for c in s))\n",
    "    print(any(c.isdigit() for c in s))\n",
    "    print(any(c.islower() for c in s))\n",
    "    print(any(c.isupper() for c in s))"
   ]
  },
  {
   "cell_type": "markdown",
   "metadata": {},
   "source": [
    "### [15. sWAP cASE](https://www.hackerrank.com/challenges/swap-case/problem)"
   ]
  },
  {
   "cell_type": "code",
   "execution_count": 44,
   "metadata": {},
   "outputs": [
    {
     "name": "stdout",
     "output_type": "stream",
     "text": [
      "Www.HackerRank.com\n",
      "wWW.hACKERrANK.COM\n"
     ]
    }
   ],
   "source": [
    "def swap_case(s):\n",
    "    \n",
    "    l = list(s)\n",
    "    \n",
    "    for i in range(len(l)):\n",
    "        if l[i].isupper():\n",
    "            l[i] = l[i].lower() \n",
    "        \n",
    "        elif l[i].islower():\n",
    "            l[i] = l[i].upper()\n",
    "    \n",
    "    return \"\".join(l)\n",
    "\n",
    "if __name__ == '__main__':\n",
    "    s = input()\n",
    "    result = swap_case(s)\n",
    "    print(result)"
   ]
  },
  {
   "cell_type": "markdown",
   "metadata": {},
   "source": [
    "### [16. String Split and Join](https://www.hackerrank.com/challenges/python-string-split-and-join/problem)"
   ]
  },
  {
   "cell_type": "code",
   "execution_count": 55,
   "metadata": {},
   "outputs": [
    {
     "name": "stdout",
     "output_type": "stream",
     "text": [
      "this is a string\n",
      "this-is-a-string\n"
     ]
    }
   ],
   "source": [
    "def split_and_join(line):\n",
    "    # write your code here\n",
    "    \n",
    "    line = line.split(\" \")\n",
    "    \n",
    "    line = \"-\".join(line)\n",
    "    \n",
    "    return line\n",
    "\n",
    "if __name__ == '__main__':\n",
    "    line = input()\n",
    "    result = split_and_join(line)\n",
    "    print(result)"
   ]
  },
  {
   "cell_type": "markdown",
   "metadata": {},
   "source": [
    "### [17. What's Your Name?](https://www.hackerrank.com/challenges/whats-your-name/problem)"
   ]
  },
  {
   "cell_type": "code",
   "execution_count": 59,
   "metadata": {},
   "outputs": [
    {
     "name": "stdout",
     "output_type": "stream",
     "text": [
      "Elif\n",
      "Kurt\n",
      "Hello Elif Kurt! You just delved into python.\n"
     ]
    }
   ],
   "source": [
    "def print_full_name(first, last):\n",
    "    # Write your code here\n",
    "    \n",
    "    print(\"Hello \"+first_name + \" \" + last_name + \"!\"+\" You just delved into python.\")\n",
    "\n",
    "if __name__ == '__main__':\n",
    "    first_name = input()\n",
    "    last_name = input()\n",
    "    print_full_name(first_name, last_name)"
   ]
  },
  {
   "cell_type": "markdown",
   "metadata": {},
   "source": [
    "### [18. Mutations](https://www.hackerrank.com/challenges/python-mutations/problem?h_r=next-challenge&h_v=zen)"
   ]
  },
  {
   "cell_type": "code",
   "execution_count": 64,
   "metadata": {},
   "outputs": [
    {
     "name": "stdout",
     "output_type": "stream",
     "text": [
      "abracadabra\n",
      "5 k\n",
      "abrackdabra\n"
     ]
    }
   ],
   "source": [
    "def mutate_string(string, position, character):\n",
    "    string = string[:position] + character + string[position+1:]\n",
    "    \n",
    "    return string\n",
    "\n",
    "if __name__ == '__main__':\n",
    "    s = input()\n",
    "    i, c = input().split()\n",
    "    s_new = mutate_string(s, int(i), c)\n",
    "    print(s_new)"
   ]
  },
  {
   "cell_type": "markdown",
   "metadata": {},
   "source": [
    "### [19. Find a string](https://www.hackerrank.com/challenges/find-a-string/problem)"
   ]
  },
  {
   "cell_type": "code",
   "execution_count": 53,
   "metadata": {},
   "outputs": [
    {
     "name": "stdout",
     "output_type": "stream",
     "text": [
      "ABCDCDC\n",
      "CDC\n",
      "2\n"
     ]
    }
   ],
   "source": [
    "def count_substring(string, sub_string):\n",
    "    count=0\n",
    "    \n",
    "    for i in range(0, len(string)):\n",
    "        if((string[i:i+len(sub_string)])==sub_string):\n",
    "            count=count+1\n",
    "            \n",
    "    return count\n",
    "        \n",
    "if __name__ == '__main__':\n",
    "    string = input().strip()\n",
    "    sub_string = input().strip()\n",
    "    \n",
    "    count = count_substring(string, sub_string)\n",
    "    print(count)"
   ]
  },
  {
   "cell_type": "markdown",
   "metadata": {},
   "source": [
    "### [20. Text Wrap](https://www.hackerrank.com/challenges/text-wrap/problem)"
   ]
  },
  {
   "cell_type": "code",
   "execution_count": 65,
   "metadata": {},
   "outputs": [
    {
     "name": "stdout",
     "output_type": "stream",
     "text": [
      "deneme\n",
      "4\n",
      "dene\n",
      "me\n"
     ]
    }
   ],
   "source": [
    "import textwrap\n",
    "\n",
    "def wrap(string, max_width):\n",
    "    for i in range(0, len(string)+1,max_width):\n",
    "        result=string[i:i+max_width]\n",
    "        \n",
    "        if len(result)==max_width:\n",
    "            print(result)\n",
    "        else:\n",
    "            return result\n",
    "    \n",
    "if __name__ == '__main__':\n",
    "    string, max_width = input(), int(input())\n",
    "    result = wrap(string, max_width)\n",
    "    print(result)"
   ]
  }
 ],
 "metadata": {
  "kernelspec": {
   "display_name": "Python 3",
   "language": "python",
   "name": "python3"
  },
  "language_info": {
   "codemirror_mode": {
    "name": "ipython",
    "version": 3
   },
   "file_extension": ".py",
   "mimetype": "text/x-python",
   "name": "python",
   "nbconvert_exporter": "python",
   "pygments_lexer": "ipython3",
   "version": "3.7.6"
  }
 },
 "nbformat": 4,
 "nbformat_minor": 4
}
