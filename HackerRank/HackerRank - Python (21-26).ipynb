{
 "cells": [
  {
   "cell_type": "markdown",
   "metadata": {},
   "source": [
    "## HackerRank - Python \n",
    "\n",
    "21. Capitalize!\n",
    "22. Introduction to Sets\n",
    "23. Symmetric Difference\n",
    "24. No Idea!\n",
    "25. Set .add()\n",
    "26. Set .discard(), .remove() & .pop()"
   ]
  },
  {
   "cell_type": "markdown",
   "metadata": {},
   "source": [
    "### [21. Capitalize!](https://www.hackerrank.com/challenges/capitalize/problem)"
   ]
  },
  {
   "cell_type": "markdown",
   "metadata": {
    "heading_collapsed": true
   },
   "source": [
    "#### Denemeler"
   ]
  },
  {
   "cell_type": "markdown",
   "metadata": {
    "heading_collapsed": true,
    "hidden": true
   },
   "source": [
    "##### Stringden liste çevirme"
   ]
  },
  {
   "cell_type": "code",
   "execution_count": 12,
   "metadata": {
    "hidden": true
   },
   "outputs": [
    {
     "name": "stdout",
     "output_type": "stream",
     "text": [
      "['elif', 'kurt']\n"
     ]
    }
   ],
   "source": [
    "s = 'elif kurt'\n",
    "\n",
    "l= list(s.split(\" \"))\n",
    "print(l)"
   ]
  },
  {
   "cell_type": "code",
   "execution_count": 22,
   "metadata": {
    "hidden": true
   },
   "outputs": [
    {
     "name": "stdout",
     "output_type": "stream",
     "text": [
      "elif\n",
      "kurt\n"
     ]
    }
   ],
   "source": [
    "l= list(s.split(\" \"))\n",
    "for i in range(len(l)):\n",
    "    print(l[i])"
   ]
  },
  {
   "cell_type": "code",
   "execution_count": 23,
   "metadata": {
    "hidden": true
   },
   "outputs": [
    {
     "name": "stdout",
     "output_type": "stream",
     "text": [
      "Elif\n",
      "Kurt\n"
     ]
    }
   ],
   "source": [
    "l= list(s.split(\" \"))\n",
    "for i in range(len(l)):\n",
    "    print(l[i].capitalize())"
   ]
  },
  {
   "cell_type": "code",
   "execution_count": 30,
   "metadata": {
    "hidden": true
   },
   "outputs": [],
   "source": [
    "def solve(s):\n",
    "    new_list=[]\n",
    "    l= list(s.split(\" \"))\n",
    "    for i in range(len(l)):\n",
    "        new_list.append(l[i].capitalize())\n",
    "    return new_list"
   ]
  },
  {
   "cell_type": "code",
   "execution_count": 31,
   "metadata": {
    "hidden": true
   },
   "outputs": [
    {
     "data": {
      "text/plain": [
       "['Elif', 'Kurt']"
      ]
     },
     "execution_count": 31,
     "metadata": {},
     "output_type": "execute_result"
    }
   ],
   "source": [
    "solve(\"elif kurt\")"
   ]
  },
  {
   "cell_type": "markdown",
   "metadata": {
    "heading_collapsed": true,
    "hidden": true
   },
   "source": [
    "##### Listten stringe çevirme"
   ]
  },
  {
   "cell_type": "markdown",
   "metadata": {
    "hidden": true
   },
   "source": [
    "[Buradan](https://www.geeksforgeeks.org/python-program-to-convert-a-list-to-string/) aldım."
   ]
  },
  {
   "cell_type": "code",
   "execution_count": null,
   "metadata": {
    "hidden": true
   },
   "outputs": [],
   "source": [
    "def listToString(s): \n",
    "    \n",
    "    # initialize an empty string\n",
    "    str1 = \" \" \n",
    "    \n",
    "    # return string  \n",
    "    return (str1.join(s))\n",
    "        \n",
    "        \n",
    "# Driver code    \n",
    "s = ['Geeks', 'for', 'Geeks']\n",
    "print(listToString(s)) "
   ]
  },
  {
   "cell_type": "code",
   "execution_count": 36,
   "metadata": {
    "hidden": true
   },
   "outputs": [],
   "source": [
    "def solve(s):\n",
    "    new_list=[]\n",
    "    str1=\" \"\n",
    "    l= list(s.split(\" \"))\n",
    "    for i in range(len(l)):\n",
    "        new_list.append(l[i].capitalize())\n",
    "    return str1.join(new_list)"
   ]
  },
  {
   "cell_type": "code",
   "execution_count": 37,
   "metadata": {
    "hidden": true
   },
   "outputs": [
    {
     "data": {
      "text/plain": [
       "'Elif Kurt'"
      ]
     },
     "execution_count": 37,
     "metadata": {},
     "output_type": "execute_result"
    }
   ],
   "source": [
    "solve(\"elif kurt\")"
   ]
  },
  {
   "cell_type": "code",
   "execution_count": 38,
   "metadata": {
    "hidden": true
   },
   "outputs": [
    {
     "data": {
      "text/plain": [
       "'12abc'"
      ]
     },
     "execution_count": 38,
     "metadata": {},
     "output_type": "execute_result"
    }
   ],
   "source": [
    "solve(\"12abc\")"
   ]
  },
  {
   "cell_type": "markdown",
   "metadata": {},
   "source": [
    "#### Çözüm"
   ]
  },
  {
   "cell_type": "code",
   "execution_count": null,
   "metadata": {},
   "outputs": [],
   "source": [
    "#!/bin/python3\n",
    "\n",
    "import math\n",
    "import os\n",
    "import random\n",
    "import re\n",
    "import sys\n",
    "\n",
    "# Complete the solve function below.\n",
    "def solve(s):\n",
    "    new_list=[]\n",
    "    str1=\" \"\n",
    "    l= list(s.split(\" \"))\n",
    "    for i in range(len(l)):\n",
    "        new_list.append(l[i].capitalize())\n",
    "    return str1.join(new_list)\n",
    "    \n",
    "    \n",
    "if __name__ == '__main__':\n",
    "    fptr = open(os.environ['OUTPUT_PATH'], 'w')\n",
    "\n",
    "    s = input()\n",
    "\n",
    "    result = solve(s)\n",
    "\n",
    "    fptr.write(result + '\\n')\n",
    "\n",
    "    fptr.close()"
   ]
  },
  {
   "cell_type": "markdown",
   "metadata": {},
   "source": [
    "### [22. Introduction to Sets](https://www.hackerrank.com/challenges/py-introduction-to-sets/problem)"
   ]
  },
  {
   "cell_type": "markdown",
   "metadata": {},
   "source": [
    "#### Denemeler"
   ]
  },
  {
   "cell_type": "code",
   "execution_count": 4,
   "metadata": {},
   "outputs": [
    {
     "name": "stdout",
     "output_type": "stream",
     "text": [
      "2\n",
      "34 45 67 89\n"
     ]
    }
   ],
   "source": [
    "#def average(array):\n",
    "    # your code goes here\n",
    "\n",
    "\n",
    "n = int(input())\n",
    "arr = list(map(int, input().split()))\n",
    "# result = average(arr)\n",
    "# print(result)"
   ]
  },
  {
   "cell_type": "code",
   "execution_count": 5,
   "metadata": {},
   "outputs": [],
   "source": [
    "array = [161, 182, 161, 154, 176, 170, 167, 171, 170, 174]"
   ]
  },
  {
   "cell_type": "code",
   "execution_count": 6,
   "metadata": {},
   "outputs": [
    {
     "data": {
      "text/plain": [
       "{154, 161, 167, 170, 171, 174, 176, 182}"
      ]
     },
     "execution_count": 6,
     "metadata": {},
     "output_type": "execute_result"
    }
   ],
   "source": [
    "set(array)"
   ]
  },
  {
   "cell_type": "code",
   "execution_count": 7,
   "metadata": {},
   "outputs": [
    {
     "data": {
      "text/plain": [
       "8"
      ]
     },
     "execution_count": 7,
     "metadata": {},
     "output_type": "execute_result"
    }
   ],
   "source": [
    "len(set(array))"
   ]
  },
  {
   "cell_type": "code",
   "execution_count": 9,
   "metadata": {},
   "outputs": [
    {
     "data": {
      "text/plain": [
       "[161, 167, 170, 171, 174, 176, 182, 154]"
      ]
     },
     "execution_count": 9,
     "metadata": {},
     "output_type": "execute_result"
    }
   ],
   "source": [
    "l = list(set(array))\n",
    "l"
   ]
  },
  {
   "cell_type": "code",
   "execution_count": 11,
   "metadata": {},
   "outputs": [
    {
     "data": {
      "text/plain": [
       "1355"
      ]
     },
     "execution_count": 11,
     "metadata": {},
     "output_type": "execute_result"
    }
   ],
   "source": [
    "toplam = 0\n",
    "for i in range(len(l)):\n",
    "    toplam = toplam + l[i]\n",
    "    \n",
    "toplam"
   ]
  },
  {
   "cell_type": "markdown",
   "metadata": {},
   "source": [
    "#### Çözüm"
   ]
  },
  {
   "cell_type": "code",
   "execution_count": 12,
   "metadata": {},
   "outputs": [
    {
     "name": "stdout",
     "output_type": "stream",
     "text": [
      "3\n",
      "34 23 24\n",
      "27.0\n"
     ]
    }
   ],
   "source": [
    "def average(array):\n",
    "    toplam = 0\n",
    "    l = list(set(array))\n",
    "    \n",
    "    for i in range(len(l)):\n",
    "        toplam = toplam + l[i]\n",
    "    \n",
    "    return toplam/len(set(array))\n",
    "\n",
    "\n",
    "n = int(input())\n",
    "arr = list(map(int, input().split()))\n",
    "result = average(arr)\n",
    "print(result)"
   ]
  },
  {
   "cell_type": "markdown",
   "metadata": {},
   "source": [
    "### [23. Symmetric Difference](https://www.hackerrank.com/challenges/symmetric-difference/problem)"
   ]
  },
  {
   "cell_type": "markdown",
   "metadata": {},
   "source": [
    "#### Denemeler"
   ]
  },
  {
   "cell_type": "code",
   "execution_count": 32,
   "metadata": {},
   "outputs": [
    {
     "name": "stdout",
     "output_type": "stream",
     "text": [
      "4\n",
      "12 34 23 45\n",
      "3\n",
      "56 12 89 67\n"
     ]
    }
   ],
   "source": [
    "M = int(input())\n",
    "\n",
    "set_M = set(map(int, input().split()))\n",
    "\n",
    "N = int(input())\n",
    "\n",
    "set_N = set(map(int, input().split()))"
   ]
  },
  {
   "cell_type": "code",
   "execution_count": 33,
   "metadata": {},
   "outputs": [
    {
     "data": {
      "text/plain": [
       "{12, 23, 34, 45}"
      ]
     },
     "execution_count": 33,
     "metadata": {},
     "output_type": "execute_result"
    }
   ],
   "source": [
    "set_M"
   ]
  },
  {
   "cell_type": "code",
   "execution_count": 34,
   "metadata": {},
   "outputs": [
    {
     "data": {
      "text/plain": [
       "{12, 56, 67, 89}"
      ]
     },
     "execution_count": 34,
     "metadata": {},
     "output_type": "execute_result"
    }
   ],
   "source": [
    "set_N"
   ]
  },
  {
   "cell_type": "code",
   "execution_count": 35,
   "metadata": {},
   "outputs": [
    {
     "data": {
      "text/plain": [
       "{23, 34, 45}"
      ]
     },
     "execution_count": 35,
     "metadata": {},
     "output_type": "execute_result"
    }
   ],
   "source": [
    "set_M.difference(set_N) "
   ]
  },
  {
   "cell_type": "code",
   "execution_count": 36,
   "metadata": {},
   "outputs": [
    {
     "data": {
      "text/plain": [
       "{56, 67, 89}"
      ]
     },
     "execution_count": 36,
     "metadata": {},
     "output_type": "execute_result"
    }
   ],
   "source": [
    "set_N.difference(set_M)"
   ]
  },
  {
   "cell_type": "code",
   "execution_count": 42,
   "metadata": {},
   "outputs": [
    {
     "data": {
      "text/plain": [
       "{12, 23, 34, 45, 56, 67, 89}"
      ]
     },
     "execution_count": 42,
     "metadata": {},
     "output_type": "execute_result"
    }
   ],
   "source": [
    "set_M.update(set_N)\n",
    "set_M"
   ]
  },
  {
   "cell_type": "code",
   "execution_count": 46,
   "metadata": {},
   "outputs": [
    {
     "data": {
      "text/plain": [
       "[12, 23, 34, 45, 56, 67, 89]"
      ]
     },
     "execution_count": 46,
     "metadata": {},
     "output_type": "execute_result"
    }
   ],
   "source": [
    "sorted(set_M)"
   ]
  },
  {
   "cell_type": "code",
   "execution_count": 49,
   "metadata": {},
   "outputs": [
    {
     "name": "stdout",
     "output_type": "stream",
     "text": [
      "12\n",
      "23\n",
      "34\n",
      "45\n",
      "56\n",
      "67\n",
      "89\n"
     ]
    }
   ],
   "source": [
    "for e in sorted(set_M):\n",
    "    print (e)"
   ]
  },
  {
   "cell_type": "markdown",
   "metadata": {},
   "source": [
    "#### Çözüm"
   ]
  },
  {
   "cell_type": "code",
   "execution_count": 53,
   "metadata": {},
   "outputs": [
    {
     "name": "stdout",
     "output_type": "stream",
     "text": [
      "4\n",
      "2 4 5 9\n",
      "4\n",
      "2 4 11 12\n",
      "5\n",
      "9\n",
      "11\n",
      "12\n"
     ]
    }
   ],
   "source": [
    "M = int(input())\n",
    "\n",
    "set_M = set(map(int, input().split()))\n",
    "\n",
    "N = int(input())\n",
    "\n",
    "set_N = set(map(int, input().split()))\n",
    "\n",
    "dif_M = set_M.difference(set_N) \n",
    "dif_N = set_N.difference(set_M)\n",
    "\n",
    "dif_M.update(dif_N)\n",
    "\n",
    "for e in sorted(dif_M):\n",
    "    print (e)"
   ]
  },
  {
   "cell_type": "markdown",
   "metadata": {},
   "source": [
    "### [24. No Idea!](https://www.hackerrank.com/challenges/no-idea/problem?h_r=next-challenge&h_v=zen)"
   ]
  },
  {
   "cell_type": "markdown",
   "metadata": {},
   "source": [
    "#### Denemeler"
   ]
  },
  {
   "cell_type": "code",
   "execution_count": 57,
   "metadata": {},
   "outputs": [
    {
     "name": "stdout",
     "output_type": "stream",
     "text": [
      "3 2\n",
      "1 5 3\n",
      "3 1\n",
      "5 7\n"
     ]
    }
   ],
   "source": [
    "n_m = map(int, input().split())\n",
    "\n",
    "array_n = list(map(int, input().split()))\n",
    "set_A = set(map(int, input().split()))\n",
    "set_B = set(map(int, input().split()))"
   ]
  },
  {
   "cell_type": "code",
   "execution_count": 61,
   "metadata": {},
   "outputs": [
    {
     "data": {
      "text/plain": [
       "[1, 5, 3]"
      ]
     },
     "execution_count": 61,
     "metadata": {},
     "output_type": "execute_result"
    }
   ],
   "source": [
    "array_n"
   ]
  },
  {
   "cell_type": "code",
   "execution_count": 62,
   "metadata": {},
   "outputs": [
    {
     "data": {
      "text/plain": [
       "{1, 3}"
      ]
     },
     "execution_count": 62,
     "metadata": {},
     "output_type": "execute_result"
    }
   ],
   "source": [
    "set_A"
   ]
  },
  {
   "cell_type": "code",
   "execution_count": 63,
   "metadata": {},
   "outputs": [
    {
     "data": {
      "text/plain": [
       "{5, 7}"
      ]
     },
     "execution_count": 63,
     "metadata": {},
     "output_type": "execute_result"
    }
   ],
   "source": [
    "set_B"
   ]
  },
  {
   "cell_type": "code",
   "execution_count": 60,
   "metadata": {},
   "outputs": [
    {
     "name": "stdout",
     "output_type": "stream",
     "text": [
      "deneme\n",
      "deneme\n"
     ]
    }
   ],
   "source": [
    "for i in range(len(array_n)):\n",
    "    if array_n[i] in set_A:\n",
    "        print(\"deneme\")"
   ]
  },
  {
   "cell_type": "code",
   "execution_count": 64,
   "metadata": {},
   "outputs": [],
   "source": [
    "happiness = 0\n",
    "\n",
    "if array_n[i] in set_A:\n",
    "    happiness = happiness + 1\n",
    "    \n",
    "elif array_n[i] in set_B:\n",
    "    happiness = happiness -1"
   ]
  },
  {
   "cell_type": "code",
   "execution_count": 65,
   "metadata": {},
   "outputs": [
    {
     "data": {
      "text/plain": [
       "1"
      ]
     },
     "execution_count": 65,
     "metadata": {},
     "output_type": "execute_result"
    }
   ],
   "source": [
    "happiness"
   ]
  },
  {
   "cell_type": "markdown",
   "metadata": {},
   "source": [
    "#### Çözüm"
   ]
  },
  {
   "cell_type": "code",
   "execution_count": 71,
   "metadata": {},
   "outputs": [
    {
     "name": "stdout",
     "output_type": "stream",
     "text": [
      "3 2\n",
      "1 5 3\n",
      "3 1\n",
      "5 7\n",
      "1\n"
     ]
    }
   ],
   "source": [
    "n_m = map(int, input().split())\n",
    "\n",
    "array_n = list(map(int, input().split()))\n",
    "set_A = set(map(int, input().split()))\n",
    "set_B = set(map(int, input().split()))\n",
    "\n",
    "def happiness (setA, setB):\n",
    "    happiness = 0\n",
    "    \n",
    "    for i in range(len(array_n)):\n",
    "        \n",
    "        if array_n[i] in setA:\n",
    "            happiness = happiness + 1\n",
    "    \n",
    "        elif array_n[i] in setB:\n",
    "            happiness = happiness -1\n",
    "        \n",
    "    return happiness\n",
    "\n",
    "happiness = happiness(set_A, set_B)\n",
    "\n",
    "print(happiness)"
   ]
  },
  {
   "cell_type": "markdown",
   "metadata": {},
   "source": [
    "### [25. Set .add()](https://www.hackerrank.com/challenges/py-set-add/problem?h_r=next-challenge&h_v=zen)"
   ]
  },
  {
   "cell_type": "markdown",
   "metadata": {},
   "source": [
    "#### Denemeler"
   ]
  },
  {
   "cell_type": "code",
   "execution_count": 72,
   "metadata": {},
   "outputs": [
    {
     "name": "stdout",
     "output_type": "stream",
     "text": [
      "4\n"
     ]
    }
   ],
   "source": [
    "n = input().split()"
   ]
  },
  {
   "cell_type": "code",
   "execution_count": 77,
   "metadata": {},
   "outputs": [
    {
     "name": "stdout",
     "output_type": "stream",
     "text": [
      "7\n",
      "UK\n",
      "China\n",
      "USA\n",
      "France\n",
      "New Zealand\n",
      "UK\n",
      "France\n",
      "['UK', 'China', 'USA', 'France', 'New Zealand', 'UK', 'France']\n"
     ]
    }
   ],
   "source": [
    "n = int(input())\n",
    "s = set()\n",
    "l = []\n",
    "\n",
    "for i in range(n):\n",
    "    l.append(input())\n",
    "\n",
    "print(l)"
   ]
  },
  {
   "cell_type": "code",
   "execution_count": 78,
   "metadata": {},
   "outputs": [],
   "source": [
    "s = set(l)"
   ]
  },
  {
   "cell_type": "code",
   "execution_count": 79,
   "metadata": {},
   "outputs": [
    {
     "data": {
      "text/plain": [
       "{'China', 'France', 'New Zealand', 'UK', 'USA'}"
      ]
     },
     "execution_count": 79,
     "metadata": {},
     "output_type": "execute_result"
    }
   ],
   "source": [
    "s"
   ]
  },
  {
   "cell_type": "code",
   "execution_count": 80,
   "metadata": {},
   "outputs": [
    {
     "data": {
      "text/plain": [
       "5"
      ]
     },
     "execution_count": 80,
     "metadata": {},
     "output_type": "execute_result"
    }
   ],
   "source": [
    "len(s)"
   ]
  },
  {
   "cell_type": "markdown",
   "metadata": {},
   "source": [
    "#### Çözüm"
   ]
  },
  {
   "cell_type": "code",
   "execution_count": 81,
   "metadata": {},
   "outputs": [
    {
     "name": "stdout",
     "output_type": "stream",
     "text": [
      "7\n",
      "UK\n",
      "China\n",
      "USA\n",
      "France\n",
      "New Zealand\n",
      "UK\n",
      "France\n",
      "5\n"
     ]
    }
   ],
   "source": [
    "n = int(input())\n",
    "l = []\n",
    "\n",
    "for i in range(n):\n",
    "    l.append(input())\n",
    "    \n",
    "s = set(l)\n",
    "\n",
    "print(len(s))"
   ]
  },
  {
   "cell_type": "markdown",
   "metadata": {},
   "source": [
    "### [26. Set .discard(), .remove() & .pop()](https://www.hackerrank.com/challenges/py-set-discard-remove-pop/problem?h_r=next-challenge&h_v=zen&h_r=next-challenge&h_v=zen)"
   ]
  },
  {
   "cell_type": "markdown",
   "metadata": {},
   "source": [
    "#### Denemeler"
   ]
  },
  {
   "cell_type": "code",
   "execution_count": 146,
   "metadata": {},
   "outputs": [
    {
     "name": "stdout",
     "output_type": "stream",
     "text": [
      "9\n",
      "1 2 3 4 5 6 7 8 9\n",
      "10\n",
      "pop\n",
      "remove 9\n",
      "discard 9\n",
      "discard 8\n",
      "remove 7\n",
      "pop\n",
      "discard 6\n",
      "remove 5\n",
      "pop \n",
      "discard 5\n",
      "{4}\n"
     ]
    }
   ],
   "source": [
    "n = int(input())\n",
    "s = set(map(int, input().split()))\n",
    "N = int(input())\n",
    "\n",
    "for e in range(N):\n",
    "    command = (input()).split()\n",
    "    l=list(s)\n",
    "    if len(command)>1:\n",
    "        c, v = command\n",
    "        v = int(v)\n",
    "        \n",
    "        if v in l: \n",
    "            if c == \"remove\":\n",
    "                s.remove(v)\n",
    "                l.remove(v)\n",
    "                \n",
    "            elif c == \"discard\":\n",
    "                s.discard(v)\n",
    "                l.remove(v)\n",
    "                \n",
    "    elif len(command)==1:\n",
    "        s.pop()\n",
    "            \n",
    "        \n",
    "print(s)"
   ]
  },
  {
   "cell_type": "markdown",
   "metadata": {},
   "source": [
    "#### Çözüm"
   ]
  },
  {
   "cell_type": "code",
   "execution_count": 147,
   "metadata": {},
   "outputs": [
    {
     "name": "stdout",
     "output_type": "stream",
     "text": [
      "9\n",
      "1 2 3 4 5 6 7 8 9\n",
      "10\n",
      "pop\n",
      "remove 9\n",
      "discard 9\n",
      "discard 8\n",
      "remove 7\n",
      "pop \n",
      "discard 6\n",
      "remove 5\n",
      "pop \n",
      "discard 5\n",
      "4\n"
     ]
    }
   ],
   "source": [
    "n = int(input())\n",
    "s = set(map(int, input().split()))\n",
    "N = int(input())\n",
    "\n",
    "for e in range(N):\n",
    "    command = (input()).split()\n",
    "    l=list(s)\n",
    "    if len(command)>1:\n",
    "        c, v = command\n",
    "        v = int(v)\n",
    "        \n",
    "        if v in l: \n",
    "            if c == \"remove\":\n",
    "                s.remove(v)\n",
    "                l.remove(v)\n",
    "                \n",
    "            elif c == \"discard\":\n",
    "                s.discard(v)\n",
    "                l.remove(v)\n",
    "                \n",
    "    elif len(command)==1:\n",
    "        s.pop()\n",
    "            \n",
    "        \n",
    "l_s = list(s)\n",
    "toplam=0\n",
    "\n",
    "for i in range(len(l_s)):\n",
    "    toplam = toplam + l_s[i]\n",
    "    \n",
    "print(toplam)"
   ]
  },
  {
   "cell_type": "code",
   "execution_count": null,
   "metadata": {},
   "outputs": [],
   "source": []
  },
  {
   "cell_type": "code",
   "execution_count": null,
   "metadata": {},
   "outputs": [],
   "source": []
  }
 ],
 "metadata": {
  "kernelspec": {
   "display_name": "Python 3",
   "language": "python",
   "name": "python3"
  },
  "language_info": {
   "codemirror_mode": {
    "name": "ipython",
    "version": 3
   },
   "file_extension": ".py",
   "mimetype": "text/x-python",
   "name": "python",
   "nbconvert_exporter": "python",
   "pygments_lexer": "ipython3",
   "version": "3.7.6"
  }
 },
 "nbformat": 4,
 "nbformat_minor": 2
}
