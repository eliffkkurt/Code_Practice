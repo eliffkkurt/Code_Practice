{
 "cells": [
  {
   "cell_type": "markdown",
   "metadata": {},
   "source": [
    "## HackerRank - Python \n",
    "\n",
    "\n",
    "1. Say \"Hello, World!\" With Python\n",
    "2. Python If-Else\n",
    "3. Arithmetic Operators\n",
    "4. Python: Division\n",
    "5. Loops\n",
    "6. Write a function\n",
    "7. Print Function\n",
    "8. List Comprehensions\n",
    "9. Find the Runner-Up Score!\n",
    "10. Nested Lists\n",
    "11. Finding the percentage\n",
    "12. Zipped!\n",
    "13. Tuples\n",
    "14. String Validators\n",
    "15. sWAP cASE\n",
    "16. String Split and Join\n",
    "17. What's Your Name?\n",
    "18. Mutations"
   ]
  },
  {
   "cell_type": "markdown",
   "metadata": {},
   "source": [
    "### [1. Say \"Hello, World!\" With Python](https://www.hackerrank.com/challenges/py-hello-world/problem)"
   ]
  },
  {
   "cell_type": "markdown",
   "metadata": {},
   "source": [
    "#### Çözüm"
   ]
  },
  {
   "cell_type": "code",
   "execution_count": 1,
   "metadata": {},
   "outputs": [
    {
     "name": "stdout",
     "output_type": "stream",
     "text": [
      "Hello, World!\n"
     ]
    }
   ],
   "source": [
    "print(\"Hello, World!\")"
   ]
  },
  {
   "cell_type": "markdown",
   "metadata": {},
   "source": [
    "### [2. Python If-Else](https://www.hackerrank.com/challenges/py-if-else/problem)"
   ]
  },
  {
   "cell_type": "markdown",
   "metadata": {},
   "source": [
    "#### Çözüm"
   ]
  },
  {
   "cell_type": "code",
   "execution_count": 2,
   "metadata": {},
   "outputs": [
    {
     "name": "stdout",
     "output_type": "stream",
     "text": [
      "3\n",
      "Weird\n"
     ]
    }
   ],
   "source": [
    "#!/bin/python3\n",
    "\n",
    "import math\n",
    "import os\n",
    "import random\n",
    "import re\n",
    "import sys\n",
    "\n",
    "\n",
    "\n",
    "if __name__ == '__main__':\n",
    "    n = int(input().strip())\n",
    "\n",
    "    if n%2==1:\n",
    "        print(\"Weird\")\n",
    "        \n",
    "    elif n%2==0 and 2<n<=5:\n",
    "        print(\"Not Weird\")\n",
    "    \n",
    "    elif n%2==0 and 6<n<=20:\n",
    "        print(\"Weird\")\n",
    "        \n",
    "    elif n%2==0 and n>20:\n",
    "        print(\"Not Weird\")\n",
    "    \n"
   ]
  },
  {
   "cell_type": "markdown",
   "metadata": {},
   "source": [
    "### [3. Arithmetic Operators](https://www.hackerrank.com/challenges/python-arithmetic-operators/problem)"
   ]
  },
  {
   "cell_type": "markdown",
   "metadata": {},
   "source": [
    "#### Çözüm"
   ]
  },
  {
   "cell_type": "code",
   "execution_count": 4,
   "metadata": {},
   "outputs": [
    {
     "name": "stdout",
     "output_type": "stream",
     "text": [
      "3\n",
      "2\n",
      "5\n",
      "1\n",
      "6\n"
     ]
    }
   ],
   "source": [
    "if __name__ == '__main__':\n",
    "    a = int(input())\n",
    "    b = int(input())\n",
    "    \n",
    "    print(a+b)\n",
    "    print(a-b)\n",
    "    print(a*b)"
   ]
  },
  {
   "cell_type": "markdown",
   "metadata": {},
   "source": [
    "### [4. Python: Division](https://www.hackerrank.com/challenges/python-division/problem)"
   ]
  },
  {
   "cell_type": "markdown",
   "metadata": {},
   "source": [
    "#### Çözüm"
   ]
  },
  {
   "cell_type": "code",
   "execution_count": 5,
   "metadata": {},
   "outputs": [
    {
     "name": "stdout",
     "output_type": "stream",
     "text": [
      "4\n",
      "3\n",
      "1\n",
      "1.3333333333333333\n"
     ]
    }
   ],
   "source": [
    "if __name__ == '__main__':\n",
    "    a = int(input())\n",
    "    b = int(input())\n",
    "    \n",
    "    print(a//b)\n",
    "    print(a/b)"
   ]
  },
  {
   "cell_type": "markdown",
   "metadata": {},
   "source": [
    "### [5. Loops](https://www.hackerrank.com/challenges/python-loops/problem)"
   ]
  },
  {
   "cell_type": "markdown",
   "metadata": {},
   "source": [
    "#### Çözüm"
   ]
  },
  {
   "cell_type": "code",
   "execution_count": 6,
   "metadata": {},
   "outputs": [
    {
     "name": "stdout",
     "output_type": "stream",
     "text": [
      "5\n",
      "0\n",
      "1\n",
      "4\n",
      "9\n",
      "16\n"
     ]
    }
   ],
   "source": [
    "if __name__ == '__main__':\n",
    "    n = int(input())\n",
    "    \n",
    "    for i in range(n):\n",
    "        print (i*i)"
   ]
  },
  {
   "cell_type": "markdown",
   "metadata": {},
   "source": [
    "### [6. Write a function](https://www.hackerrank.com/challenges/write-a-function/problem)"
   ]
  },
  {
   "cell_type": "markdown",
   "metadata": {},
   "source": [
    "#### Çözüm"
   ]
  },
  {
   "cell_type": "code",
   "execution_count": 7,
   "metadata": {},
   "outputs": [],
   "source": [
    "def is_leap(year):\n",
    "    leap = False\n",
    "    \n",
    "    # Write your logic here\n",
    "    \n",
    "    if (year%4 == 0 and year%100 != 0) or (year%400 ==0):\n",
    "        leap=True\n",
    "    \n",
    "    return leap"
   ]
  },
  {
   "cell_type": "markdown",
   "metadata": {},
   "source": [
    "### [7. Print Function](https://www.hackerrank.com/challenges/python-print/problem)"
   ]
  },
  {
   "cell_type": "code",
   "execution_count": 8,
   "metadata": {},
   "outputs": [
    {
     "name": "stdout",
     "output_type": "stream",
     "text": [
      "3\n",
      "123\n"
     ]
    }
   ],
   "source": [
    "if __name__ == '__main__':\n",
    "    n = int(input())\n",
    "    \n",
    "    result_str=\"\"\n",
    "\n",
    "    for i in range(1,n+1):\n",
    "        result_str=result_str+str(i)\n",
    "        \n",
    "    print(result_str)"
   ]
  },
  {
   "cell_type": "markdown",
   "metadata": {},
   "source": [
    "### [8. List Comprehensions](https://www.hackerrank.com/challenges/list-comprehensions/problem)"
   ]
  },
  {
   "cell_type": "markdown",
   "metadata": {
    "heading_collapsed": true
   },
   "source": [
    "#### Denemeler"
   ]
  },
  {
   "cell_type": "code",
   "execution_count": 63,
   "metadata": {
    "hidden": true
   },
   "outputs": [
    {
     "name": "stdout",
     "output_type": "stream",
     "text": [
      "1\n",
      "1\n",
      "2\n",
      "3\n"
     ]
    }
   ],
   "source": [
    "if __name__ == '__main__':\n",
    "    x = int(input())\n",
    "    y = int(input())\n",
    "    z = int(input())\n",
    "    n = int(input())"
   ]
  },
  {
   "cell_type": "code",
   "execution_count": 64,
   "metadata": {
    "hidden": true
   },
   "outputs": [
    {
     "name": "stdout",
     "output_type": "stream",
     "text": [
      "0\n"
     ]
    }
   ],
   "source": [
    "for i in range(x):\n",
    "    print(i)"
   ]
  },
  {
   "cell_type": "code",
   "execution_count": 65,
   "metadata": {
    "hidden": true
   },
   "outputs": [
    {
     "name": "stdout",
     "output_type": "stream",
     "text": [
      "[0]\n"
     ]
    }
   ],
   "source": [
    "psb_x=[]\n",
    "psb_y=[]\n",
    "psb_z=[]\n",
    "\n",
    "for i in range(x):\n",
    "    psb_x.append(i)\n",
    "\n",
    "print(psb_x)"
   ]
  },
  {
   "cell_type": "code",
   "execution_count": 66,
   "metadata": {
    "hidden": true
   },
   "outputs": [
    {
     "name": "stdout",
     "output_type": "stream",
     "text": [
      "[0]\n",
      "[0]\n",
      "[0, 1]\n"
     ]
    }
   ],
   "source": [
    "psb_x=[]\n",
    "psb_y=[]\n",
    "psb_z=[]\n",
    "\n",
    "for i in range(x):\n",
    "    psb_x.append(i)\n",
    "    \n",
    "for i in range(y):\n",
    "    psb_y.append(i)\n",
    "    \n",
    "for i in range(z):\n",
    "    psb_z.append(i)\n",
    "\n",
    "\n",
    "print(psb_x)\n",
    "print(psb_y)\n",
    "print(psb_z)"
   ]
  },
  {
   "cell_type": "code",
   "execution_count": 67,
   "metadata": {
    "hidden": true
   },
   "outputs": [
    {
     "name": "stdout",
     "output_type": "stream",
     "text": [
      "[0, 1]\n",
      "[0, 1]\n",
      "[0, 1, 2]\n"
     ]
    }
   ],
   "source": [
    "psb_x=[]\n",
    "psb_y=[]\n",
    "psb_z=[]\n",
    "\n",
    "for i in range(x+1):\n",
    "    psb_x.append(i)\n",
    "    \n",
    "for i in range(y+1):\n",
    "    psb_y.append(i)\n",
    "    \n",
    "for i in range(z+1):\n",
    "    psb_z.append(i)\n",
    "\n",
    "\n",
    "print(psb_x)\n",
    "print(psb_y)\n",
    "print(psb_z)"
   ]
  },
  {
   "cell_type": "code",
   "execution_count": 68,
   "metadata": {
    "hidden": true
   },
   "outputs": [
    {
     "name": "stdout",
     "output_type": "stream",
     "text": [
      "0\n",
      "1\n"
     ]
    }
   ],
   "source": [
    "for e in psb_x:\n",
    "    print(e)"
   ]
  },
  {
   "cell_type": "code",
   "execution_count": 69,
   "metadata": {
    "hidden": true
   },
   "outputs": [
    {
     "name": "stdout",
     "output_type": "stream",
     "text": [
      "0\n",
      "1\n"
     ]
    }
   ],
   "source": [
    "for i in range(len(psb_x)):\n",
    "    print(psb_x[i])"
   ]
  },
  {
   "cell_type": "code",
   "execution_count": 70,
   "metadata": {
    "hidden": true
   },
   "outputs": [
    {
     "name": "stdout",
     "output_type": "stream",
     "text": [
      "0 0\n",
      "0 1\n",
      "1 0\n",
      "1 1\n"
     ]
    }
   ],
   "source": [
    "for i in range(len(psb_x)):\n",
    "    for j in range(len(psb_y)):\n",
    "        print (i,j)"
   ]
  },
  {
   "cell_type": "code",
   "execution_count": 71,
   "metadata": {
    "hidden": true
   },
   "outputs": [
    {
     "name": "stdout",
     "output_type": "stream",
     "text": [
      "0 0 0\n",
      "0 0 1\n",
      "0 0 2\n",
      "0 1 0\n",
      "0 1 1\n",
      "0 1 2\n",
      "1 0 0\n",
      "1 0 1\n",
      "1 0 2\n",
      "1 1 0\n",
      "1 1 1\n",
      "1 1 2\n"
     ]
    }
   ],
   "source": [
    "for i in range(len(psb_x)):\n",
    "    for j in range(len(psb_y)):\n",
    "        for k in range(len(psb_z)):\n",
    "            print (i,j,k)"
   ]
  },
  {
   "cell_type": "code",
   "execution_count": 72,
   "metadata": {
    "hidden": true
   },
   "outputs": [
    {
     "name": "stdout",
     "output_type": "stream",
     "text": [
      "[0, 0, 0, 0, 0, 1, 0, 0, 2, 0, 1, 0, 0, 1, 1, 0, 1, 2, 1, 0, 0, 1, 0, 1, 1, 0, 2, 1, 1, 0, 1, 1, 1, 1, 1, 2]\n"
     ]
    },
    {
     "data": {
      "text/plain": [
       "36"
      ]
     },
     "execution_count": 72,
     "metadata": {},
     "output_type": "execute_result"
    }
   ],
   "source": [
    "outer_list=[]\n",
    "inner_list=[]\n",
    "\n",
    "for i in range(len(psb_x)):\n",
    "    for j in range(len(psb_y)):\n",
    "        for k in range(len(psb_z)):\n",
    "            inner_list.append(i)\n",
    "            inner_list.append(j)\n",
    "            inner_list.append(k)\n",
    "            \n",
    "outer_list.extend(inner_list)\n",
    "            \n",
    "print(outer_list)\n",
    "len(outer_list)"
   ]
  },
  {
   "cell_type": "code",
   "execution_count": 73,
   "metadata": {
    "hidden": true
   },
   "outputs": [
    {
     "name": "stdout",
     "output_type": "stream",
     "text": [
      "[0, 0, 0, 0, 0, 1, 0, 0, 2, 0, 1, 0, 0, 1, 1, 0, 1, 2, 1, 0, 0, 1, 0, 1, 1, 0, 2, 1, 1, 0, 1, 1, 1, 1, 1, 2]\n"
     ]
    }
   ],
   "source": [
    "outer_list=[]\n",
    "\n",
    "for i in range(len(psb_x)):\n",
    "    for j in range(len(psb_y)):\n",
    "        for k in range(len(psb_z)):\n",
    "            outer_list.append(i)\n",
    "            outer_list.append(j)\n",
    "            outer_list.append(k)\n",
    "print(outer_list)"
   ]
  },
  {
   "cell_type": "code",
   "execution_count": 74,
   "metadata": {
    "hidden": true
   },
   "outputs": [
    {
     "name": "stdout",
     "output_type": "stream",
     "text": [
      "[[11, 21, 31, 41, 51, 61, 71], [81, 91, 101, 111, 112, 113]]\n"
     ]
    }
   ],
   "source": [
    "def list_split(listA, n):\n",
    "    for i in range(0, len(listA), n):\n",
    "        every_chunk = listA[i: i+n]\n",
    "\n",
    "        yield every_chunk\n",
    "\n",
    "\n",
    "print(list(list_split([11, 21, 31, 41, 51, 61, 71, 81, 91, 101, 111, 112, 113], 7)))"
   ]
  },
  {
   "cell_type": "code",
   "execution_count": 75,
   "metadata": {
    "hidden": true
   },
   "outputs": [
    {
     "name": "stdout",
     "output_type": "stream",
     "text": [
      "[[0, 0, 0], [0, 0, 1], [0, 0, 2], [0, 1, 0], [0, 1, 1], [0, 1, 2], [1, 0, 0], [1, 0, 1], [1, 0, 2], [1, 1, 0], [1, 1, 1], [1, 1, 2]]\n"
     ]
    }
   ],
   "source": [
    "print(list(list_split(outer_list,3)))"
   ]
  },
  {
   "cell_type": "code",
   "execution_count": 76,
   "metadata": {
    "hidden": true
   },
   "outputs": [],
   "source": [
    "splitted_list=list(list_split(outer_list,3))"
   ]
  },
  {
   "cell_type": "code",
   "execution_count": 77,
   "metadata": {
    "hidden": true
   },
   "outputs": [
    {
     "data": {
      "text/plain": [
       "3"
      ]
     },
     "execution_count": 77,
     "metadata": {},
     "output_type": "execute_result"
    }
   ],
   "source": [
    "n"
   ]
  },
  {
   "cell_type": "code",
   "execution_count": 78,
   "metadata": {
    "hidden": true
   },
   "outputs": [
    {
     "name": "stdout",
     "output_type": "stream",
     "text": [
      "0\n",
      "1\n",
      "2\n",
      "3\n",
      "4\n",
      "5\n",
      "6\n",
      "7\n",
      "8\n",
      "9\n",
      "10\n",
      "11\n"
     ]
    }
   ],
   "source": [
    "for i in range(len(splitted_list)):\n",
    "    print(i)"
   ]
  },
  {
   "cell_type": "code",
   "execution_count": 79,
   "metadata": {
    "hidden": true
   },
   "outputs": [
    {
     "name": "stdout",
     "output_type": "stream",
     "text": [
      "[0, 0, 0]\n",
      "[0, 0, 1]\n",
      "[0, 0, 2]\n",
      "[0, 1, 0]\n",
      "[0, 1, 1]\n",
      "[0, 1, 2]\n",
      "[1, 0, 0]\n",
      "[1, 0, 1]\n",
      "[1, 0, 2]\n",
      "[1, 1, 0]\n",
      "[1, 1, 1]\n",
      "[1, 1, 2]\n"
     ]
    }
   ],
   "source": [
    "for i in range(len(splitted_list)):\n",
    "    print(splitted_list[i])"
   ]
  },
  {
   "cell_type": "code",
   "execution_count": 80,
   "metadata": {
    "hidden": true
   },
   "outputs": [
    {
     "name": "stdout",
     "output_type": "stream",
     "text": [
      "3\n",
      "3\n",
      "3\n"
     ]
    }
   ],
   "source": [
    "for i in range(len(splitted_list)):\n",
    "    if (splitted_list[i][0] + splitted_list[i][1] + splitted_list[i][2]) == n:\n",
    "        print((splitted_list[i][0] + splitted_list[i][1] + splitted_list[i][2]))"
   ]
  },
  {
   "cell_type": "code",
   "execution_count": 83,
   "metadata": {
    "hidden": true
   },
   "outputs": [
    {
     "ename": "IndexError",
     "evalue": "list index out of range",
     "output_type": "error",
     "traceback": [
      "\u001b[1;31m---------------------------------------------------------------------------\u001b[0m",
      "\u001b[1;31mIndexError\u001b[0m                                Traceback (most recent call last)",
      "\u001b[1;32m<ipython-input-83-2d070c4acb82>\u001b[0m in \u001b[0;36m<module>\u001b[1;34m\u001b[0m\n\u001b[0;32m      1\u001b[0m \u001b[1;32mfor\u001b[0m \u001b[0mi\u001b[0m \u001b[1;32min\u001b[0m \u001b[0mrange\u001b[0m\u001b[1;33m(\u001b[0m\u001b[0mlen\u001b[0m\u001b[1;33m(\u001b[0m\u001b[0msplitted_list\u001b[0m\u001b[1;33m)\u001b[0m\u001b[1;33m)\u001b[0m\u001b[1;33m:\u001b[0m\u001b[1;33m\u001b[0m\u001b[1;33m\u001b[0m\u001b[0m\n\u001b[1;32m----> 2\u001b[1;33m     \u001b[1;32mif\u001b[0m \u001b[1;33m(\u001b[0m\u001b[0msplitted_list\u001b[0m\u001b[1;33m[\u001b[0m\u001b[0mi\u001b[0m\u001b[1;33m]\u001b[0m\u001b[1;33m[\u001b[0m\u001b[1;36m0\u001b[0m\u001b[1;33m]\u001b[0m \u001b[1;33m+\u001b[0m \u001b[0msplitted_list\u001b[0m\u001b[1;33m[\u001b[0m\u001b[0mi\u001b[0m\u001b[1;33m]\u001b[0m\u001b[1;33m[\u001b[0m\u001b[1;36m1\u001b[0m\u001b[1;33m]\u001b[0m \u001b[1;33m+\u001b[0m \u001b[0msplitted_list\u001b[0m\u001b[1;33m[\u001b[0m\u001b[0mi\u001b[0m\u001b[1;33m]\u001b[0m\u001b[1;33m[\u001b[0m\u001b[1;36m2\u001b[0m\u001b[1;33m]\u001b[0m\u001b[1;33m)\u001b[0m \u001b[1;33m==\u001b[0m \u001b[0mn\u001b[0m\u001b[1;33m:\u001b[0m\u001b[1;33m\u001b[0m\u001b[1;33m\u001b[0m\u001b[0m\n\u001b[0m\u001b[0;32m      3\u001b[0m         \u001b[0msplitted_list\u001b[0m\u001b[1;33m.\u001b[0m\u001b[0mremove\u001b[0m\u001b[1;33m(\u001b[0m\u001b[0msplitted_list\u001b[0m\u001b[1;33m[\u001b[0m\u001b[0mi\u001b[0m\u001b[1;33m]\u001b[0m\u001b[1;33m)\u001b[0m\u001b[1;33m\u001b[0m\u001b[1;33m\u001b[0m\u001b[0m\n",
      "\u001b[1;31mIndexError\u001b[0m: list index out of range"
     ]
    }
   ],
   "source": [
    "for i in range(len(splitted_list)):\n",
    "    if (splitted_list[i][0] + splitted_list[i][1] + splitted_list[i][2]) == n:\n",
    "        splitted_list.remove(splitted_list[i])"
   ]
  },
  {
   "cell_type": "code",
   "execution_count": 84,
   "metadata": {
    "hidden": true
   },
   "outputs": [],
   "source": [
    "new_list=[]\n",
    "\n",
    "for i in range(len(splitted_list)):\n",
    "    if (splitted_list[i][0] + splitted_list[i][1] + splitted_list[i][2]) != n:\n",
    "        new_list.append(splitted_list[i])"
   ]
  },
  {
   "cell_type": "code",
   "execution_count": 85,
   "metadata": {
    "hidden": true
   },
   "outputs": [
    {
     "data": {
      "text/plain": [
       "[[0, 0, 0],\n",
       " [0, 0, 1],\n",
       " [0, 0, 2],\n",
       " [0, 1, 0],\n",
       " [0, 1, 1],\n",
       " [1, 0, 0],\n",
       " [1, 0, 1],\n",
       " [1, 1, 0],\n",
       " [1, 1, 2]]"
      ]
     },
     "execution_count": 85,
     "metadata": {},
     "output_type": "execute_result"
    }
   ],
   "source": [
    "new_list"
   ]
  },
  {
   "cell_type": "markdown",
   "metadata": {
    "heading_collapsed": true,
    "hidden": true
   },
   "source": [
    "##### Hepsi bir arada - 1"
   ]
  },
  {
   "cell_type": "code",
   "execution_count": 86,
   "metadata": {
    "hidden": true
   },
   "outputs": [
    {
     "name": "stdout",
     "output_type": "stream",
     "text": [
      "1\n",
      "1\n",
      "2\n",
      "3\n",
      "[[0, 0, 0], [0, 0, 1], [0, 0, 2], [0, 1, 0], [0, 1, 1], [1, 0, 0], [1, 0, 1], [1, 1, 0], [1, 1, 2]]\n"
     ]
    }
   ],
   "source": [
    "if __name__ == '__main__':\n",
    "    x = int(input())\n",
    "    y = int(input())\n",
    "    z = int(input())\n",
    "    n = int(input())\n",
    "    \n",
    "psb_x=[]\n",
    "psb_y=[]\n",
    "psb_z=[]\n",
    "\n",
    "for i in range(x+1):\n",
    "    psb_x.append(i)\n",
    "    \n",
    "for i in range(y+1):\n",
    "    psb_y.append(i)\n",
    "    \n",
    "for i in range(z+1):\n",
    "    psb_z.append(i)\n",
    "    \n",
    "    \n",
    "outer_list=[]\n",
    "\n",
    "for i in range(len(psb_x)):\n",
    "    for j in range(len(psb_y)):\n",
    "        for k in range(len(psb_z)):\n",
    "            outer_list.append(i)\n",
    "            outer_list.append(j)\n",
    "            outer_list.append(k)\n",
    "\n",
    "            \n",
    "def list_split(listA, n):\n",
    "    for i in range(0, len(listA), n):\n",
    "        every_chunk = listA[i: i+n]\n",
    "\n",
    "        yield every_chunk\n",
    "        \n",
    "        \n",
    "        \n",
    "splitted_list=list(list_split(outer_list,3))\n",
    "\n",
    "new_list=[]\n",
    "\n",
    "for i in range(len(splitted_list)):\n",
    "    if (splitted_list[i][0] + splitted_list[i][1] + splitted_list[i][2]) != n:\n",
    "        new_list.append(splitted_list[i])\n",
    "        \n",
    "print(new_list)"
   ]
  },
  {
   "cell_type": "markdown",
   "metadata": {
    "heading_collapsed": true,
    "hidden": true
   },
   "source": [
    "##### Hepsi bir arada - 2"
   ]
  },
  {
   "cell_type": "markdown",
   "metadata": {
    "hidden": true
   },
   "source": [
    "psb_x,y,z'lere gerek yok onları siliyorum..."
   ]
  },
  {
   "cell_type": "code",
   "execution_count": 106,
   "metadata": {
    "hidden": true
   },
   "outputs": [
    {
     "name": "stdout",
     "output_type": "stream",
     "text": [
      "1\n",
      "1\n",
      "1\n",
      "2\n",
      "[[0, 0, 0], [0, 0, 1], [0, 1, 0], [1, 0, 0], [1, 1, 1]]\n"
     ]
    }
   ],
   "source": [
    "if __name__ == '__main__':\n",
    "    x = int(input())\n",
    "    y = int(input())\n",
    "    z = int(input())\n",
    "    n = int(input())\n",
    "    \n",
    "    \n",
    "outer_list=[]\n",
    "\n",
    "for i in range(x+1):\n",
    "    for j in range(y+1):\n",
    "        for k in range(z+1):\n",
    "            outer_list.append(i)\n",
    "            outer_list.append(j)\n",
    "            outer_list.append(k)\n",
    "\n",
    "            \n",
    "def list_split(listA, n):\n",
    "    for i in range(0, len(listA), n):\n",
    "        every_chunk = listA[i: i+n]\n",
    "\n",
    "        yield every_chunk\n",
    "        \n",
    "        \n",
    "        \n",
    "splitted_list=list(list_split(outer_list,3))\n",
    "\n",
    "new_list=[]\n",
    "\n",
    "for i in range(len(splitted_list)):\n",
    "    if (splitted_list[i][0] + splitted_list[i][1] + splitted_list[i][2]) != n:\n",
    "        new_list.append(splitted_list[i])\n",
    "        \n",
    "print(new_list)"
   ]
  },
  {
   "cell_type": "markdown",
   "metadata": {
    "heading_collapsed": true,
    "hidden": true
   },
   "source": [
    "##### Daha fonksiyonel hale getirdim"
   ]
  },
  {
   "cell_type": "code",
   "execution_count": 96,
   "metadata": {
    "collapsed": true,
    "hidden": true
   },
   "outputs": [
    {
     "name": "stdout",
     "output_type": "stream",
     "text": [
      "1\n",
      "1\n",
      "2\n",
      "3\n"
     ]
    },
    {
     "data": {
      "text/plain": [
       "[0,\n",
       " 0,\n",
       " 0,\n",
       " 0,\n",
       " 0,\n",
       " 1,\n",
       " 0,\n",
       " 0,\n",
       " 2,\n",
       " 0,\n",
       " 1,\n",
       " 0,\n",
       " 0,\n",
       " 1,\n",
       " 1,\n",
       " 0,\n",
       " 1,\n",
       " 2,\n",
       " 1,\n",
       " 0,\n",
       " 0,\n",
       " 1,\n",
       " 0,\n",
       " 1,\n",
       " 1,\n",
       " 0,\n",
       " 2,\n",
       " 1,\n",
       " 1,\n",
       " 0,\n",
       " 1,\n",
       " 1,\n",
       " 1,\n",
       " 1,\n",
       " 1,\n",
       " 2]"
      ]
     },
     "execution_count": 96,
     "metadata": {},
     "output_type": "execute_result"
    }
   ],
   "source": [
    "if __name__ == '__main__':\n",
    "    x = int(input())\n",
    "    y = int(input())\n",
    "    z = int(input())\n",
    "    n = int(input())\n",
    "    \n",
    "\n",
    "def create_big_list(given_x,given_y,given_z):\n",
    "    outer_list=[]\n",
    "    \n",
    "    for i in range(given_x+1):\n",
    "        for j in range(given_y+1):\n",
    "            for k in range(given_z+1):\n",
    "                outer_list.append(i)\n",
    "                outer_list.append(j)\n",
    "                outer_list.append(k)\n",
    "                \n",
    "    return outer_list\n",
    "\n",
    "create_big_list(x,y,z)"
   ]
  },
  {
   "cell_type": "markdown",
   "metadata": {},
   "source": [
    "#### Çözüm"
   ]
  },
  {
   "cell_type": "code",
   "execution_count": 1,
   "metadata": {},
   "outputs": [
    {
     "name": "stdout",
     "output_type": "stream",
     "text": [
      "1\n",
      "1\n",
      "1\n",
      "2\n",
      "[[0, 0, 0], [0, 0, 1], [0, 1, 0], [1, 0, 0], [1, 1, 1]]\n"
     ]
    }
   ],
   "source": [
    "if __name__ == '__main__':\n",
    "    x = int(input())\n",
    "    y = int(input())\n",
    "    z = int(input())\n",
    "    n = int(input())\n",
    "    \n",
    "\n",
    "def create_big_list(given_x,given_y,given_z):\n",
    "    outer_list=[]\n",
    "    \n",
    "    for i in range(given_x+1):\n",
    "        for j in range(given_y+1):\n",
    "            for k in range(given_z+1):\n",
    "                outer_list.append(i)\n",
    "                outer_list.append(j)\n",
    "                outer_list.append(k)\n",
    "                \n",
    "    return outer_list\n",
    "\n",
    "            \n",
    "def list_split(listA, n):\n",
    "    for i in range(0, len(listA), n):\n",
    "        every_chunk = listA[i: i+n]\n",
    "\n",
    "        yield every_chunk\n",
    "\n",
    "\n",
    "def last_list (liste):\n",
    "    splitted_list=list(list_split(liste,3))\n",
    "    \n",
    "    new_list=[]\n",
    "    for i in range(len(splitted_list)):\n",
    "        if (splitted_list[i][0] + splitted_list[i][1] + splitted_list[i][2]) != n:\n",
    "            new_list.append(splitted_list[i])\n",
    "    \n",
    "    return new_list\n",
    "\n",
    "outer_list = create_big_list(x,y,z)\n",
    "\n",
    "print(last_list(outer_list))"
   ]
  },
  {
   "cell_type": "markdown",
   "metadata": {},
   "source": [
    "### [9. Find the Runner-Up Score!](https://www.hackerrank.com/challenges/find-second-maximum-number-in-a-list/problem)"
   ]
  },
  {
   "cell_type": "markdown",
   "metadata": {
    "heading_collapsed": true
   },
   "source": [
    "#### Denemeler"
   ]
  },
  {
   "cell_type": "code",
   "execution_count": 18,
   "metadata": {
    "hidden": true
   },
   "outputs": [
    {
     "name": "stdout",
     "output_type": "stream",
     "text": [
      "5\n",
      "2 3 6 6 5\n",
      "5\n",
      "<map object at 0x00000241154762C8>\n"
     ]
    }
   ],
   "source": [
    "if __name__ == '__main__':\n",
    "    n = int(input())\n",
    "    arr = map(int, input().split())\n",
    "    \n",
    "    print(n)\n",
    "    print(arr)"
   ]
  },
  {
   "cell_type": "markdown",
   "metadata": {
    "hidden": true
   },
   "source": [
    "**'map' kullanımına [buradan](https://www.sinanerdinc.com/python-map-zip-reduce-filter-kullanimi) baktım.**"
   ]
  },
  {
   "cell_type": "code",
   "execution_count": 19,
   "metadata": {
    "hidden": true
   },
   "outputs": [],
   "source": [
    "array=list(arr)"
   ]
  },
  {
   "cell_type": "code",
   "execution_count": 20,
   "metadata": {
    "hidden": true
   },
   "outputs": [
    {
     "name": "stdout",
     "output_type": "stream",
     "text": [
      "[2, 3, 6, 6, 5]\n"
     ]
    }
   ],
   "source": [
    "print(array)"
   ]
  },
  {
   "cell_type": "code",
   "execution_count": 21,
   "metadata": {
    "hidden": true
   },
   "outputs": [
    {
     "name": "stdout",
     "output_type": "stream",
     "text": [
      "0\n",
      "1\n",
      "2\n",
      "3\n",
      "4\n"
     ]
    }
   ],
   "source": [
    "for i in range(len(array)):\n",
    "    print(i)"
   ]
  },
  {
   "cell_type": "code",
   "execution_count": 22,
   "metadata": {
    "hidden": true
   },
   "outputs": [
    {
     "name": "stdout",
     "output_type": "stream",
     "text": [
      "2\n",
      "3\n",
      "6\n",
      "6\n",
      "5\n"
     ]
    }
   ],
   "source": [
    "for i in range(len(array)):\n",
    "    print(array[i])"
   ]
  },
  {
   "cell_type": "code",
   "execution_count": 23,
   "metadata": {
    "hidden": true
   },
   "outputs": [
    {
     "name": "stdout",
     "output_type": "stream",
     "text": [
      "6\n"
     ]
    }
   ],
   "source": [
    "maks=0\n",
    "\n",
    "for i in range(len(array)):\n",
    "    if array[i]>maks:\n",
    "        maks=array[i]\n",
    "        \n",
    "print(maks)"
   ]
  },
  {
   "cell_type": "code",
   "execution_count": 25,
   "metadata": {
    "hidden": true
   },
   "outputs": [
    {
     "data": {
      "text/plain": [
       "2"
      ]
     },
     "execution_count": 25,
     "metadata": {},
     "output_type": "execute_result"
    }
   ],
   "source": [
    "array.count(maks)"
   ]
  },
  {
   "cell_type": "code",
   "execution_count": 30,
   "metadata": {
    "hidden": true
   },
   "outputs": [
    {
     "name": "stdout",
     "output_type": "stream",
     "text": [
      "[2, 3, 5]\n"
     ]
    },
    {
     "ename": "IndexError",
     "evalue": "list index out of range",
     "output_type": "error",
     "traceback": [
      "\u001b[1;31m---------------------------------------------------------------------------\u001b[0m",
      "\u001b[1;31mIndexError\u001b[0m                                Traceback (most recent call last)",
      "\u001b[1;32m<ipython-input-30-0dd1c275ee0b>\u001b[0m in \u001b[0;36m<module>\u001b[1;34m\u001b[0m\n\u001b[0;32m      1\u001b[0m \u001b[1;32mfor\u001b[0m \u001b[0mi\u001b[0m \u001b[1;32min\u001b[0m \u001b[0mrange\u001b[0m\u001b[1;33m(\u001b[0m\u001b[0mlen\u001b[0m\u001b[1;33m(\u001b[0m\u001b[0marray\u001b[0m\u001b[1;33m)\u001b[0m\u001b[1;33m)\u001b[0m\u001b[1;33m:\u001b[0m\u001b[1;33m\u001b[0m\u001b[1;33m\u001b[0m\u001b[0m\n\u001b[1;32m----> 2\u001b[1;33m     \u001b[1;32mif\u001b[0m \u001b[0marray\u001b[0m\u001b[1;33m[\u001b[0m\u001b[0mi\u001b[0m\u001b[1;33m]\u001b[0m\u001b[1;33m==\u001b[0m\u001b[0mmaks\u001b[0m\u001b[1;33m:\u001b[0m\u001b[1;33m\u001b[0m\u001b[1;33m\u001b[0m\u001b[0m\n\u001b[0m\u001b[0;32m      3\u001b[0m         \u001b[0marray\u001b[0m\u001b[1;33m.\u001b[0m\u001b[0mremove\u001b[0m\u001b[1;33m(\u001b[0m\u001b[0marray\u001b[0m\u001b[1;33m[\u001b[0m\u001b[0mi\u001b[0m\u001b[1;33m]\u001b[0m\u001b[1;33m)\u001b[0m\u001b[1;33m\u001b[0m\u001b[1;33m\u001b[0m\u001b[0m\n\u001b[0;32m      4\u001b[0m \u001b[1;33m\u001b[0m\u001b[0m\n\u001b[0;32m      5\u001b[0m         \u001b[0mprint\u001b[0m\u001b[1;33m(\u001b[0m\u001b[0marray\u001b[0m\u001b[1;33m)\u001b[0m\u001b[1;33m\u001b[0m\u001b[1;33m\u001b[0m\u001b[0m\n",
      "\u001b[1;31mIndexError\u001b[0m: list index out of range"
     ]
    }
   ],
   "source": [
    "for i in range(len(array)):\n",
    "    if array[i]==maks:\n",
    "        array.remove(array[i])\n",
    "        print(array)"
   ]
  },
  {
   "cell_type": "code",
   "execution_count": 31,
   "metadata": {
    "hidden": true
   },
   "outputs": [],
   "source": [
    "for i in range(len(array)):\n",
    "    if array[i]==maks:\n",
    "        array.remove(array[i])\n",
    "        \n",
    "        if i>len(array):\n",
    "            break"
   ]
  },
  {
   "cell_type": "code",
   "execution_count": 32,
   "metadata": {
    "hidden": true
   },
   "outputs": [
    {
     "data": {
      "text/plain": [
       "[2, 3, 5]"
      ]
     },
     "execution_count": 32,
     "metadata": {},
     "output_type": "execute_result"
    }
   ],
   "source": [
    "array"
   ]
  },
  {
   "cell_type": "code",
   "execution_count": 33,
   "metadata": {
    "hidden": true
   },
   "outputs": [
    {
     "name": "stdout",
     "output_type": "stream",
     "text": [
      "5\n"
     ]
    }
   ],
   "source": [
    "maks=0\n",
    "\n",
    "for i in range(len(array)):\n",
    "    if array[i]>maks:\n",
    "        maks=array[i]\n",
    "        \n",
    "print(maks)"
   ]
  },
  {
   "cell_type": "markdown",
   "metadata": {},
   "source": [
    "#### Çözüm"
   ]
  },
  {
   "cell_type": "code",
   "execution_count": 54,
   "metadata": {},
   "outputs": [
    {
     "name": "stdout",
     "output_type": "stream",
     "text": [
      "4\n",
      "57 57 -57 57\n",
      "-57\n"
     ]
    }
   ],
   "source": [
    "if __name__ == '__main__':\n",
    "    n = int(input())\n",
    "    arr = map(int, input().split())\n",
    "    \n",
    "    def findmaks(liste):\n",
    "        maks=min(liste)\n",
    "        for i in range(len(liste)):\n",
    "            if liste[i]>maks:\n",
    "                maks=liste[i]\n",
    "\n",
    "        return maks\n",
    "    \n",
    "    \n",
    "    def remove_max_value(liste,value):\n",
    "        new_list=[]\n",
    "        \n",
    "        for i in range(len(liste)):\n",
    "            if liste[i]!=value:\n",
    "                new_list.append(liste[i])\n",
    "             \n",
    "        return new_list\n",
    "    \n",
    "    \n",
    "    \n",
    "    array=list(arr)\n",
    "    \n",
    "    max_value=findmaks(array)\n",
    "    \n",
    "    new_list=remove_max_value(array,max_value)\n",
    "    \n",
    "    print(findmaks(new_list))\n"
   ]
  },
  {
   "cell_type": "markdown",
   "metadata": {},
   "source": [
    "### [10. Nested Lists](https://www.hackerrank.com/challenges/nested-list/problem)"
   ]
  },
  {
   "cell_type": "markdown",
   "metadata": {
    "heading_collapsed": true
   },
   "source": [
    "#### Denemeler"
   ]
  },
  {
   "cell_type": "code",
   "execution_count": 56,
   "metadata": {
    "hidden": true
   },
   "outputs": [
    {
     "name": "stdout",
     "output_type": "stream",
     "text": [
      "5\n",
      "Harry\n",
      "37.21\n",
      "Berry\n",
      "37.21\n",
      "Tina\n",
      "37.2\n",
      "Akriti\n",
      "41\n",
      "Harsh\n",
      "39\n"
     ]
    }
   ],
   "source": [
    "if __name__ == '__main__':\n",
    "    for _ in range(int(input())):\n",
    "        name = input()\n",
    "        score = float(input())"
   ]
  },
  {
   "cell_type": "code",
   "execution_count": 57,
   "metadata": {
    "hidden": true
   },
   "outputs": [
    {
     "name": "stdout",
     "output_type": "stream",
     "text": [
      "Harsh\n"
     ]
    }
   ],
   "source": [
    "print(name)"
   ]
  },
  {
   "cell_type": "code",
   "execution_count": 58,
   "metadata": {
    "hidden": true
   },
   "outputs": [
    {
     "name": "stdout",
     "output_type": "stream",
     "text": [
      "39.0\n"
     ]
    }
   ],
   "source": [
    "print(score)"
   ]
  },
  {
   "cell_type": "code",
   "execution_count": 60,
   "metadata": {
    "hidden": true
   },
   "outputs": [
    {
     "name": "stdout",
     "output_type": "stream",
     "text": [
      "3\n",
      "Ayşe\n",
      "3.5\n",
      "Elif\n",
      "5.7\n",
      "Efsane\n",
      "8.9\n",
      "{'Ayşe': 3.5, 'Elif': 5.7, 'Efsane': 8.9}\n"
     ]
    }
   ],
   "source": [
    "if __name__ == '__main__':\n",
    "    d={}\n",
    "    for _ in range(int(input())):\n",
    "        name = input()\n",
    "        score = float(input())\n",
    "        \n",
    "        d[name]=score\n",
    "    print(d)"
   ]
  },
  {
   "cell_type": "code",
   "execution_count": 74,
   "metadata": {
    "hidden": true
   },
   "outputs": [
    {
     "name": "stdout",
     "output_type": "stream",
     "text": [
      "3.5\n",
      "5.7\n",
      "8.9\n"
     ]
    }
   ],
   "source": [
    "for k,v in d.items():\n",
    "    print(v)"
   ]
  },
  {
   "cell_type": "markdown",
   "metadata": {
    "hidden": true
   },
   "source": [
    "**Second lowest değeri buluyor.**"
   ]
  },
  {
   "cell_type": "code",
   "execution_count": 79,
   "metadata": {
    "hidden": true
   },
   "outputs": [],
   "source": [
    "den={'Ayşe': 3.5, 'Elif': 5.7, 'Efsane': 5.7}"
   ]
  },
  {
   "cell_type": "code",
   "execution_count": 80,
   "metadata": {
    "hidden": true
   },
   "outputs": [
    {
     "name": "stdout",
     "output_type": "stream",
     "text": [
      "Elif\n",
      "Efsane\n"
     ]
    }
   ],
   "source": [
    "for k,v in den.items():\n",
    "    if den[k]==5.7:\n",
    "        print(k)"
   ]
  },
  {
   "cell_type": "markdown",
   "metadata": {
    "hidden": true
   },
   "source": [
    "**Second lowest value'yu buldum.** "
   ]
  },
  {
   "cell_type": "code",
   "execution_count": 158,
   "metadata": {
    "hidden": true
   },
   "outputs": [
    {
     "name": "stdout",
     "output_type": "stream",
     "text": [
      "5\n",
      "Harry\n",
      "37.21\n",
      "Berry\n",
      "37.21\n",
      "Tina\n",
      "37.2\n",
      "Akriti\n",
      "41\n",
      "Harsh\n",
      "39\n",
      "37.21\n"
     ]
    }
   ],
   "source": [
    "if __name__ == '__main__':\n",
    "    d={}\n",
    "    for _ in range(int(input())):\n",
    "        name = input()\n",
    "        score = float(input())\n",
    "        \n",
    "        d[name]=score\n",
    "    \n",
    "    def find_lowest(dic):\n",
    "        value_list=[]\n",
    "        \n",
    "        for k,v in d.items():\n",
    "            value_list.append(v)\n",
    "            lowest_v=min(value_list)\n",
    "            \n",
    "        return lowest_v\n",
    "    \n",
    "    def find_second_min(dic,min_value):\n",
    "        l=[]\n",
    "        for k,v in dic.items():\n",
    "            if v>min_value:\n",
    "                min_value=v\n",
    "                break\n",
    "        return min_value\n",
    "    \n",
    "    lowest_value=find_lowest(d)\n",
    "    print(find_second_min(d,lowest_value))"
   ]
  },
  {
   "cell_type": "markdown",
   "metadata": {
    "hidden": true
   },
   "source": [
    "**Second lowest value'ya sahip olan keyleri liste olarak dönüyor.**"
   ]
  },
  {
   "cell_type": "code",
   "execution_count": 159,
   "metadata": {
    "hidden": true
   },
   "outputs": [
    {
     "name": "stdout",
     "output_type": "stream",
     "text": [
      "5\n",
      "Harry\n",
      "37.21\n",
      "Berry\n",
      "37.21\n",
      "Tina\n",
      "37.2\n",
      "Akriti\n",
      "41\n",
      "Harsh\n",
      "39\n",
      "['Harry', 'Berry']\n"
     ]
    }
   ],
   "source": [
    "if __name__ == '__main__':\n",
    "    d={}\n",
    "    for _ in range(int(input())):\n",
    "        name = input()\n",
    "        score = float(input())\n",
    "        \n",
    "        d[name]=score\n",
    "    \n",
    "    def find_lowest(dic):\n",
    "        value_list=[]\n",
    "        \n",
    "        for k,v in d.items():\n",
    "            value_list.append(v)\n",
    "            lowest_v=min(value_list)\n",
    "            \n",
    "        return lowest_v\n",
    "    \n",
    "    def find_second_min(dic,min_value):\n",
    "        l=[]\n",
    "        for k,v in dic.items():\n",
    "            if v>min_value:\n",
    "                min_value=v\n",
    "                break\n",
    "        return min_value\n",
    "    \n",
    "    def list_second_min(dic,second_min_value):\n",
    "        l=[]\n",
    "        for k,v in dic.items():\n",
    "            if v==second_min_value:\n",
    "                l.append(k)\n",
    "        return l\n",
    "    \n",
    "    lowest_value=find_lowest(d)\n",
    "    sec_min_value=find_second_min(d,lowest_value)\n",
    "    print(list_second_min(d,sec_min_value))"
   ]
  },
  {
   "cell_type": "markdown",
   "metadata": {
    "hidden": true
   },
   "source": [
    "**Harf sırasını dikkate almadan listedekileri döndürüyor.**"
   ]
  },
  {
   "cell_type": "code",
   "execution_count": 160,
   "metadata": {
    "hidden": true
   },
   "outputs": [
    {
     "name": "stdout",
     "output_type": "stream",
     "text": [
      "5\n",
      "Harry\n",
      "37.21\n",
      "Berry\n",
      "37.21\n",
      "Tina\n",
      "37.2\n",
      "Akriti\n",
      "41\n",
      "Harsh\n",
      "39\n",
      "Harry\n",
      "Berry\n"
     ]
    }
   ],
   "source": [
    "if __name__ == '__main__':\n",
    "    d={}\n",
    "    for _ in range(int(input())):\n",
    "        name = input()\n",
    "        score = float(input())\n",
    "        \n",
    "        d[name]=score\n",
    "    \n",
    "    def find_lowest(dic):\n",
    "        value_list=[]\n",
    "        \n",
    "        for k,v in d.items():\n",
    "            value_list.append(v)\n",
    "            lowest_v=min(value_list)\n",
    "            \n",
    "        return lowest_v\n",
    "    \n",
    "    def find_second_min(dic,min_value):\n",
    "        l=[]\n",
    "        for k,v in dic.items():\n",
    "            if v>min_value:\n",
    "                min_value=v\n",
    "                break\n",
    "        return min_value\n",
    "    \n",
    "    def list_second_min(dic,second_min_value):\n",
    "        l=[]\n",
    "        for k,v in dic.items():\n",
    "            if v==second_min_value:\n",
    "                l.append(k)\n",
    "        return l\n",
    "    \n",
    "    lowest_value=find_lowest(d)\n",
    "    sec_min_value=find_second_min(d,lowest_value)\n",
    "    list_of_second_lowest=list_second_min(d,sec_min_value)\n",
    "    \n",
    "    for i in range(len(list_of_second_lowest)):\n",
    "        print(list_of_second_lowest[i])"
   ]
  },
  {
   "cell_type": "markdown",
   "metadata": {
    "hidden": true
   },
   "source": [
    "**Harf sırasına göre sıralamaya çalışıyorum.**"
   ]
  },
  {
   "cell_type": "code",
   "execution_count": 161,
   "metadata": {
    "hidden": true
   },
   "outputs": [],
   "source": [
    "lst = ['Stem', 'constitute', 'Sedge', 'Eflux', 'Whim', 'Intrigue']"
   ]
  },
  {
   "cell_type": "code",
   "execution_count": 162,
   "metadata": {
    "hidden": true
   },
   "outputs": [
    {
     "data": {
      "text/plain": [
       "['Eflux', 'Intrigue', 'Sedge', 'Stem', 'Whim', 'constitute']"
      ]
     },
     "execution_count": 162,
     "metadata": {},
     "output_type": "execute_result"
    }
   ],
   "source": [
    "sorted(lst)"
   ]
  },
  {
   "cell_type": "code",
   "execution_count": 163,
   "metadata": {
    "hidden": true
   },
   "outputs": [
    {
     "data": {
      "text/plain": [
       "['constitute', 'Eflux', 'Intrigue', 'Sedge', 'Stem', 'Whim']"
      ]
     },
     "execution_count": 163,
     "metadata": {},
     "output_type": "execute_result"
    }
   ],
   "source": [
    "sorted(lst, key=str.lower)"
   ]
  },
  {
   "cell_type": "code",
   "execution_count": 165,
   "metadata": {
    "hidden": true
   },
   "outputs": [
    {
     "name": "stdout",
     "output_type": "stream",
     "text": [
      "5\n",
      "Harry\n",
      "37.21\n",
      "Berry\n",
      "37.21\n",
      "Tina\n",
      "37.2\n",
      "Akriti\n",
      "41\n",
      "Harsh\n",
      "39\n",
      "Berry\n",
      "Harry\n"
     ]
    }
   ],
   "source": [
    "if __name__ == '__main__':\n",
    "    d={}\n",
    "    for _ in range(int(input())):\n",
    "        name = input()\n",
    "        score = float(input())\n",
    "        \n",
    "        d[name]=score\n",
    "    \n",
    "    def find_lowest(dic):\n",
    "        value_list=[]\n",
    "        \n",
    "        for k,v in d.items():\n",
    "            value_list.append(v)\n",
    "            lowest_v=min(value_list)\n",
    "            \n",
    "        return lowest_v\n",
    "    \n",
    "    def find_second_min(dic,min_value):\n",
    "        l=[]\n",
    "        for k,v in dic.items():\n",
    "            if v>min_value:\n",
    "                min_value=v\n",
    "                break\n",
    "        return min_value\n",
    "    \n",
    "    def list_second_min(dic,second_min_value):\n",
    "        l=[]\n",
    "        for k,v in dic.items():\n",
    "            if v==second_min_value:\n",
    "                l.append(k)\n",
    "        return l\n",
    "    \n",
    "    lowest_value=find_lowest(d)\n",
    "    sec_min_value=find_second_min(d,lowest_value)\n",
    "    list_of_second_lowest=list_second_min(d,sec_min_value)\n",
    "    \n",
    "    sorted_list=sorted(list_of_second_lowest, key=str.lower)\n",
    "    for i in range(len(sorted_list)):\n",
    "        print(sorted_list[i])"
   ]
  },
  {
   "cell_type": "code",
   "execution_count": 166,
   "metadata": {
    "hidden": true
   },
   "outputs": [
    {
     "name": "stdout",
     "output_type": "stream",
     "text": [
      "4\n",
      "Tina\n",
      "52\n",
      "Rina\n",
      "25\n",
      "Mahesh\n",
      "26\n",
      "Hean\n",
      "27\n",
      "Tina\n"
     ]
    }
   ],
   "source": [
    "if __name__ == '__main__':\n",
    "    d={}\n",
    "    for _ in range(int(input())):\n",
    "        name = input()\n",
    "        score = float(input())\n",
    "        \n",
    "        d[name]=score\n",
    "    \n",
    "    def find_lowest(dic):\n",
    "        value_list=[]\n",
    "        \n",
    "        for k,v in d.items():\n",
    "            value_list.append(v)\n",
    "            lowest_v=min(value_list)\n",
    "            \n",
    "        return lowest_v\n",
    "    \n",
    "    def find_second_min(dic,min_value):\n",
    "        l=[]\n",
    "        for k,v in dic.items():\n",
    "            if v>min_value:\n",
    "                min_value=v\n",
    "                break\n",
    "        return min_value\n",
    "    \n",
    "    def list_second_min(dic,second_min_value):\n",
    "        l=[]\n",
    "        for k,v in dic.items():\n",
    "            if v==second_min_value:\n",
    "                l.append(k)\n",
    "        return l\n",
    "    \n",
    "    lowest_value=find_lowest(d)\n",
    "    sec_min_value=find_second_min(d,lowest_value)\n",
    "    list_of_second_lowest=list_second_min(d,sec_min_value)\n",
    "    \n",
    "    sorted_list=sorted(list_of_second_lowest, key=str.lower)\n",
    "    for i in range(len(sorted_list)):\n",
    "        print(sorted_list[i])"
   ]
  },
  {
   "cell_type": "markdown",
   "metadata": {
    "hidden": true
   },
   "source": [
    "*Hatalı çalıştı.*"
   ]
  },
  {
   "cell_type": "code",
   "execution_count": 169,
   "metadata": {
    "hidden": true
   },
   "outputs": [
    {
     "name": "stdout",
     "output_type": "stream",
     "text": [
      "4\n",
      "Tina\n",
      "52\n",
      "Rina\n",
      "25\n",
      "Mahesh\n",
      "26\n",
      "Hean\n",
      "27\n",
      "25.0\n"
     ]
    }
   ],
   "source": [
    "if __name__ == '__main__':\n",
    "    d={}\n",
    "    for _ in range(int(input())):\n",
    "        name = input()\n",
    "        score = float(input())\n",
    "        \n",
    "        d[name]=score\n",
    "    \n",
    "    def find_lowest(dic):\n",
    "        value_list=[]\n",
    "        \n",
    "        for k,v in d.items():\n",
    "            value_list.append(v)\n",
    "            lowest_v=min(value_list)\n",
    "            \n",
    "        return lowest_v\n",
    "    \n",
    "lowest_value=find_lowest(d)\n",
    "print(lowest_value)"
   ]
  },
  {
   "cell_type": "markdown",
   "metadata": {
    "hidden": true
   },
   "source": [
    "**find_lowest fonksiyonu doğru çalıştı.**"
   ]
  },
  {
   "cell_type": "code",
   "execution_count": 170,
   "metadata": {
    "hidden": true
   },
   "outputs": [
    {
     "name": "stdout",
     "output_type": "stream",
     "text": [
      "4\n",
      "Tina\n",
      "52\n",
      "Rina\n",
      "25\n",
      "Mahesh\n",
      "26\n",
      "Hean\n",
      "27\n",
      "52.0\n"
     ]
    }
   ],
   "source": [
    "if __name__ == '__main__':\n",
    "    d={}\n",
    "    for _ in range(int(input())):\n",
    "        name = input()\n",
    "        score = float(input())\n",
    "        \n",
    "        d[name]=score\n",
    "    \n",
    "    def find_lowest(dic):\n",
    "        value_list=[]\n",
    "        \n",
    "        for k,v in d.items():\n",
    "            value_list.append(v)\n",
    "            lowest_v=min(value_list)\n",
    "            \n",
    "        return lowest_v\n",
    "    \n",
    "    def find_second_min(dic,min_value):\n",
    "        l=[]\n",
    "        for k,v in dic.items():\n",
    "            if v>min_value:\n",
    "                min_value=v\n",
    "                break\n",
    "        return min_value\n",
    "    \n",
    "    \n",
    "    lowest_value=find_lowest(d)\n",
    "    sec_min_value=find_second_min(d,lowest_value)\n",
    "    \n",
    "    print(sec_min_value)"
   ]
  },
  {
   "cell_type": "markdown",
   "metadata": {
    "hidden": true
   },
   "source": [
    "**find_second_min fonksiyonu ilk büyük alanı second_min_value olarak kabul ediyormuş... Önce küçükten büyüğe doğru sıralayıp öyle bu fonksiyonu çalıştırmam gerekiyor.**"
   ]
  },
  {
   "cell_type": "markdown",
   "metadata": {
    "hidden": true
   },
   "source": [
    "Sıralamaya çalışıyorum..."
   ]
  },
  {
   "cell_type": "code",
   "execution_count": 171,
   "metadata": {
    "hidden": true
   },
   "outputs": [],
   "source": [
    "x = {'Tina': 52, 'Rina': 25, 'Mahesh': 26, 'Hean': 27}"
   ]
  },
  {
   "cell_type": "code",
   "execution_count": 172,
   "metadata": {
    "hidden": true
   },
   "outputs": [
    {
     "data": {
      "text/plain": [
       "{'Rina': 25, 'Mahesh': 26, 'Hean': 27, 'Tina': 52}"
      ]
     },
     "execution_count": 172,
     "metadata": {},
     "output_type": "execute_result"
    }
   ],
   "source": [
    "{k: v for k, v in sorted(x.items(), key=lambda item: item[1])}"
   ]
  },
  {
   "cell_type": "code",
   "execution_count": 175,
   "metadata": {
    "hidden": true
   },
   "outputs": [
    {
     "name": "stdout",
     "output_type": "stream",
     "text": [
      "Hean : 27\n",
      "Mahesh : 26\n",
      "Rina : 25\n",
      "Tina : 52\n"
     ]
    }
   ],
   "source": [
    "for k,v in sorted(x.items()):\n",
    "    print(k,\":\", v)  # harf sırasına göre dizdi"
   ]
  },
  {
   "cell_type": "code",
   "execution_count": 176,
   "metadata": {
    "hidden": true
   },
   "outputs": [],
   "source": [
    "key=lambda item: item[1]"
   ]
  },
  {
   "cell_type": "code",
   "execution_count": 177,
   "metadata": {
    "hidden": true
   },
   "outputs": [
    {
     "data": {
      "text/plain": [
       "<function __main__.<lambda>(item)>"
      ]
     },
     "execution_count": 177,
     "metadata": {},
     "output_type": "execute_result"
    }
   ],
   "source": [
    "key"
   ]
  },
  {
   "cell_type": "code",
   "execution_count": 179,
   "metadata": {
    "hidden": true
   },
   "outputs": [
    {
     "data": {
      "text/plain": [
       "{'Rina': 25, 'Mahesh': 26, 'Hean': 27, 'Tina': 52}"
      ]
     },
     "execution_count": 179,
     "metadata": {},
     "output_type": "execute_result"
    }
   ],
   "source": [
    "{k: v for k, v in sorted(x.items(), key=lambda item: item[1])}"
   ]
  },
  {
   "cell_type": "code",
   "execution_count": 181,
   "metadata": {
    "hidden": true
   },
   "outputs": [
    {
     "name": "stdout",
     "output_type": "stream",
     "text": [
      "4\n",
      "Tina\n",
      "52\n",
      "Rina\n",
      "25\n",
      "Mahesh\n",
      "26\n",
      "Hean\n",
      "27\n",
      "26.0\n"
     ]
    }
   ],
   "source": [
    "if __name__ == '__main__':\n",
    "    d={}\n",
    "    for _ in range(int(input())):\n",
    "        name = input()\n",
    "        score = float(input())\n",
    "        \n",
    "        d[name]=score\n",
    "    \n",
    "    def sorted_dict(dic):\n",
    "        return {k: v for k, v in sorted(dic.items(), key=lambda item: item[1])}\n",
    "    \n",
    "    \n",
    "    def find_lowest(dic):\n",
    "        value_list=[]\n",
    "        \n",
    "        for k,v in d.items():\n",
    "            value_list.append(v)\n",
    "            lowest_v=min(value_list)\n",
    "            \n",
    "        return lowest_v\n",
    "    \n",
    "    def find_second_min(dic,min_value):\n",
    "        l=[]\n",
    "        for k,v in dic.items():\n",
    "            if v>min_value:\n",
    "                min_value=v\n",
    "                break\n",
    "        return min_value\n",
    "    \n",
    "    sorted_dict=sorted_dict(d)\n",
    "    lowest_value=find_lowest(sorted_dict)\n",
    "    sec_min_value=find_second_min(sorted_dict,lowest_value)\n",
    "    \n",
    "    print(sec_min_value)"
   ]
  },
  {
   "cell_type": "markdown",
   "metadata": {},
   "source": [
    "#### Çözüm"
   ]
  },
  {
   "cell_type": "code",
   "execution_count": 182,
   "metadata": {},
   "outputs": [
    {
     "name": "stdout",
     "output_type": "stream",
     "text": [
      "4\n",
      "Tina\n",
      "52\n",
      "Rina\n",
      "25\n",
      "Mahesh\n",
      "26\n",
      "Hean\n",
      "27\n",
      "Mahesh\n"
     ]
    }
   ],
   "source": [
    "if __name__ == '__main__':\n",
    "    d={}\n",
    "    for _ in range(int(input())):\n",
    "        name = input()\n",
    "        score = float(input())\n",
    "        \n",
    "        d[name]=score\n",
    "    \n",
    "    def sorted_dict(dic):\n",
    "        return {k: v for k, v in sorted(dic.items(), key=lambda item: item[1])}\n",
    "    \n",
    "    \n",
    "    def find_lowest(dic):\n",
    "        value_list=[]\n",
    "        \n",
    "        for k,v in d.items():\n",
    "            value_list.append(v)\n",
    "            lowest_v=min(value_list)\n",
    "            \n",
    "        return lowest_v\n",
    "    \n",
    "    def find_second_min(dic,min_value):\n",
    "        l=[]\n",
    "        for k,v in dic.items():\n",
    "            if v>min_value:\n",
    "                min_value=v\n",
    "                break\n",
    "        return min_value\n",
    "    \n",
    "    \n",
    "    def list_second_min(dic,second_min_value):\n",
    "        l=[]\n",
    "        \n",
    "        for k,v in dic.items():\n",
    "            if v==second_min_value:\n",
    "                l.append(k)\n",
    "                \n",
    "        return l\n",
    "    \n",
    "    sorted_dict=sorted_dict(d)\n",
    "    lowest_value=find_lowest(sorted_dict)\n",
    "    sec_min_value=find_second_min(sorted_dict,lowest_value)\n",
    "    list_of_second_lowest=list_second_min(sorted_dict,sec_min_value)\n",
    "    \n",
    "    sorted_list=sorted(list_of_second_lowest, key=str.lower)\n",
    "    for i in range(len(sorted_list)):\n",
    "        print(sorted_list[i])"
   ]
  },
  {
   "cell_type": "markdown",
   "metadata": {},
   "source": [
    "### [11. Finding the percentage](https://www.hackerrank.com/challenges/finding-the-percentage/problem)"
   ]
  },
  {
   "cell_type": "markdown",
   "metadata": {
    "heading_collapsed": true
   },
   "source": [
    "#### Denemeler"
   ]
  },
  {
   "cell_type": "code",
   "execution_count": null,
   "metadata": {
    "hidden": true
   },
   "outputs": [],
   "source": [
    "if __name__ == '__main__':\n",
    "    n = int(input())\n",
    "    student_marks = {}\n",
    "    for _ in range(n):\n",
    "        name, *line = input().split()\n",
    "        scores = list(map(float, line))\n",
    "        student_marks[name] = scores\n",
    "    query_name = input()"
   ]
  },
  {
   "cell_type": "code",
   "execution_count": 189,
   "metadata": {
    "hidden": true
   },
   "outputs": [
    {
     "name": "stdout",
     "output_type": "stream",
     "text": [
      "3\n",
      "Krishna 67 68 69\n",
      "Arjun 70 98 63\n",
      "Malika 52 56 60\n",
      "Malika\n",
      "[52.0, 56.0, 60.0]\n"
     ]
    }
   ],
   "source": [
    "if __name__ == '__main__':\n",
    "    n = int(input())\n",
    "    student_marks = {}\n",
    "    for _ in range(n):\n",
    "        name, *line = input().split()\n",
    "        scores = list(map(float, line))\n",
    "        student_marks[name] = scores\n",
    "    query_name = input()\n",
    "    \n",
    "    for k,v in student_marks.items():\n",
    "        student_marks[k]=v\n",
    "        if k==query_name:\n",
    "            print(student_marks[k])\n",
    "            "
   ]
  },
  {
   "cell_type": "code",
   "execution_count": 191,
   "metadata": {
    "hidden": true
   },
   "outputs": [
    {
     "name": "stdout",
     "output_type": "stream",
     "text": [
      "3\n",
      "Krishna 67 68 69\n",
      "Arjun 70 98 63\n",
      "Malika 52 56 60\n",
      "Malika\n",
      "[52.0, 56.0, 60.0]\n"
     ]
    }
   ],
   "source": [
    "if __name__ == '__main__':\n",
    "    n = int(input())\n",
    "    student_marks = {}\n",
    "    for _ in range(n):\n",
    "        name, *line = input().split()\n",
    "        scores = list(map(float, line))\n",
    "        student_marks[name] = scores\n",
    "    query_name = input()\n",
    "    \n",
    "    query_list=[]\n",
    "    for k,v in student_marks.items():\n",
    "        student_marks[k]=v\n",
    "        if k==query_name:\n",
    "            query_list=student_marks[k]\n",
    "            \n",
    "print(query_list)"
   ]
  },
  {
   "cell_type": "code",
   "execution_count": 192,
   "metadata": {
    "hidden": true
   },
   "outputs": [
    {
     "name": "stdout",
     "output_type": "stream",
     "text": [
      "3\n",
      "Krishna 67 68 69\n",
      "Arjun 70 98 63\n",
      "Malika 52 56 60\n",
      "Malika\n",
      "168.0\n"
     ]
    }
   ],
   "source": [
    "if __name__ == '__main__':\n",
    "    n = int(input())\n",
    "    student_marks = {}\n",
    "    for _ in range(n):\n",
    "        name, *line = input().split()\n",
    "        scores = list(map(float, line))\n",
    "        student_marks[name] = scores\n",
    "    query_name = input()\n",
    "    \n",
    "    query_list=[]\n",
    "    for k,v in student_marks.items():\n",
    "        student_marks[k]=v\n",
    "        if k==query_name:\n",
    "            query_list=student_marks[k]\n",
    "            \n",
    "    toplam=0\n",
    "    for i in range(len(query_list)):\n",
    "        toplam=toplam + query_list[i]\n",
    "        \n",
    "            \n",
    "print(toplam)"
   ]
  },
  {
   "cell_type": "code",
   "execution_count": 193,
   "metadata": {
    "hidden": true
   },
   "outputs": [
    {
     "name": "stdout",
     "output_type": "stream",
     "text": [
      "3\n",
      "Krishna 67 68 69\n",
      "Arjun 70 98 63\n",
      "Malika 52 56 60\n",
      "Malika\n",
      "56.0\n"
     ]
    }
   ],
   "source": [
    "if __name__ == '__main__':\n",
    "    n = int(input())\n",
    "    student_marks = {}\n",
    "    for _ in range(n):\n",
    "        name, *line = input().split()\n",
    "        scores = list(map(float, line))\n",
    "        student_marks[name] = scores\n",
    "    query_name = input()\n",
    "    \n",
    "    query_list=[]\n",
    "    for k,v in student_marks.items():\n",
    "        student_marks[k]=v\n",
    "        if k==query_name:\n",
    "            query_list=student_marks[k]\n",
    "            \n",
    "    toplam=0\n",
    "    for i in range(len(query_list)):\n",
    "        toplam=toplam + query_list[i]\n",
    "        \n",
    "    average=toplam/len(query_list)\n",
    "        \n",
    "            \n",
    "print(average)"
   ]
  },
  {
   "cell_type": "markdown",
   "metadata": {},
   "source": [
    "#### Çözüm"
   ]
  },
  {
   "cell_type": "code",
   "execution_count": 194,
   "metadata": {},
   "outputs": [
    {
     "name": "stdout",
     "output_type": "stream",
     "text": [
      "3\n",
      "Krishna 67 68 69\n",
      "Arjun 70 98 63\n",
      "Malika 52 56 60\n",
      "Malika\n",
      "56.00\n"
     ]
    }
   ],
   "source": [
    "if __name__ == '__main__':\n",
    "    n = int(input())\n",
    "    student_marks = {}\n",
    "    for _ in range(n):\n",
    "        name, *line = input().split()\n",
    "        scores = list(map(float, line))\n",
    "        student_marks[name] = scores\n",
    "    query_name = input()\n",
    "    \n",
    "    query_list=[]\n",
    "    for k,v in student_marks.items():\n",
    "        student_marks[k]=v\n",
    "        if k==query_name:\n",
    "            query_list=student_marks[k]\n",
    "            \n",
    "    toplam=0\n",
    "    for i in range(len(query_list)):\n",
    "        toplam=toplam + query_list[i]\n",
    "        \n",
    "    average=toplam/len(query_list)\n",
    "        \n",
    "            \n",
    "print(format(average,\".2f\"))"
   ]
  },
  {
   "cell_type": "markdown",
   "metadata": {},
   "source": [
    "### [12. Zipped!](https://www.hackerrank.com/challenges/zipped/problem)"
   ]
  },
  {
   "cell_type": "markdown",
   "metadata": {
    "heading_collapsed": true
   },
   "source": [
    "#### Denemeler"
   ]
  },
  {
   "cell_type": "code",
   "execution_count": 1,
   "metadata": {
    "hidden": true
   },
   "outputs": [
    {
     "name": "stdout",
     "output_type": "stream",
     "text": [
      "2\n"
     ]
    }
   ],
   "source": [
    "if __name__ == '__main__':\n",
    "    N = int(input())"
   ]
  },
  {
   "cell_type": "code",
   "execution_count": 2,
   "metadata": {
    "hidden": true
   },
   "outputs": [
    {
     "name": "stdout",
     "output_type": "stream",
     "text": [
      "2\n",
      "0\n",
      "1\n"
     ]
    }
   ],
   "source": [
    "if __name__ == '__main__':\n",
    "    N = int(input())\n",
    "    \n",
    "    for i in range(N):\n",
    "        print(i)"
   ]
  },
  {
   "cell_type": "code",
   "execution_count": 9,
   "metadata": {
    "hidden": true
   },
   "outputs": [
    {
     "name": "stdout",
     "output_type": "stream",
     "text": [
      "2\n",
      "insert 2 3\n",
      "<class 'list'>\n",
      "insert 4 5\n",
      "<class 'list'>\n"
     ]
    }
   ],
   "source": [
    "if __name__ == '__main__':\n",
    "    N = int(input())\n",
    "    l=[]\n",
    "    \n",
    "    for _ in range(N):\n",
    "        operation, *line = input().split()\n",
    "        print(type(line))\n",
    "\n",
    "    "
   ]
  },
  {
   "cell_type": "code",
   "execution_count": 10,
   "metadata": {
    "hidden": true
   },
   "outputs": [
    {
     "name": "stdout",
     "output_type": "stream",
     "text": [
      "2\n",
      "insert 4 5\n",
      "4 5\n",
      "append 7 8\n",
      "7 8\n"
     ]
    }
   ],
   "source": [
    "if __name__ == '__main__':\n",
    "    N = int(input())\n",
    "    l=[]\n",
    "    \n",
    "    for _ in range(N):\n",
    "        operation, *line = input().split()\n",
    "        \n",
    "        print(line[0],line[1])"
   ]
  },
  {
   "cell_type": "code",
   "execution_count": 11,
   "metadata": {
    "hidden": true
   },
   "outputs": [
    {
     "name": "stdout",
     "output_type": "stream",
     "text": [
      "2\n",
      "insert 4 5\n"
     ]
    },
    {
     "ename": "TypeError",
     "evalue": "'str' object cannot be interpreted as an integer",
     "output_type": "error",
     "traceback": [
      "\u001b[1;31m---------------------------------------------------------------------------\u001b[0m",
      "\u001b[1;31mTypeError\u001b[0m                                 Traceback (most recent call last)",
      "\u001b[1;32m<ipython-input-11-81560a7d443e>\u001b[0m in \u001b[0;36m<module>\u001b[1;34m\u001b[0m\n\u001b[0;32m      6\u001b[0m         \u001b[0moperation\u001b[0m\u001b[1;33m,\u001b[0m \u001b[1;33m*\u001b[0m\u001b[0mline\u001b[0m \u001b[1;33m=\u001b[0m \u001b[0minput\u001b[0m\u001b[1;33m(\u001b[0m\u001b[1;33m)\u001b[0m\u001b[1;33m.\u001b[0m\u001b[0msplit\u001b[0m\u001b[1;33m(\u001b[0m\u001b[1;33m)\u001b[0m\u001b[1;33m\u001b[0m\u001b[1;33m\u001b[0m\u001b[0m\n\u001b[0;32m      7\u001b[0m \u001b[1;33m\u001b[0m\u001b[0m\n\u001b[1;32m----> 8\u001b[1;33m         \u001b[0ml\u001b[0m\u001b[1;33m.\u001b[0m\u001b[0minsert\u001b[0m\u001b[1;33m(\u001b[0m\u001b[0mline\u001b[0m\u001b[1;33m[\u001b[0m\u001b[1;36m0\u001b[0m\u001b[1;33m]\u001b[0m\u001b[1;33m,\u001b[0m\u001b[0mline\u001b[0m\u001b[1;33m[\u001b[0m\u001b[1;36m1\u001b[0m\u001b[1;33m]\u001b[0m\u001b[1;33m)\u001b[0m\u001b[1;33m\u001b[0m\u001b[1;33m\u001b[0m\u001b[0m\n\u001b[0m\u001b[0;32m      9\u001b[0m         \u001b[0mprint\u001b[0m\u001b[1;33m(\u001b[0m\u001b[0ml\u001b[0m\u001b[1;33m)\u001b[0m\u001b[1;33m\u001b[0m\u001b[1;33m\u001b[0m\u001b[0m\n",
      "\u001b[1;31mTypeError\u001b[0m: 'str' object cannot be interpreted as an integer"
     ]
    }
   ],
   "source": [
    "if __name__ == '__main__':\n",
    "    N = int(input())\n",
    "    l=[]\n",
    "    \n",
    "    for _ in range(N):\n",
    "        operation, *line = input().split()\n",
    "        \n",
    "        l.insert(line[0],line[1])\n",
    "        print(l)"
   ]
  },
  {
   "cell_type": "code",
   "execution_count": 12,
   "metadata": {
    "hidden": true
   },
   "outputs": [
    {
     "name": "stdout",
     "output_type": "stream",
     "text": [
      "1\n",
      "insert 2 3\n",
      "<class 'str'>\n"
     ]
    }
   ],
   "source": [
    "if __name__ == '__main__':\n",
    "    N = int(input())\n",
    "    l=[]\n",
    "    \n",
    "    for _ in range(N):\n",
    "        operation, *line = input().split()\n",
    "        \n",
    "        print(type(line[0]))"
   ]
  },
  {
   "cell_type": "code",
   "execution_count": 15,
   "metadata": {
    "hidden": true
   },
   "outputs": [
    {
     "name": "stdout",
     "output_type": "stream",
     "text": [
      "1\n",
      "insert 2 3\n",
      "<class 'int'>\n"
     ]
    }
   ],
   "source": [
    "if __name__ == '__main__':\n",
    "    N = int(input())\n",
    "    l=[]\n",
    "    \n",
    "    for _ in range(N):\n",
    "        operation, *line = input().split()\n",
    "        \n",
    "        line[0]=int(line[0])\n",
    "        \n",
    "        print(type(line[0]))"
   ]
  },
  {
   "cell_type": "code",
   "execution_count": 16,
   "metadata": {
    "hidden": true
   },
   "outputs": [
    {
     "name": "stdout",
     "output_type": "stream",
     "text": [
      "1\n",
      "append 1\n"
     ]
    },
    {
     "ename": "IndexError",
     "evalue": "list index out of range",
     "output_type": "error",
     "traceback": [
      "\u001b[1;31m---------------------------------------------------------------------------\u001b[0m",
      "\u001b[1;31mIndexError\u001b[0m                                Traceback (most recent call last)",
      "\u001b[1;32m<ipython-input-16-e6bff96c74cd>\u001b[0m in \u001b[0;36m<module>\u001b[1;34m\u001b[0m\n\u001b[0;32m      7\u001b[0m \u001b[1;33m\u001b[0m\u001b[0m\n\u001b[0;32m      8\u001b[0m         \u001b[0mline\u001b[0m\u001b[1;33m[\u001b[0m\u001b[1;36m0\u001b[0m\u001b[1;33m]\u001b[0m\u001b[1;33m=\u001b[0m\u001b[0mint\u001b[0m\u001b[1;33m(\u001b[0m\u001b[0mline\u001b[0m\u001b[1;33m[\u001b[0m\u001b[1;36m0\u001b[0m\u001b[1;33m]\u001b[0m\u001b[1;33m)\u001b[0m\u001b[1;33m\u001b[0m\u001b[1;33m\u001b[0m\u001b[0m\n\u001b[1;32m----> 9\u001b[1;33m         \u001b[0mline\u001b[0m\u001b[1;33m[\u001b[0m\u001b[1;36m1\u001b[0m\u001b[1;33m]\u001b[0m\u001b[1;33m=\u001b[0m\u001b[0mint\u001b[0m\u001b[1;33m(\u001b[0m\u001b[0mline\u001b[0m\u001b[1;33m[\u001b[0m\u001b[1;36m1\u001b[0m\u001b[1;33m]\u001b[0m\u001b[1;33m)\u001b[0m\u001b[1;33m\u001b[0m\u001b[1;33m\u001b[0m\u001b[0m\n\u001b[0m\u001b[0;32m     10\u001b[0m \u001b[1;33m\u001b[0m\u001b[0m\n\u001b[0;32m     11\u001b[0m         \u001b[0mprint\u001b[0m\u001b[1;33m(\u001b[0m\u001b[0mtype\u001b[0m\u001b[1;33m(\u001b[0m\u001b[0mline\u001b[0m\u001b[1;33m[\u001b[0m\u001b[1;36m1\u001b[0m\u001b[1;33m]\u001b[0m\u001b[1;33m)\u001b[0m\u001b[1;33m)\u001b[0m\u001b[1;33m\u001b[0m\u001b[1;33m\u001b[0m\u001b[0m\n",
      "\u001b[1;31mIndexError\u001b[0m: list index out of range"
     ]
    }
   ],
   "source": [
    "if __name__ == '__main__':\n",
    "    N = int(input())\n",
    "    l=[]\n",
    "    \n",
    "    for _ in range(N):\n",
    "        operation, *line = input().split()\n",
    "        \n",
    "        line[0]=int(line[0])\n",
    "        line[1]=int(line[1])\n",
    "        \n",
    "        print(type(line[1]))"
   ]
  },
  {
   "cell_type": "code",
   "execution_count": 18,
   "metadata": {
    "hidden": true
   },
   "outputs": [
    {
     "name": "stdout",
     "output_type": "stream",
     "text": [
      "2\n",
      "append 1\n",
      "1\n",
      "insert 3 1\n",
      "3\n"
     ]
    }
   ],
   "source": [
    "if __name__ == '__main__':\n",
    "    N = int(input())\n",
    "    l=[]\n",
    "    \n",
    "    for _ in range(N):\n",
    "        operation, *line = input().split()\n",
    "        \n",
    "        if len(line)==1:\n",
    "            line[0]=int(line[0])\n",
    "            \n",
    "        elif len(line)==2:\n",
    "            line[0]=int(line[0])\n",
    "            line[1]=int(line[1])\n",
    "        \n",
    "        \n",
    "        print(line[0])"
   ]
  },
  {
   "cell_type": "code",
   "execution_count": 20,
   "metadata": {
    "hidden": true
   },
   "outputs": [
    {
     "name": "stdout",
     "output_type": "stream",
     "text": [
      "1\n",
      "append 1\n",
      "[1]\n"
     ]
    }
   ],
   "source": [
    "if __name__ == '__main__':\n",
    "    N = int(input())\n",
    "    l=[]\n",
    "    \n",
    "    for _ in range(N):\n",
    "        operation, *line = input().split()\n",
    "        \n",
    "        if len(line)==1:\n",
    "            line[0]=int(line[0])\n",
    "            \n",
    "        elif len(line)==2:\n",
    "            line[0]=int(line[0])\n",
    "            line[1]=int(line[1])\n",
    "        \n",
    "        \n",
    "        if operation==\"append\":\n",
    "            l.append(line[0])\n",
    "            print(l)"
   ]
  },
  {
   "cell_type": "code",
   "execution_count": 21,
   "metadata": {
    "hidden": true
   },
   "outputs": [
    {
     "name": "stdout",
     "output_type": "stream",
     "text": [
      "3\n",
      "append 1\n",
      "[1]\n",
      "append 2\n",
      "[1, 2]\n",
      "insert 3 1\n",
      "[1, 3, 2]\n"
     ]
    }
   ],
   "source": [
    "if __name__ == '__main__':\n",
    "    N = int(input())\n",
    "    l=[]\n",
    "    \n",
    "    for _ in range(N):\n",
    "        operation, *line = input().split()\n",
    "        \n",
    "        if len(line)==1:\n",
    "            line[0]=int(line[0])\n",
    "            \n",
    "        elif len(line)==2:\n",
    "            line[0]=int(line[0])\n",
    "            line[1]=int(line[1])\n",
    "        \n",
    "        \n",
    "        if operation==\"append\":\n",
    "            l.append(line[0])\n",
    "            print(l)\n",
    "            \n",
    "        elif operation==\"insert\":\n",
    "            l.insert(line[1],line[0])\n",
    "            print(l)"
   ]
  },
  {
   "cell_type": "code",
   "execution_count": 22,
   "metadata": {
    "hidden": true
   },
   "outputs": [
    {
     "name": "stdout",
     "output_type": "stream",
     "text": [
      "4\n",
      "append 1\n",
      "append 2\n",
      "insert 3 1\n",
      "print\n",
      "[1, 3, 2]\n"
     ]
    }
   ],
   "source": [
    "if __name__ == '__main__':\n",
    "    N = int(input())\n",
    "    l=[]\n",
    "    \n",
    "    for _ in range(N):\n",
    "        operation, *line = input().split()\n",
    "        \n",
    "        if len(line)==1:\n",
    "            line[0]=int(line[0])\n",
    "            \n",
    "        elif len(line)==2:\n",
    "            line[0]=int(line[0])\n",
    "            line[1]=int(line[1])\n",
    "        \n",
    "        \n",
    "        if operation==\"append\":\n",
    "            l.append(line[0])\n",
    "            \n",
    "        elif operation==\"insert\":\n",
    "            l.insert(line[1],line[0])\n",
    "            \n",
    "        elif operation==\"print\":\n",
    "            print(l)"
   ]
  },
  {
   "cell_type": "markdown",
   "metadata": {},
   "source": [
    "#### Çözüm"
   ]
  },
  {
   "cell_type": "code",
   "execution_count": 2,
   "metadata": {},
   "outputs": [
    {
     "name": "stdout",
     "output_type": "stream",
     "text": [
      "12\n",
      "insert 0 5\n",
      "insert 1 10\n",
      "insert 0 6\n",
      "print\n",
      "[6, 5, 10]\n",
      "remove 6\n",
      "append 9\n",
      "append 1\n",
      "sort\n",
      "print\n",
      "[1, 5, 9, 10]\n",
      "pop\n",
      "reverse\n",
      "print\n",
      "[9, 5, 1]\n"
     ]
    }
   ],
   "source": [
    "if __name__ == '__main__':\n",
    "    N = int(input())\n",
    "    l=[]\n",
    "    \n",
    "    for _ in range(N):\n",
    "        operation, *line = input().split()\n",
    "        \n",
    "        if len(line)==1:\n",
    "            line[0]=int(line[0])\n",
    "            \n",
    "        elif len(line)==2:\n",
    "            line[0]=int(line[0])\n",
    "            line[1]=int(line[1])\n",
    "        \n",
    "        \n",
    "        if operation==\"append\":\n",
    "            l.append(line[0])\n",
    "            \n",
    "        elif operation==\"insert\":\n",
    "            l.insert(line[0],line[1])\n",
    "            \n",
    "        elif operation==\"remove\":\n",
    "            l.remove(line[0]) \n",
    "            \n",
    "        elif operation==\"sort\":\n",
    "            l.sort()  \n",
    "            \n",
    "        elif operation==\"pop\":\n",
    "            l.pop() \n",
    "            \n",
    "        elif operation==\"reverse\":\n",
    "            l.reverse() \n",
    "            \n",
    "        else:\n",
    "            print(l)"
   ]
  },
  {
   "cell_type": "markdown",
   "metadata": {},
   "source": [
    "### [13. Tuples](https://www.hackerrank.com/challenges/python-tuples/problem)"
   ]
  },
  {
   "cell_type": "markdown",
   "metadata": {
    "heading_collapsed": true
   },
   "source": [
    "#### Denemeler"
   ]
  },
  {
   "cell_type": "code",
   "execution_count": 6,
   "metadata": {
    "hidden": true
   },
   "outputs": [
    {
     "name": "stdout",
     "output_type": "stream",
     "text": [
      "2\n",
      "1 2\n"
     ]
    }
   ],
   "source": [
    "if __name__ == '__main__':\n",
    "    n = int(input())\n",
    "    integer_list = map(int, input().split())"
   ]
  },
  {
   "cell_type": "code",
   "execution_count": 8,
   "metadata": {
    "hidden": true
   },
   "outputs": [
    {
     "name": "stdout",
     "output_type": "stream",
     "text": [
      "2\n",
      "1 2\n",
      "2\n",
      "[1, 2]\n"
     ]
    }
   ],
   "source": [
    "if __name__ == '__main__':\n",
    "    n = int(input())\n",
    "    integer_list = map(int, input().split())\n",
    "    \n",
    "    print(n)\n",
    "    print(list(integer_list))"
   ]
  },
  {
   "cell_type": "code",
   "execution_count": 9,
   "metadata": {
    "hidden": true
   },
   "outputs": [
    {
     "name": "stdout",
     "output_type": "stream",
     "text": [
      "2\n",
      "1 2\n",
      "2\n",
      "(1, 2)\n"
     ]
    }
   ],
   "source": [
    "if __name__ == '__main__':\n",
    "    n = int(input())\n",
    "    integer_list = map(int, input().split())\n",
    "    \n",
    "    print(n)\n",
    "    print(tuple(integer_list))"
   ]
  },
  {
   "cell_type": "code",
   "execution_count": 12,
   "metadata": {
    "hidden": true
   },
   "outputs": [
    {
     "name": "stdout",
     "output_type": "stream",
     "text": [
      "2\n",
      "1 2\n",
      "3713081631934410656\n"
     ]
    }
   ],
   "source": [
    "if __name__ == '__main__':\n",
    "    n = int(input())\n",
    "    integer_list = map(int, input().split())\n",
    "    \n",
    "    tuple_list= tuple(integer_list)\n",
    "    print(hash(tuple_list))"
   ]
  },
  {
   "cell_type": "code",
   "execution_count": 14,
   "metadata": {
    "hidden": true
   },
   "outputs": [
    {
     "name": "stdout",
     "output_type": "stream",
     "text": [
      "2\n",
      "1 2\n",
      "<class 'map'>\n"
     ]
    }
   ],
   "source": [
    "if __name__ == '__main__':\n",
    "    n = int(input())\n",
    "    integer_list = map(int, input().split())\n",
    "    \n",
    "    print(type(integer_list))"
   ]
  },
  {
   "cell_type": "markdown",
   "metadata": {},
   "source": [
    "#### Çözüm"
   ]
  },
  {
   "cell_type": "code",
   "execution_count": 20,
   "metadata": {},
   "outputs": [
    {
     "name": "stdout",
     "output_type": "stream",
     "text": [
      "3\n",
      "45 67 78\n",
      "45\n",
      "<class 'int'>\n",
      "67\n",
      "<class 'int'>\n",
      "78\n",
      "<class 'int'>\n"
     ]
    }
   ],
   "source": [
    "if __name__ == '__main__':\n",
    "    n = int(input())\n",
    "    integer_list = map(int, input().split())\n",
    "    \n",
    "    list_int=list(integer_list)\n",
    "    for i in range(len(list_int)):\n",
    "        print(list_int[i])\n",
    "        print(type(list_int[i]))"
   ]
  },
  {
   "cell_type": "code",
   "execution_count": 22,
   "metadata": {},
   "outputs": [
    {
     "name": "stdout",
     "output_type": "stream",
     "text": [
      "3\n",
      "34 57 88\n",
      "34\n",
      "<class 'int'>\n",
      "57\n",
      "<class 'int'>\n",
      "88\n",
      "<class 'int'>\n"
     ]
    }
   ],
   "source": [
    "if __name__ == '__main__':\n",
    "    n = int(input())\n",
    "    integer_list = map(int, input().split())\n",
    "    \n",
    "    tuple_int=tuple(integer_list)\n",
    "    for i in range(len(list_int)):\n",
    "        print(tuple_int[i])\n",
    "        print(type(tuple_int[i]))"
   ]
  },
  {
   "cell_type": "code",
   "execution_count": 23,
   "metadata": {},
   "outputs": [
    {
     "name": "stdout",
     "output_type": "stream",
     "text": [
      "3\n",
      "23 45 67\n",
      "8363265708616315782\n"
     ]
    }
   ],
   "source": [
    "if __name__ == '__main__':\n",
    "    n = int(input())\n",
    "    integer_list = map(int, input().split())\n",
    "    \n",
    "    tuple_list= tuple(integer_list)\n",
    "    print(hash(tuple_list))"
   ]
  },
  {
   "cell_type": "markdown",
   "metadata": {},
   "source": [
    "### [14. String Validators](https://www.hackerrank.com/challenges/string-validators/problem)"
   ]
  },
  {
   "cell_type": "markdown",
   "metadata": {
    "heading_collapsed": true
   },
   "source": [
    "#### Ön Bilgi"
   ]
  },
  {
   "cell_type": "markdown",
   "metadata": {
    "hidden": true
   },
   "source": [
    "`str.isalnum()`\n",
    "\n",
    "This method checks if all the characters of a string are alphanumeric (a-z, A-Z and 0-9)."
   ]
  },
  {
   "cell_type": "code",
   "execution_count": 25,
   "metadata": {
    "hidden": true
   },
   "outputs": [
    {
     "name": "stdout",
     "output_type": "stream",
     "text": [
      "True\n"
     ]
    }
   ],
   "source": [
    "print('ab123'.isalnum())"
   ]
  },
  {
   "cell_type": "code",
   "execution_count": 26,
   "metadata": {
    "hidden": true
   },
   "outputs": [
    {
     "name": "stdout",
     "output_type": "stream",
     "text": [
      "False\n"
     ]
    }
   ],
   "source": [
    "print('ab123#'.isalnum())"
   ]
  },
  {
   "cell_type": "markdown",
   "metadata": {
    "hidden": true
   },
   "source": [
    "`str.isalpha()`\n",
    "\n",
    "This method checks if all the characters of a string are alphabetical (a-z and A-Z)."
   ]
  },
  {
   "cell_type": "code",
   "execution_count": 27,
   "metadata": {
    "hidden": true
   },
   "outputs": [
    {
     "name": "stdout",
     "output_type": "stream",
     "text": [
      "True\n"
     ]
    }
   ],
   "source": [
    "print('abcD'.isalpha())"
   ]
  },
  {
   "cell_type": "code",
   "execution_count": 28,
   "metadata": {
    "hidden": true
   },
   "outputs": [
    {
     "name": "stdout",
     "output_type": "stream",
     "text": [
      "False\n"
     ]
    }
   ],
   "source": [
    "print('abcd1'.isalpha())"
   ]
  },
  {
   "cell_type": "markdown",
   "metadata": {
    "hidden": true
   },
   "source": [
    "`str.isdigit()`\n",
    "\n",
    "This method checks if all the characters of a string are digits (0-9)."
   ]
  },
  {
   "cell_type": "code",
   "execution_count": 29,
   "metadata": {
    "hidden": true
   },
   "outputs": [
    {
     "name": "stdout",
     "output_type": "stream",
     "text": [
      "True\n"
     ]
    }
   ],
   "source": [
    "print('1234'.isdigit())"
   ]
  },
  {
   "cell_type": "code",
   "execution_count": 30,
   "metadata": {
    "hidden": true
   },
   "outputs": [
    {
     "name": "stdout",
     "output_type": "stream",
     "text": [
      "False\n"
     ]
    }
   ],
   "source": [
    "print('123edsd'.isdigit())"
   ]
  },
  {
   "cell_type": "markdown",
   "metadata": {
    "hidden": true
   },
   "source": [
    "`str.islower()`\n",
    "\n",
    "This method checks if all the characters of a string are lowercase characters (a-z)."
   ]
  },
  {
   "cell_type": "code",
   "execution_count": 31,
   "metadata": {
    "hidden": true
   },
   "outputs": [
    {
     "name": "stdout",
     "output_type": "stream",
     "text": [
      "True\n"
     ]
    }
   ],
   "source": [
    "print('abcd123#'.islower())"
   ]
  },
  {
   "cell_type": "code",
   "execution_count": 32,
   "metadata": {
    "hidden": true
   },
   "outputs": [
    {
     "name": "stdout",
     "output_type": "stream",
     "text": [
      "False\n"
     ]
    }
   ],
   "source": [
    "print('Abcd123#'.islower())"
   ]
  },
  {
   "cell_type": "markdown",
   "metadata": {
    "hidden": true
   },
   "source": [
    "`str.isupper()`\n",
    "\n",
    "This method checks if all the characters of a string are uppercase characters (A-Z)."
   ]
  },
  {
   "cell_type": "code",
   "execution_count": 33,
   "metadata": {
    "hidden": true
   },
   "outputs": [
    {
     "name": "stdout",
     "output_type": "stream",
     "text": [
      "True\n"
     ]
    }
   ],
   "source": [
    "print('ABCD123#'.isupper())"
   ]
  },
  {
   "cell_type": "code",
   "execution_count": 34,
   "metadata": {
    "hidden": true
   },
   "outputs": [
    {
     "name": "stdout",
     "output_type": "stream",
     "text": [
      "False\n"
     ]
    }
   ],
   "source": [
    "print('Abcd123#'.isupper())"
   ]
  },
  {
   "cell_type": "markdown",
   "metadata": {
    "heading_collapsed": true
   },
   "source": [
    "#### Denemeler"
   ]
  },
  {
   "cell_type": "code",
   "execution_count": 35,
   "metadata": {
    "hidden": true
   },
   "outputs": [
    {
     "name": "stdout",
     "output_type": "stream",
     "text": [
      "qA2\n"
     ]
    }
   ],
   "source": [
    "if __name__ == '__main__':\n",
    "    s = input()"
   ]
  },
  {
   "cell_type": "code",
   "execution_count": 37,
   "metadata": {
    "hidden": true
   },
   "outputs": [
    {
     "name": "stdout",
     "output_type": "stream",
     "text": [
      "ab123\n",
      "True\n",
      "False\n"
     ]
    }
   ],
   "source": [
    "if __name__ == '__main__':\n",
    "    s = input()\n",
    "    \n",
    "    if s.isalnum()==True:\n",
    "        print(\"True\")\n",
    "        \n",
    "    if s.isalpha()==True:\n",
    "        print(\"başka\")\n",
    "        \n",
    "    else:\n",
    "        print(\"False\")"
   ]
  },
  {
   "cell_type": "code",
   "execution_count": 38,
   "metadata": {
    "hidden": true
   },
   "outputs": [
    {
     "name": "stdout",
     "output_type": "stream",
     "text": [
      "ab123\n",
      "True\n"
     ]
    }
   ],
   "source": [
    "if __name__ == '__main__':\n",
    "    s = input()\n",
    "    \n",
    "    if s.isalnum()==True:\n",
    "        print(\"True\")\n",
    "        \n",
    "    elif s.isalpha()==True:\n",
    "        print(\"True\")\n",
    "        \n",
    "    else:\n",
    "        print(\"False\")"
   ]
  },
  {
   "cell_type": "code",
   "execution_count": 39,
   "metadata": {
    "hidden": true
   },
   "outputs": [
    {
     "name": "stdout",
     "output_type": "stream",
     "text": [
      "ab123\n",
      "True\n",
      "False\n"
     ]
    }
   ],
   "source": [
    "if __name__ == '__main__':\n",
    "    s = input()\n",
    "    \n",
    "    if s.isalnum()==True:\n",
    "        print(\"True\")\n",
    "        \n",
    "    if s.isalpha()==True:\n",
    "        print(\"True\")\n",
    "        \n",
    "    else:\n",
    "        print(\"False\")"
   ]
  },
  {
   "cell_type": "code",
   "execution_count": 40,
   "metadata": {
    "hidden": true
   },
   "outputs": [
    {
     "name": "stdout",
     "output_type": "stream",
     "text": [
      "qA2\n",
      "True\n",
      "False\n"
     ]
    }
   ],
   "source": [
    "if __name__ == '__main__':\n",
    "    s = input()\n",
    "    \n",
    "    if s.isalnum()==True:\n",
    "        print(\"True\")\n",
    "        \n",
    "    if s.isalpha()==True:\n",
    "        print(\"True\")\n",
    "        \n",
    "    if s.isdigit()==True:\n",
    "        print(\"True\")\n",
    "        \n",
    "    if s.islower()==True:\n",
    "        print(\"True\")\n",
    "        \n",
    "    if s.isupper()==True:\n",
    "        print(\"True\")\n",
    "        \n",
    "    else:\n",
    "        print(\"False\")"
   ]
  },
  {
   "cell_type": "code",
   "execution_count": 42,
   "metadata": {
    "hidden": true
   },
   "outputs": [],
   "source": [
    "d={\"isalnum()\" : False, \"isalpha\" : False, \"isdigit\" : False, \"islower\" : False, \"isupper\" : False}"
   ]
  },
  {
   "cell_type": "code",
   "execution_count": 43,
   "metadata": {
    "hidden": true
   },
   "outputs": [
    {
     "name": "stdout",
     "output_type": "stream",
     "text": [
      "isalnum()\n",
      "isalpha\n",
      "isdigit\n",
      "islower\n",
      "isupper\n"
     ]
    }
   ],
   "source": [
    "for k in d.keys():\n",
    "    print(k)"
   ]
  },
  {
   "cell_type": "code",
   "execution_count": 44,
   "metadata": {
    "hidden": true
   },
   "outputs": [
    {
     "name": "stdout",
     "output_type": "stream",
     "text": [
      "isalnum()\n",
      "<class 'str'>\n",
      "isalpha\n",
      "<class 'str'>\n",
      "isdigit\n",
      "<class 'str'>\n",
      "islower\n",
      "<class 'str'>\n",
      "isupper\n",
      "<class 'str'>\n"
     ]
    }
   ],
   "source": [
    "for k in d.keys():\n",
    "    print(k)\n",
    "    print(type(k))"
   ]
  },
  {
   "cell_type": "code",
   "execution_count": 45,
   "metadata": {
    "hidden": true
   },
   "outputs": [
    {
     "name": "stdout",
     "output_type": "stream",
     "text": [
      "qA2\n"
     ]
    },
    {
     "ename": "AttributeError",
     "evalue": "'str' object has no attribute 'k'",
     "output_type": "error",
     "traceback": [
      "\u001b[1;31m---------------------------------------------------------------------------\u001b[0m",
      "\u001b[1;31mAttributeError\u001b[0m                            Traceback (most recent call last)",
      "\u001b[1;32m<ipython-input-45-90ee858930e8>\u001b[0m in \u001b[0;36m<module>\u001b[1;34m\u001b[0m\n\u001b[0;32m      7\u001b[0m \u001b[1;33m\u001b[0m\u001b[0m\n\u001b[0;32m      8\u001b[0m     \u001b[1;32mfor\u001b[0m \u001b[0mk\u001b[0m \u001b[1;32min\u001b[0m \u001b[0md\u001b[0m\u001b[1;33m.\u001b[0m\u001b[0mkeys\u001b[0m\u001b[1;33m(\u001b[0m\u001b[1;33m)\u001b[0m\u001b[1;33m:\u001b[0m\u001b[1;33m\u001b[0m\u001b[1;33m\u001b[0m\u001b[0m\n\u001b[1;32m----> 9\u001b[1;33m         \u001b[1;32mif\u001b[0m \u001b[0ms\u001b[0m\u001b[1;33m.\u001b[0m\u001b[0mk\u001b[0m\u001b[1;33m==\u001b[0m\u001b[1;32mTrue\u001b[0m\u001b[1;33m:\u001b[0m\u001b[1;33m\u001b[0m\u001b[1;33m\u001b[0m\u001b[0m\n\u001b[0m\u001b[0;32m     10\u001b[0m             \u001b[0md\u001b[0m\u001b[1;33m[\u001b[0m\u001b[0mk\u001b[0m\u001b[1;33m]\u001b[0m\u001b[1;33m=\u001b[0m \u001b[1;32mTrue\u001b[0m\u001b[1;33m\u001b[0m\u001b[1;33m\u001b[0m\u001b[0m\n\u001b[0;32m     11\u001b[0m \u001b[1;33m\u001b[0m\u001b[0m\n",
      "\u001b[1;31mAttributeError\u001b[0m: 'str' object has no attribute 'k'"
     ]
    }
   ],
   "source": [
    "if __name__ == '__main__':\n",
    "    s = input()\n",
    "    \n",
    "   \n",
    "    d={\"isalnum()\" : False, \"isalpha()\" : False, \n",
    "       \"isdigit()\" : False, \"islower()\" : False, \"isupper()\" : False}\n",
    "    \n",
    "    for k in d.keys():\n",
    "        if s.k==True:\n",
    "            d[k]= True      \n",
    "        \n",
    "        \n",
    "    print(d)"
   ]
  },
  {
   "cell_type": "code",
   "execution_count": 48,
   "metadata": {
    "hidden": true
   },
   "outputs": [
    {
     "name": "stdout",
     "output_type": "stream",
     "text": [
      "qA2\n",
      "['q', 'A', '2']\n"
     ]
    }
   ],
   "source": [
    "if __name__ == '__main__':\n",
    "    s = input()\n",
    "    \n",
    "    l=list(s)\n",
    "    print(l)"
   ]
  },
  {
   "cell_type": "code",
   "execution_count": 49,
   "metadata": {
    "hidden": true
   },
   "outputs": [
    {
     "name": "stdout",
     "output_type": "stream",
     "text": [
      "qA2\n",
      "True\n",
      "True\n",
      "True\n",
      "True\n",
      "True\n"
     ]
    }
   ],
   "source": [
    "s = input()\n",
    "\n",
    "print(any(c.isalnum() for c in s))\n",
    "print(any(c.isalpha() for c in s))\n",
    "print(any(c.isdigit() for c in s))\n",
    "print(any(c.islower() for c in s))\n",
    "print(any(c.isupper() for c in s))"
   ]
  },
  {
   "cell_type": "markdown",
   "metadata": {},
   "source": [
    "#### Çözüm"
   ]
  },
  {
   "cell_type": "code",
   "execution_count": 50,
   "metadata": {},
   "outputs": [
    {
     "name": "stdout",
     "output_type": "stream",
     "text": [
      "qA2\n",
      "True\n",
      "True\n",
      "True\n",
      "True\n",
      "True\n"
     ]
    }
   ],
   "source": [
    "if __name__ == '__main__':\n",
    "    s = input()\n",
    "    \n",
    "    print(any(c.isalnum() for c in s))\n",
    "    print(any(c.isalpha() for c in s))\n",
    "    print(any(c.isdigit() for c in s))\n",
    "    print(any(c.islower() for c in s))\n",
    "    print(any(c.isupper() for c in s))"
   ]
  },
  {
   "cell_type": "markdown",
   "metadata": {},
   "source": [
    "### [15. sWAP cASE](https://www.hackerrank.com/challenges/swap-case/problem)"
   ]
  },
  {
   "cell_type": "markdown",
   "metadata": {
    "heading_collapsed": true
   },
   "source": [
    "#### Denemeler"
   ]
  },
  {
   "cell_type": "code",
   "execution_count": null,
   "metadata": {
    "hidden": true
   },
   "outputs": [],
   "source": [
    "def swap_case(s):\n",
    "    return\n",
    "\n",
    "if __name__ == '__main__':\n",
    "    s = input()\n",
    "    result = swap_case(s)\n",
    "    print(result)"
   ]
  },
  {
   "cell_type": "code",
   "execution_count": 1,
   "metadata": {
    "hidden": true
   },
   "outputs": [
    {
     "name": "stdout",
     "output_type": "stream",
     "text": [
      "deNemE\n",
      "deNemE\n"
     ]
    }
   ],
   "source": [
    "def swap_case(s):\n",
    "    \n",
    "    return s\n",
    "\n",
    "if __name__ == '__main__':\n",
    "    s = input()\n",
    "    result = swap_case(s)\n",
    "    print(result)"
   ]
  },
  {
   "cell_type": "code",
   "execution_count": 2,
   "metadata": {
    "hidden": true
   },
   "outputs": [
    {
     "name": "stdout",
     "output_type": "stream",
     "text": [
      "dEnEmE\n",
      "True\n"
     ]
    }
   ],
   "source": [
    "def swap_case(s):\n",
    "    \n",
    "    return any(c.isalnum() for c in s)\n",
    "\n",
    "if __name__ == '__main__':\n",
    "    s = input()\n",
    "    result = swap_case(s)\n",
    "    print(result)"
   ]
  },
  {
   "cell_type": "code",
   "execution_count": 6,
   "metadata": {
    "hidden": true
   },
   "outputs": [
    {
     "name": "stdout",
     "output_type": "stream",
     "text": [
      "True\n",
      "True\n",
      "True\n",
      "True\n"
     ]
    }
   ],
   "source": [
    "s = \"Elİf\"\n",
    "\n",
    "for c in s:\n",
    "    print(c.isalnum())"
   ]
  },
  {
   "cell_type": "code",
   "execution_count": 7,
   "metadata": {
    "hidden": true
   },
   "outputs": [
    {
     "name": "stdout",
     "output_type": "stream",
     "text": [
      "deneme\n",
      "deneme\n",
      "deneme\n",
      "deneme\n"
     ]
    }
   ],
   "source": [
    "s = \"Elİf\"\n",
    "\n",
    "for c in s:\n",
    "    if c.isalnum():\n",
    "        print(\"deneme\")"
   ]
  },
  {
   "cell_type": "code",
   "execution_count": 9,
   "metadata": {
    "hidden": true
   },
   "outputs": [
    {
     "name": "stdout",
     "output_type": "stream",
     "text": [
      "E\n",
      "l\n",
      "İ\n",
      "f\n"
     ]
    }
   ],
   "source": [
    "s = \"Elİf\"\n",
    "\n",
    "for c in s:\n",
    "    print(c)"
   ]
  },
  {
   "cell_type": "code",
   "execution_count": 10,
   "metadata": {
    "hidden": true
   },
   "outputs": [
    {
     "name": "stdout",
     "output_type": "stream",
     "text": [
      "l\n",
      "f\n"
     ]
    }
   ],
   "source": [
    "s = \"Elİf\"\n",
    "\n",
    "for c in s:\n",
    "    if c.islower():\n",
    "        print(c)"
   ]
  },
  {
   "cell_type": "code",
   "execution_count": 11,
   "metadata": {
    "hidden": true
   },
   "outputs": [
    {
     "name": "stdout",
     "output_type": "stream",
     "text": [
      "E\n",
      "İ\n"
     ]
    }
   ],
   "source": [
    "s = \"Elİf\"\n",
    "\n",
    "for c in s:\n",
    "    if c.isupper():\n",
    "        print(c)"
   ]
  },
  {
   "cell_type": "code",
   "execution_count": 12,
   "metadata": {
    "hidden": true
   },
   "outputs": [
    {
     "name": "stdout",
     "output_type": "stream",
     "text": [
      "l\n",
      "L\n",
      "f\n",
      "F\n"
     ]
    }
   ],
   "source": [
    "s = \"Elİf\"\n",
    "\n",
    "for c in s:\n",
    "    if c.islower():\n",
    "        print(c)\n",
    "        c_d = c.upper()\n",
    "        print(c_d)"
   ]
  },
  {
   "cell_type": "code",
   "execution_count": 14,
   "metadata": {
    "hidden": true
   },
   "outputs": [
    {
     "name": "stdout",
     "output_type": "stream",
     "text": [
      "E\n",
      "e\n",
      "İ\n",
      "i̇\n"
     ]
    }
   ],
   "source": [
    "s = \"Elİf\"\n",
    "\n",
    "for c in s:\n",
    "    if c.isupper():\n",
    "        print(c)\n",
    "        c_d = c.lower()\n",
    "        print(c_d)"
   ]
  },
  {
   "cell_type": "code",
   "execution_count": 18,
   "metadata": {
    "hidden": true
   },
   "outputs": [
    {
     "name": "stdout",
     "output_type": "stream",
     "text": [
      "E\n",
      "L\n",
      "EL\n"
     ]
    }
   ],
   "source": [
    "s = \"EL\"\n",
    "\n",
    "for c in s:\n",
    "    if c.isupper():\n",
    "        print(c)\n",
    "        c = c.lower()\n",
    "\n",
    "print(s)"
   ]
  },
  {
   "cell_type": "code",
   "execution_count": 19,
   "metadata": {
    "hidden": true
   },
   "outputs": [
    {
     "name": "stdout",
     "output_type": "stream",
     "text": [
      "E\n",
      "L\n"
     ]
    }
   ],
   "source": [
    "s = \"EL\"\n",
    "\n",
    "l = list(s)\n",
    "\n",
    "for c in l:\n",
    "    print(c)"
   ]
  },
  {
   "cell_type": "code",
   "execution_count": 22,
   "metadata": {
    "hidden": true
   },
   "outputs": [
    {
     "name": "stdout",
     "output_type": "stream",
     "text": [
      "E\n",
      "L\n",
      "i\n",
      "f\n"
     ]
    }
   ],
   "source": [
    "s = \"ELif\"\n",
    "\n",
    "for i in range(len(s)):\n",
    "    print(s[i])"
   ]
  },
  {
   "cell_type": "code",
   "execution_count": 23,
   "metadata": {
    "hidden": true
   },
   "outputs": [
    {
     "name": "stdout",
     "output_type": "stream",
     "text": [
      "deneme\n",
      "deneme\n"
     ]
    }
   ],
   "source": [
    "s = \"ELif\"\n",
    "\n",
    "for i in range(len(s)):\n",
    "    if s[i].isupper():\n",
    "        print(\"deneme\")"
   ]
  },
  {
   "cell_type": "code",
   "execution_count": 24,
   "metadata": {
    "hidden": true
   },
   "outputs": [
    {
     "ename": "TypeError",
     "evalue": "'str' object does not support item assignment",
     "output_type": "error",
     "traceback": [
      "\u001b[1;31m---------------------------------------------------------------------------\u001b[0m",
      "\u001b[1;31mTypeError\u001b[0m                                 Traceback (most recent call last)",
      "\u001b[1;32m<ipython-input-24-bbd2b01c185a>\u001b[0m in \u001b[0;36m<module>\u001b[1;34m\u001b[0m\n\u001b[0;32m      3\u001b[0m \u001b[1;32mfor\u001b[0m \u001b[0mi\u001b[0m \u001b[1;32min\u001b[0m \u001b[0mrange\u001b[0m\u001b[1;33m(\u001b[0m\u001b[0mlen\u001b[0m\u001b[1;33m(\u001b[0m\u001b[0ms\u001b[0m\u001b[1;33m)\u001b[0m\u001b[1;33m)\u001b[0m\u001b[1;33m:\u001b[0m\u001b[1;33m\u001b[0m\u001b[1;33m\u001b[0m\u001b[0m\n\u001b[0;32m      4\u001b[0m     \u001b[1;32mif\u001b[0m \u001b[0ms\u001b[0m\u001b[1;33m[\u001b[0m\u001b[0mi\u001b[0m\u001b[1;33m]\u001b[0m\u001b[1;33m.\u001b[0m\u001b[0misupper\u001b[0m\u001b[1;33m(\u001b[0m\u001b[1;33m)\u001b[0m\u001b[1;33m:\u001b[0m\u001b[1;33m\u001b[0m\u001b[1;33m\u001b[0m\u001b[0m\n\u001b[1;32m----> 5\u001b[1;33m         \u001b[0ms\u001b[0m\u001b[1;33m[\u001b[0m\u001b[0mi\u001b[0m\u001b[1;33m]\u001b[0m \u001b[1;33m=\u001b[0m \u001b[0ms\u001b[0m\u001b[1;33m[\u001b[0m\u001b[0mi\u001b[0m\u001b[1;33m]\u001b[0m\u001b[1;33m.\u001b[0m\u001b[0mlower\u001b[0m\u001b[1;33m(\u001b[0m\u001b[1;33m)\u001b[0m\u001b[1;33m\u001b[0m\u001b[1;33m\u001b[0m\u001b[0m\n\u001b[0m\u001b[0;32m      6\u001b[0m \u001b[1;33m\u001b[0m\u001b[0m\n\u001b[0;32m      7\u001b[0m \u001b[0mprint\u001b[0m\u001b[1;33m(\u001b[0m\u001b[0ms\u001b[0m\u001b[1;33m)\u001b[0m\u001b[1;33m\u001b[0m\u001b[1;33m\u001b[0m\u001b[0m\n",
      "\u001b[1;31mTypeError\u001b[0m: 'str' object does not support item assignment"
     ]
    }
   ],
   "source": [
    "s = \"ELif\"\n",
    "\n",
    "for i in range(len(s)):\n",
    "    if s[i].isupper():\n",
    "        s[i] = s[i].lower()\n",
    "        \n",
    "print(s)"
   ]
  },
  {
   "cell_type": "code",
   "execution_count": 25,
   "metadata": {
    "hidden": true
   },
   "outputs": [
    {
     "name": "stdout",
     "output_type": "stream",
     "text": [
      "e\n",
      "l\n",
      "ELif\n"
     ]
    }
   ],
   "source": [
    "s = \"ELif\"\n",
    "\n",
    "for i in range(len(s)):\n",
    "    if s[i].isupper():\n",
    "        print(s[i].lower())\n",
    "    \n",
    "        \n",
    "print(s)"
   ]
  },
  {
   "cell_type": "markdown",
   "metadata": {
    "hidden": true
   },
   "source": [
    "##### **Stackoverflow'dan...**"
   ]
  },
  {
   "cell_type": "code",
   "execution_count": 26,
   "metadata": {
    "hidden": true
   },
   "outputs": [],
   "source": [
    "s = list(\"Hello zorld\")"
   ]
  },
  {
   "cell_type": "code",
   "execution_count": 27,
   "metadata": {
    "hidden": true
   },
   "outputs": [
    {
     "data": {
      "text/plain": [
       "['H', 'e', 'l', 'l', 'o', ' ', 'z', 'o', 'r', 'l', 'd']"
      ]
     },
     "execution_count": 27,
     "metadata": {},
     "output_type": "execute_result"
    }
   ],
   "source": [
    "s"
   ]
  },
  {
   "cell_type": "code",
   "execution_count": 28,
   "metadata": {
    "hidden": true
   },
   "outputs": [],
   "source": [
    "s[6] = 'W'"
   ]
  },
  {
   "cell_type": "code",
   "execution_count": 29,
   "metadata": {
    "hidden": true
   },
   "outputs": [
    {
     "data": {
      "text/plain": [
       "['H', 'e', 'l', 'l', 'o', ' ', 'W', 'o', 'r', 'l', 'd']"
      ]
     },
     "execution_count": 29,
     "metadata": {},
     "output_type": "execute_result"
    }
   ],
   "source": [
    "s"
   ]
  },
  {
   "cell_type": "code",
   "execution_count": 30,
   "metadata": {
    "hidden": true
   },
   "outputs": [
    {
     "data": {
      "text/plain": [
       "'Hello World'"
      ]
     },
     "execution_count": 30,
     "metadata": {},
     "output_type": "execute_result"
    }
   ],
   "source": [
    "\"\".join(s)"
   ]
  },
  {
   "cell_type": "markdown",
   "metadata": {
    "hidden": true
   },
   "source": [
    "**join kullanımını görmek için [buraya](https://www.geeksforgeeks.org/python-string-join-method/) baktım.** "
   ]
  },
  {
   "cell_type": "markdown",
   "metadata": {
    "hidden": true
   },
   "source": [
    "##### Devam"
   ]
  },
  {
   "cell_type": "code",
   "execution_count": 32,
   "metadata": {
    "hidden": true
   },
   "outputs": [
    {
     "name": "stdout",
     "output_type": "stream",
     "text": [
      "ELif\n"
     ]
    }
   ],
   "source": [
    "s = \"ELif\"\n",
    "\n",
    "for e in s:\n",
    "    if e.isupper():\n",
    "        e = e.lower()\n",
    "        \n",
    "print(s)"
   ]
  },
  {
   "cell_type": "code",
   "execution_count": 34,
   "metadata": {
    "hidden": true
   },
   "outputs": [
    {
     "name": "stdout",
     "output_type": "stream",
     "text": [
      "ELif\n",
      "ELif\n",
      "ELif\n"
     ]
    }
   ],
   "source": [
    "s = \"ELif\"\n",
    "\n",
    "for e in s:\n",
    "    if e.isupper():\n",
    "        e = e.lower()\n",
    "        \n",
    "        print(\"\".join(s))\n",
    "print(s)"
   ]
  },
  {
   "cell_type": "code",
   "execution_count": 37,
   "metadata": {
    "hidden": true
   },
   "outputs": [
    {
     "name": "stdout",
     "output_type": "stream",
     "text": [
      "['e', 'l', 'i', 'f']\n"
     ]
    }
   ],
   "source": [
    "s = \"ELif\"\n",
    "\n",
    "l = list(s)\n",
    "\n",
    "for i in range(len(l)):\n",
    "    if l[i].isupper():\n",
    "        l[i] = l[i].lower()  \n",
    "        \n",
    "print(l)"
   ]
  },
  {
   "cell_type": "code",
   "execution_count": 39,
   "metadata": {
    "hidden": true
   },
   "outputs": [
    {
     "name": "stdout",
     "output_type": "stream",
     "text": [
      "['e', 'l', 'I', 'F']\n"
     ]
    }
   ],
   "source": [
    "s = \"ELif\"\n",
    "\n",
    "l = list(s)\n",
    "\n",
    "for i in range(len(l)):\n",
    "    if l[i].isupper():\n",
    "        l[i] = l[i].lower() \n",
    "        \n",
    "    elif l[i].islower():\n",
    "        l[i] = l[i].upper() \n",
    "        \n",
    "print(l)"
   ]
  },
  {
   "cell_type": "code",
   "execution_count": 40,
   "metadata": {
    "hidden": true
   },
   "outputs": [
    {
     "name": "stdout",
     "output_type": "stream",
     "text": [
      "elIF\n"
     ]
    }
   ],
   "source": [
    "s = \"ELif\"\n",
    "\n",
    "l = list(s)\n",
    "\n",
    "for i in range(len(l)):\n",
    "    if l[i].isupper():\n",
    "        l[i] = l[i].lower() \n",
    "        \n",
    "    elif l[i].islower():\n",
    "        l[i] = l[i].upper() \n",
    "        \n",
    "print(\"\".join(l))"
   ]
  },
  {
   "cell_type": "code",
   "execution_count": 42,
   "metadata": {
    "hidden": true
   },
   "outputs": [
    {
     "name": "stdout",
     "output_type": "stream",
     "text": [
      "Www.HackerRank.com\n",
      "wWW.hACKERrANK.COM\n"
     ]
    }
   ],
   "source": [
    "def swap_case(s):\n",
    "    \n",
    "    l = list(s)\n",
    "    \n",
    "    for i in range(len(l)):\n",
    "        if l[i].isupper():\n",
    "            l[i] = l[i].lower() \n",
    "        \n",
    "        elif l[i].islower():\n",
    "            l[i] = l[i].upper()\n",
    "    \n",
    "    return \"\".join(l)\n",
    "\n",
    "if __name__ == '__main__':\n",
    "    s = input()\n",
    "    result = swap_case(s)\n",
    "    print(result)"
   ]
  },
  {
   "cell_type": "code",
   "execution_count": 43,
   "metadata": {
    "hidden": true
   },
   "outputs": [
    {
     "name": "stdout",
     "output_type": "stream",
     "text": [
      "Pythonist 2\n",
      "pYTHONIST 2\n"
     ]
    }
   ],
   "source": [
    "def swap_case(s):\n",
    "    \n",
    "    l = list(s)\n",
    "    \n",
    "    for i in range(len(l)):\n",
    "        if l[i].isupper():\n",
    "            l[i] = l[i].lower() \n",
    "        \n",
    "        elif l[i].islower():\n",
    "            l[i] = l[i].upper()\n",
    "    \n",
    "    return \"\".join(l)\n",
    "\n",
    "if __name__ == '__main__':\n",
    "    s = input()\n",
    "    result = swap_case(s)\n",
    "    print(result)"
   ]
  },
  {
   "cell_type": "markdown",
   "metadata": {},
   "source": [
    "#### Çözüm"
   ]
  },
  {
   "cell_type": "code",
   "execution_count": 44,
   "metadata": {},
   "outputs": [
    {
     "name": "stdout",
     "output_type": "stream",
     "text": [
      "Www.HackerRank.com\n",
      "wWW.hACKERrANK.COM\n"
     ]
    }
   ],
   "source": [
    "def swap_case(s):\n",
    "    \n",
    "    l = list(s)\n",
    "    \n",
    "    for i in range(len(l)):\n",
    "        if l[i].isupper():\n",
    "            l[i] = l[i].lower() \n",
    "        \n",
    "        elif l[i].islower():\n",
    "            l[i] = l[i].upper()\n",
    "    \n",
    "    return \"\".join(l)\n",
    "\n",
    "if __name__ == '__main__':\n",
    "    s = input()\n",
    "    result = swap_case(s)\n",
    "    print(result)"
   ]
  },
  {
   "cell_type": "markdown",
   "metadata": {},
   "source": [
    "### [16. String Split and Join](https://www.hackerrank.com/challenges/python-string-split-and-join/problem)"
   ]
  },
  {
   "cell_type": "markdown",
   "metadata": {
    "heading_collapsed": true
   },
   "source": [
    "#### Denemeler"
   ]
  },
  {
   "cell_type": "code",
   "execution_count": null,
   "metadata": {
    "hidden": true
   },
   "outputs": [],
   "source": [
    "def split_and_join(line):\n",
    "    # write your code here\n",
    "\n",
    "if __name__ == '__main__':\n",
    "    line = input()\n",
    "    result = split_and_join(line)\n",
    "    print(result)"
   ]
  },
  {
   "cell_type": "markdown",
   "metadata": {},
   "source": [
    "#### Çözüm"
   ]
  },
  {
   "cell_type": "code",
   "execution_count": 55,
   "metadata": {},
   "outputs": [
    {
     "name": "stdout",
     "output_type": "stream",
     "text": [
      "this is a string\n",
      "this-is-a-string\n"
     ]
    }
   ],
   "source": [
    "def split_and_join(line):\n",
    "    # write your code here\n",
    "    \n",
    "    line = line.split(\" \")\n",
    "    \n",
    "    line = \"-\".join(line)\n",
    "    \n",
    "    return line\n",
    "\n",
    "if __name__ == '__main__':\n",
    "    line = input()\n",
    "    result = split_and_join(line)\n",
    "    print(result)"
   ]
  },
  {
   "cell_type": "markdown",
   "metadata": {},
   "source": [
    "### [17. What's Your Name?](https://www.hackerrank.com/challenges/whats-your-name/problem)"
   ]
  },
  {
   "cell_type": "markdown",
   "metadata": {
    "heading_collapsed": true
   },
   "source": [
    "#### Denemeler"
   ]
  },
  {
   "cell_type": "code",
   "execution_count": null,
   "metadata": {
    "hidden": true
   },
   "outputs": [],
   "source": [
    "def print_full_name(first, last):\n",
    "    # Write your code here\n",
    "\n",
    "if __name__ == '__main__':\n",
    "    first_name = input()\n",
    "    last_name = input()\n",
    "    print_full_name(first_name, last_name)"
   ]
  },
  {
   "cell_type": "code",
   "execution_count": 57,
   "metadata": {
    "hidden": true
   },
   "outputs": [
    {
     "name": "stdout",
     "output_type": "stream",
     "text": [
      "Elif Kurt! You just delved into python.\n"
     ]
    }
   ],
   "source": [
    "first_name = \"Elif\"\n",
    "last_name = \"Kurt\"\n",
    "\n",
    "\n",
    "print(first_name + \" \" + last_name + \"!\"+\" You just delved into python.\")"
   ]
  },
  {
   "cell_type": "markdown",
   "metadata": {},
   "source": [
    "#### Çözüm"
   ]
  },
  {
   "cell_type": "code",
   "execution_count": 59,
   "metadata": {},
   "outputs": [
    {
     "name": "stdout",
     "output_type": "stream",
     "text": [
      "Elif\n",
      "Kurt\n",
      "Hello Elif Kurt! You just delved into python.\n"
     ]
    }
   ],
   "source": [
    "def print_full_name(first, last):\n",
    "    # Write your code here\n",
    "    \n",
    "    print(\"Hello \"+first_name + \" \" + last_name + \"!\"+\" You just delved into python.\")\n",
    "\n",
    "if __name__ == '__main__':\n",
    "    first_name = input()\n",
    "    last_name = input()\n",
    "    print_full_name(first_name, last_name)"
   ]
  },
  {
   "cell_type": "markdown",
   "metadata": {},
   "source": [
    "### [18. Mutations](https://www.hackerrank.com/challenges/python-mutations/problem?h_r=next-challenge&h_v=zen)"
   ]
  },
  {
   "cell_type": "markdown",
   "metadata": {
    "heading_collapsed": true
   },
   "source": [
    "#### Denemeler"
   ]
  },
  {
   "cell_type": "code",
   "execution_count": null,
   "metadata": {
    "hidden": true
   },
   "outputs": [],
   "source": [
    "def mutate_string(string, position, character):\n",
    "    return\n",
    "\n",
    "if __name__ == '__main__':\n",
    "    s = input()\n",
    "    i, c = input().split()\n",
    "    s_new = mutate_string(s, int(i), c)\n",
    "    print(s_new)"
   ]
  },
  {
   "cell_type": "code",
   "execution_count": null,
   "metadata": {
    "hidden": true
   },
   "outputs": [],
   "source": [
    "def mutate_string(string, position, character):\n",
    "    return\n",
    "\n",
    "if __name__ == '__main__':\n",
    "    s = input()\n",
    "    i, c = input().split()\n",
    "    s_new = mutate_string(s, int(i), c)\n",
    "    print(s_new)"
   ]
  },
  {
   "cell_type": "code",
   "execution_count": 60,
   "metadata": {
    "hidden": true
   },
   "outputs": [],
   "source": [
    "string = \"ElifKurt\""
   ]
  },
  {
   "cell_type": "code",
   "execution_count": 61,
   "metadata": {
    "hidden": true
   },
   "outputs": [
    {
     "data": {
      "text/plain": [
       "'ElifK'"
      ]
     },
     "execution_count": 61,
     "metadata": {},
     "output_type": "execute_result"
    }
   ],
   "source": [
    "string[:5]"
   ]
  },
  {
   "cell_type": "code",
   "execution_count": 62,
   "metadata": {
    "hidden": true
   },
   "outputs": [
    {
     "data": {
      "text/plain": [
       "'rt'"
      ]
     },
     "execution_count": 62,
     "metadata": {},
     "output_type": "execute_result"
    }
   ],
   "source": [
    "string[6:]"
   ]
  },
  {
   "cell_type": "markdown",
   "metadata": {},
   "source": [
    "#### Çözüm"
   ]
  },
  {
   "cell_type": "code",
   "execution_count": 64,
   "metadata": {},
   "outputs": [
    {
     "name": "stdout",
     "output_type": "stream",
     "text": [
      "abracadabra\n",
      "5 k\n",
      "abrackdabra\n"
     ]
    }
   ],
   "source": [
    "def mutate_string(string, position, character):\n",
    "    string = string[:position] + character + string[position+1:]\n",
    "    \n",
    "    return string\n",
    "\n",
    "if __name__ == '__main__':\n",
    "    s = input()\n",
    "    i, c = input().split()\n",
    "    s_new = mutate_string(s, int(i), c)\n",
    "    print(s_new)"
   ]
  }
 ],
 "metadata": {
  "kernelspec": {
   "display_name": "Python 3",
   "language": "python",
   "name": "python3"
  },
  "language_info": {
   "codemirror_mode": {
    "name": "ipython",
    "version": 3
   },
   "file_extension": ".py",
   "mimetype": "text/x-python",
   "name": "python",
   "nbconvert_exporter": "python",
   "pygments_lexer": "ipython3",
   "version": "3.7.6"
  }
 },
 "nbformat": 4,
 "nbformat_minor": 4
}
