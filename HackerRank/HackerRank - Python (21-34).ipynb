{
 "cells": [
  {
   "cell_type": "markdown",
   "metadata": {},
   "source": [
    "## HackerRank - Python \n",
    "\n",
    "21. Capitalize!\n",
    "22. Introduction to Sets\n",
    "23. Symmetric Difference\n",
    "24. No Idea!\n",
    "25. Set .add()\n",
    "26. Set .discard(), .remove() & .pop()\n",
    "27. Set .union() Operation\n",
    "28. Set .intersection() Operation\n",
    "29. Set .difference() Operation\n",
    "30. Set .symmetric_difference() Operation\n",
    "31. Set Mutations\n",
    "32. The Captain's Room\n",
    "33. Check Subset\n",
    "34. Check Strict Superset"
   ]
  },
  {
   "cell_type": "markdown",
   "metadata": {},
   "source": [
    "### [21. Capitalize!](https://www.hackerrank.com/challenges/capitalize/problem)"
   ]
  },
  {
   "cell_type": "code",
   "execution_count": null,
   "metadata": {},
   "outputs": [],
   "source": [
    "#!/bin/python3\n",
    "\n",
    "import math\n",
    "import os\n",
    "import random\n",
    "import re\n",
    "import sys\n",
    "\n",
    "# Complete the solve function below.\n",
    "def solve(s):\n",
    "    new_list=[]\n",
    "    str1=\" \"\n",
    "    l= list(s.split(\" \"))\n",
    "    for i in range(len(l)):\n",
    "        new_list.append(l[i].capitalize())\n",
    "    return str1.join(new_list)\n",
    "    \n",
    "    \n",
    "if __name__ == '__main__':\n",
    "    fptr = open(os.environ['OUTPUT_PATH'], 'w')\n",
    "\n",
    "    s = input()\n",
    "\n",
    "    result = solve(s)\n",
    "\n",
    "    fptr.write(result + '\\n')\n",
    "\n",
    "    fptr.close()"
   ]
  },
  {
   "cell_type": "markdown",
   "metadata": {},
   "source": [
    "### [22. Introduction to Sets](https://www.hackerrank.com/challenges/py-introduction-to-sets/problem)"
   ]
  },
  {
   "cell_type": "code",
   "execution_count": 12,
   "metadata": {},
   "outputs": [
    {
     "name": "stdout",
     "output_type": "stream",
     "text": [
      "3\n",
      "34 23 24\n",
      "27.0\n"
     ]
    }
   ],
   "source": [
    "def average(array):\n",
    "    toplam = 0\n",
    "    l = list(set(array))\n",
    "    \n",
    "    for i in range(len(l)):\n",
    "        toplam = toplam + l[i]\n",
    "    \n",
    "    return toplam/len(set(array))\n",
    "\n",
    "\n",
    "n = int(input())\n",
    "arr = list(map(int, input().split()))\n",
    "result = average(arr)\n",
    "print(result)"
   ]
  },
  {
   "cell_type": "markdown",
   "metadata": {},
   "source": [
    "### [23. Symmetric Difference](https://www.hackerrank.com/challenges/symmetric-difference/problem)"
   ]
  },
  {
   "cell_type": "code",
   "execution_count": 53,
   "metadata": {},
   "outputs": [
    {
     "name": "stdout",
     "output_type": "stream",
     "text": [
      "4\n",
      "2 4 5 9\n",
      "4\n",
      "2 4 11 12\n",
      "5\n",
      "9\n",
      "11\n",
      "12\n"
     ]
    }
   ],
   "source": [
    "M = int(input())\n",
    "\n",
    "set_M = set(map(int, input().split()))\n",
    "\n",
    "N = int(input())\n",
    "\n",
    "set_N = set(map(int, input().split()))\n",
    "\n",
    "dif_M = set_M.difference(set_N) \n",
    "dif_N = set_N.difference(set_M)\n",
    "\n",
    "dif_M.update(dif_N)\n",
    "\n",
    "for e in sorted(dif_M):\n",
    "    print (e)"
   ]
  },
  {
   "cell_type": "markdown",
   "metadata": {},
   "source": [
    "### [24. No Idea!](https://www.hackerrank.com/challenges/no-idea/problem?h_r=next-challenge&h_v=zen)"
   ]
  },
  {
   "cell_type": "code",
   "execution_count": 71,
   "metadata": {},
   "outputs": [
    {
     "name": "stdout",
     "output_type": "stream",
     "text": [
      "3 2\n",
      "1 5 3\n",
      "3 1\n",
      "5 7\n",
      "1\n"
     ]
    }
   ],
   "source": [
    "n_m = map(int, input().split())\n",
    "\n",
    "array_n = list(map(int, input().split()))\n",
    "set_A = set(map(int, input().split()))\n",
    "set_B = set(map(int, input().split()))\n",
    "\n",
    "def happiness (setA, setB):\n",
    "    happiness = 0\n",
    "    \n",
    "    for i in range(len(array_n)):\n",
    "        \n",
    "        if array_n[i] in setA:\n",
    "            happiness = happiness + 1\n",
    "    \n",
    "        elif array_n[i] in setB:\n",
    "            happiness = happiness -1\n",
    "        \n",
    "    return happiness\n",
    "\n",
    "happiness = happiness(set_A, set_B)\n",
    "\n",
    "print(happiness)"
   ]
  },
  {
   "cell_type": "markdown",
   "metadata": {},
   "source": [
    "### [25. Set .add()](https://www.hackerrank.com/challenges/py-set-add/problem?h_r=next-challenge&h_v=zen)"
   ]
  },
  {
   "cell_type": "code",
   "execution_count": 81,
   "metadata": {},
   "outputs": [
    {
     "name": "stdout",
     "output_type": "stream",
     "text": [
      "7\n",
      "UK\n",
      "China\n",
      "USA\n",
      "France\n",
      "New Zealand\n",
      "UK\n",
      "France\n",
      "5\n"
     ]
    }
   ],
   "source": [
    "n = int(input())\n",
    "l = []\n",
    "\n",
    "for i in range(n):\n",
    "    l.append(input())\n",
    "    \n",
    "s = set(l)\n",
    "\n",
    "print(len(s))"
   ]
  },
  {
   "cell_type": "markdown",
   "metadata": {},
   "source": [
    "### [26. Set .discard(), .remove() & .pop()](https://www.hackerrank.com/challenges/py-set-discard-remove-pop/problem?h_r=next-challenge&h_v=zen&h_r=next-challenge&h_v=zen)"
   ]
  },
  {
   "cell_type": "code",
   "execution_count": 1,
   "metadata": {},
   "outputs": [
    {
     "name": "stdout",
     "output_type": "stream",
     "text": [
      "9\n",
      "1 2 3 4 5 6 7 8 9\n",
      "10\n",
      "pop\n",
      "remove 9\n",
      "discard 9\n",
      "discard 8\n",
      "remove 7\n",
      "pop \n",
      "discard 6\n",
      "remove 5\n",
      "pop\n",
      "discard 5\n",
      "4\n"
     ]
    }
   ],
   "source": [
    "n = int(input())\n",
    "s = set(map(int, input().split()))\n",
    "N = int(input())\n",
    "\n",
    "for e in range(N):\n",
    "    command = (input()).split()\n",
    "    l=list(s)\n",
    "    if len(command)>1:\n",
    "        c, v = command\n",
    "        v = int(v)\n",
    "        \n",
    "        if v in l: \n",
    "            if c == \"remove\":\n",
    "                s.remove(v)\n",
    "                l.remove(v)\n",
    "                \n",
    "            elif c == \"discard\":\n",
    "                s.discard(v)\n",
    "                l.remove(v)\n",
    "                \n",
    "    elif len(command)==1:\n",
    "        s.pop()\n",
    "            \n",
    "        \n",
    "l_s = list(s)\n",
    "toplam=0\n",
    "\n",
    "for i in range(len(l_s)):\n",
    "    toplam = toplam + l_s[i]\n",
    "    \n",
    "print(toplam)"
   ]
  },
  {
   "cell_type": "markdown",
   "metadata": {},
   "source": [
    "### [27. Set .union() Operation](https://www.hackerrank.com/challenges/py-set-union/problem)"
   ]
  },
  {
   "cell_type": "code",
   "execution_count": 2,
   "metadata": {},
   "outputs": [
    {
     "name": "stdout",
     "output_type": "stream",
     "text": [
      "9\n",
      "1 2 3 4 5 6 7 8 9\n",
      "9\n",
      "10 1 2 3 11 21 55 6 8\n",
      "13\n"
     ]
    }
   ],
   "source": [
    "n = int(input())\n",
    "english = set(map(int,input().split()))\n",
    "\n",
    "b = int(input())\n",
    "french = set(map(int,input().split()))\n",
    "\n",
    "print(len(english.union(french)))"
   ]
  },
  {
   "cell_type": "markdown",
   "metadata": {},
   "source": [
    "### [28. Set .intersection() Operation](https://www.hackerrank.com/challenges/py-set-intersection-operation/problem)"
   ]
  },
  {
   "cell_type": "code",
   "execution_count": 49,
   "metadata": {},
   "outputs": [
    {
     "name": "stdout",
     "output_type": "stream",
     "text": [
      "9\n",
      "1 2 3 4 5 6 7 8 9\n",
      "9\n",
      "10 1 2 3 11 21 55 6 8\n",
      "5\n"
     ]
    }
   ],
   "source": [
    "n = int(input())\n",
    "english = set(map(int,input().split()))\n",
    "\n",
    "b = int(input())\n",
    "french = set(map(int,input().split()))\n",
    "\n",
    "print(len(english.intersection(french)))"
   ]
  },
  {
   "cell_type": "markdown",
   "metadata": {},
   "source": [
    "### [29. Set .difference() Operation](https://www.hackerrank.com/challenges/py-set-difference-operation/problem)"
   ]
  },
  {
   "cell_type": "code",
   "execution_count": 56,
   "metadata": {},
   "outputs": [
    {
     "name": "stdout",
     "output_type": "stream",
     "text": [
      "9\n",
      "1 2 3 4 5 6 7 8 9\n",
      "9\n",
      "10 1 2 3 11 21 55 6 8\n",
      "4\n"
     ]
    }
   ],
   "source": [
    "n = int(input())\n",
    "english = set(map(int,input().split()))\n",
    "\n",
    "b = int(input())\n",
    "french = set(map(int,input().split()))\n",
    "\n",
    "print(len(english.difference(french)))"
   ]
  },
  {
   "cell_type": "markdown",
   "metadata": {},
   "source": [
    "### [30. Set .symmetric_difference() Operation](https://www.hackerrank.com/challenges/py-set-symmetric-difference-operation/problem)"
   ]
  },
  {
   "cell_type": "code",
   "execution_count": 62,
   "metadata": {},
   "outputs": [
    {
     "name": "stdout",
     "output_type": "stream",
     "text": [
      "9\n",
      "1 2 3 4 5 6 7 8 9\n",
      "9\n",
      "10 1 2 3 11 21 55 6 8\n",
      "8\n"
     ]
    }
   ],
   "source": [
    "n = int(input())\n",
    "english = set(map(int,input().split()))\n",
    "\n",
    "b = int(input())\n",
    "french = set(map(int,input().split()))\n",
    "\n",
    "print(len(english.symmetric_difference(french)))"
   ]
  },
  {
   "cell_type": "markdown",
   "metadata": {},
   "source": [
    "### [31. Set Mutations](https://www.hackerrank.com/challenges/py-set-mutations/problem)"
   ]
  },
  {
   "cell_type": "code",
   "execution_count": 82,
   "metadata": {},
   "outputs": [
    {
     "name": "stdout",
     "output_type": "stream",
     "text": [
      "16\n",
      "1 2 3 4 5 6 7 8 9 10 11 12 13 14 24 52\n",
      "4\n",
      "intersection_update 10\n",
      "2 3 5 6 8 9 1 4 7 11\n",
      "update 2\n",
      "55 66\n",
      "symmetric_difference_update 5\n",
      "22 7 35 62 58\n",
      "difference_update 7\n",
      "11 22 35 55 58 62 66\n",
      "38\n"
     ]
    }
   ],
   "source": [
    "number_A = int(input())\n",
    "set_A = set(map(int,input().split()))\n",
    "\n",
    "N = int(input())\n",
    "\n",
    "for e in range(N):\n",
    "    command, value = input().split()\n",
    "    set_B = set(map(int,input().split()))\n",
    "    \n",
    "    if command == \"intersection_update\":\n",
    "        set_A.intersection_update(set_B)\n",
    "    \n",
    "    elif command == \"update\":\n",
    "        set_A.update(set_B)\n",
    "    \n",
    "    elif command ==\"symmetric_difference_update\":\n",
    "        set_A.symmetric_difference_update(set_B)\n",
    "        \n",
    "    else:\n",
    "        set_A.difference_update(set_B)\n",
    "\n",
    "l_t = list(set_A)\n",
    "toplam = 0\n",
    "\n",
    "for i in range(len(l_t)):\n",
    "    toplam+=l_t[i]\n",
    "    \n",
    "print(toplam)        "
   ]
  },
  {
   "cell_type": "markdown",
   "metadata": {},
   "source": [
    "### [32. The Captain's Room](https://www.hackerrank.com/challenges/py-the-captains-room/problem)"
   ]
  },
  {
   "cell_type": "code",
   "execution_count": 94,
   "metadata": {},
   "outputs": [
    {
     "name": "stdout",
     "output_type": "stream",
     "text": [
      "5\n",
      "1 2 3 6 5 4 4 2 5 3 6 1 6 5 3 2 4 1 2 5 1 4 3 6 8 4 3 1 5 6 2 \n",
      "8\n"
     ]
    }
   ],
   "source": [
    "K = int(input())\n",
    "room_list = list(map(int,input().split()))\n",
    "\n",
    "s = set()\n",
    "same_s= set()\n",
    "\n",
    "for i in range(len(room_list)):\n",
    "    if room_list[i] in s:\n",
    "        same_s.add(room_list[i])\n",
    "    else:\n",
    "        s.add(room_list[i])\n",
    "    \n",
    "d = s.difference(same_s)\n",
    "\n",
    "for e in d:\n",
    "    print(e)"
   ]
  },
  {
   "cell_type": "markdown",
   "metadata": {},
   "source": [
    "### [33. Check Subset](https://www.hackerrank.com/challenges/py-check-subset/problem?h_r=next-challenge&h_v=zen)"
   ]
  },
  {
   "cell_type": "code",
   "execution_count": 132,
   "metadata": {},
   "outputs": [
    {
     "name": "stdout",
     "output_type": "stream",
     "text": [
      "3\n",
      "5\n",
      "1 2 3 5 6\n",
      "9\n",
      "9 8 5 6 3 2 1 4 7\n",
      "True\n",
      "1\n",
      "2\n",
      "5\n",
      "3 6 5 4 1\n",
      "False\n",
      "7\n",
      "1 2 3 5 6 8 9\n",
      "3\n",
      "9 8 2\n",
      "False\n"
     ]
    }
   ],
   "source": [
    "T = int(input())\n",
    "\n",
    "for e in range(T):\n",
    "    number_setA = int(input())\n",
    "    set_A = set(map(int,input().split()))\n",
    "\n",
    "    number_setB = int(input())\n",
    "    set_B = set(map(int,input().split()))\n",
    "    \n",
    "    if set_A.issubset(set_B):\n",
    "        print(True)\n",
    "        \n",
    "    else:\n",
    "        print(False)"
   ]
  },
  {
   "cell_type": "markdown",
   "metadata": {},
   "source": [
    "### [34. Check Strict Superset](https://www.hackerrank.com/challenges/py-check-strict-superset/problem?h_r=next-challenge&h_v=zen)"
   ]
  },
  {
   "cell_type": "code",
   "execution_count": 135,
   "metadata": {},
   "outputs": [
    {
     "name": "stdout",
     "output_type": "stream",
     "text": [
      "1 2 3 4 5 6 7 8 9 10 11 12 23 45 84 78\n",
      "2\n",
      "1 2 3 4 5\n",
      "100 11 12\n",
      "False\n"
     ]
    }
   ],
   "source": [
    "set_A = set(map(int,input().split()))\n",
    "n_others= int(input())\n",
    "\n",
    "d = set()\n",
    "\n",
    "for e in range(n_others):\n",
    "    s = set(map(int,input().split()))\n",
    "    \n",
    "    if s.issubset(set_A) and len(s)<len(set_A):\n",
    "        d.add(True)\n",
    "        \n",
    "    else:\n",
    "        d.add(False)\n",
    "        \n",
    "if False in d:\n",
    "    print(False)\n",
    "    \n",
    "else:\n",
    "    print(True)"
   ]
  }
 ],
 "metadata": {
  "kernelspec": {
   "display_name": "Python 3",
   "language": "python",
   "name": "python3"
  },
  "language_info": {
   "codemirror_mode": {
    "name": "ipython",
    "version": 3
   },
   "file_extension": ".py",
   "mimetype": "text/x-python",
   "name": "python",
   "nbconvert_exporter": "python",
   "pygments_lexer": "ipython3",
   "version": "3.7.6"
  }
 },
 "nbformat": 4,
 "nbformat_minor": 2
}
